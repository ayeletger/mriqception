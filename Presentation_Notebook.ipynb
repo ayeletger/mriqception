{
 "cells": [
  {
   "cell_type": "code",
   "execution_count": 8,
   "metadata": {},
   "outputs": [],
   "source": [
    "# Import functions #\n",
    "import argparse,datetime,os,sys,time\n",
    "\n",
    "import pandas as pd\n",
    "import plotly.graph_objects as go\n",
    "\n",
    "from tools import load_groupfile, query_api, filterIQM, merge_dfs, make_vio_plot"
   ]
  },
  {
   "cell_type": "code",
   "execution_count": 2,
   "metadata": {},
   "outputs": [],
   "source": [
    "# Arguments #\n",
    "\n",
    "# laziness helper\n",
    "# here = os.path.dirname(os.path.abspath(os.path.realpath(__file__)))\n",
    "here = %pwd\n",
    "\n",
    "# path to input of local data from MRIQC on your own dataset \n",
    "group_file = os.path.join(here,'test_data', 'group2_bold.tsv')\n",
    "\n",
    "# scan type to query the API for [bold, T1w, T2w]\n",
    "modality = 'bold'\n",
    "\n",
    "# any scan parameters that you want to filter the API search results by\n",
    "\"\"\"Current possible filters:\n",
    "   SNR, TSNR, DVAR, FD,\n",
    "   FWHM, Tesla, gsr_x, gsr_y, TE, TR\n",
    "   NOTE: Only working as *and* right now!\n",
    "\"\"\"\n",
    "filter_list = ['TR > 2.0','FD < .3']\n",
    "\n",
    "# IQM variables to visualize\n",
    "IQM_to_plot = ['fwhm_avg','fber','fd_mean','gsr_x']"
   ]
  },
  {
   "cell_type": "code",
   "execution_count": 3,
   "metadata": {},
   "outputs": [
    {
     "name": "stderr",
     "output_type": "stream",
     "text": [
      "/Users/catherinewalsh/Documents/Neurohackademy_2019/mriqception/tools/utils.py:106: FutureWarning:\n",
      "\n",
      "read_table is deprecated, use read_csv instead, passing sep='\\t'.\n",
      "\n"
     ]
    },
    {
     "data": {
      "text/plain": [
       "(142, 45)"
      ]
     },
     "execution_count": 3,
     "metadata": {},
     "output_type": "execute_result"
    }
   ],
   "source": [
    "# Load in your own data # \n",
    "\n",
    "# This should be a .csv or .tsv file outputted from MRIQC on your own data\n",
    "# This will return a pandas dataframe of the MRIQC data from your experiment\n",
    "\n",
    "userdf = load_groupfile(group_file)\n",
    "# userdf.head()\n",
    "userdf.shape"
   ]
  },
  {
   "cell_type": "code",
   "execution_count": 4,
   "metadata": {},
   "outputs": [
    {
     "name": "stdout",
     "output_type": "stream",
     "text": [
      "(1000, 77)\n",
      "(203, 77)\n"
     ]
    }
   ],
   "source": [
    "# Load and filter data from the API # \n",
    "\n",
    "# Figure out which to get from modality arg #\n",
    "T1apicsv = os.path.join(here, 'demo_api', 'T1w_demo.csv')\n",
    "T2apicsv = os.path.join(here, 'demo_api', 'T2w_demo.csv')\n",
    "boldapicsv = os.path.join(here, 'demo_api', 'bold_demo.csv')\n",
    "\n",
    "if modality == 'T1w':\n",
    "    api_file = T1apicsv\n",
    "elif modality == 'T2w':\n",
    "    api_file = T1apicsv\n",
    "elif modality == 'bold':\n",
    "    api_file = boldapicsv\n",
    "\n",
    "# This will return a pandas dataframe with data from all scans of the given scan type\n",
    "# with the given parameters \n",
    "\n",
    "apidf = pd.read_csv(api_file)\n",
    "filtered_apidf = filterIQM(apidf,filter_list)\n",
    "# apidf.head()\n",
    "print(apidf.shape)\n",
    "# filtered_apidf.head()\n",
    "print(filtered_apidf.shape)"
   ]
  },
  {
   "cell_type": "code",
   "execution_count": 5,
   "metadata": {},
   "outputs": [
    {
     "data": {
      "text/plain": [
       "(345, 78)"
      ]
     },
     "execution_count": 5,
     "metadata": {},
     "output_type": "execute_result"
    }
   ],
   "source": [
    "# Merge dataframes # \n",
    "\n",
    "# Takes the user data and API data and merges it into one dataframe \n",
    "# This will return a single pandas dataframe with the local data and API data merged, with a \"group\" measure to allow for a \"groupby\" \n",
    "# this needs to be updated with actual function name and information about how to use  \n",
    "\n",
    "vis_ready_df = merge_dfs(userdf.copy(), filtered_apidf.copy())\n",
    "#print(vis_ready_df.head())\n",
    "#print(vis_ready_df.tail())\n",
    "vis_ready_df.shape\n",
    "\n"
   ]
  },
  {
   "cell_type": "code",
   "execution_count": 10,
   "metadata": {},
   "outputs": [
    {
     "name": "stdout",
     "output_type": "stream",
     "text": [
      "Loading in dataframe...\n",
      "Loading variables: ['fwhm_avg', 'fber', 'fd_mean', 'gsr_x']\n",
      "Loading in data descriptors...\n",
      "before fam color\n",
      "after fam color\n"
     ]
    },
    {
     "data": {
      "application/vnd.plotly.v1+json": {
       "config": {
        "plotlyServerURL": "https://plot.ly"
       },
       "data": [
        {
         "box": {
          "visible": true
         },
         "jitter": 0.1,
         "legendgroup": "user data",
         "line": {
          "color": "green"
         },
         "meanline": {
          "visible": true
         },
         "name": "user data",
         "pointpos": -0.5,
         "points": "all",
         "scalegroup": "user data",
         "side": "negative",
         "type": "violin",
         "x": [
          "fwhm_avg",
          "fwhm_avg",
          "fwhm_avg",
          "fwhm_avg",
          "fwhm_avg",
          "fwhm_avg",
          "fwhm_avg",
          "fwhm_avg",
          "fwhm_avg",
          "fwhm_avg",
          "fwhm_avg",
          "fwhm_avg",
          "fwhm_avg",
          "fwhm_avg",
          "fwhm_avg",
          "fwhm_avg",
          "fwhm_avg",
          "fwhm_avg",
          "fwhm_avg",
          "fwhm_avg",
          "fwhm_avg",
          "fwhm_avg",
          "fwhm_avg",
          "fwhm_avg",
          "fwhm_avg",
          "fwhm_avg",
          "fwhm_avg",
          "fwhm_avg",
          "fwhm_avg",
          "fwhm_avg",
          "fwhm_avg",
          "fwhm_avg",
          "fwhm_avg",
          "fwhm_avg",
          "fwhm_avg",
          "fwhm_avg",
          "fwhm_avg",
          "fwhm_avg",
          "fwhm_avg",
          "fwhm_avg",
          "fwhm_avg",
          "fwhm_avg",
          "fwhm_avg",
          "fwhm_avg",
          "fwhm_avg",
          "fwhm_avg",
          "fwhm_avg",
          "fwhm_avg",
          "fwhm_avg",
          "fwhm_avg",
          "fwhm_avg",
          "fwhm_avg",
          "fwhm_avg",
          "fwhm_avg",
          "fwhm_avg",
          "fwhm_avg",
          "fwhm_avg",
          "fwhm_avg",
          "fwhm_avg",
          "fwhm_avg",
          "fwhm_avg",
          "fwhm_avg",
          "fwhm_avg",
          "fwhm_avg",
          "fwhm_avg",
          "fwhm_avg",
          "fwhm_avg",
          "fwhm_avg",
          "fwhm_avg",
          "fwhm_avg",
          "fwhm_avg",
          "fwhm_avg",
          "fwhm_avg",
          "fwhm_avg",
          "fwhm_avg",
          "fwhm_avg",
          "fwhm_avg",
          "fwhm_avg",
          "fwhm_avg",
          "fwhm_avg",
          "fwhm_avg",
          "fwhm_avg",
          "fwhm_avg",
          "fwhm_avg",
          "fwhm_avg",
          "fwhm_avg",
          "fwhm_avg",
          "fwhm_avg",
          "fwhm_avg",
          "fwhm_avg",
          "fwhm_avg",
          "fwhm_avg",
          "fwhm_avg",
          "fwhm_avg",
          "fwhm_avg",
          "fwhm_avg",
          "fwhm_avg",
          "fwhm_avg",
          "fwhm_avg",
          "fwhm_avg",
          "fwhm_avg",
          "fwhm_avg",
          "fwhm_avg",
          "fwhm_avg",
          "fwhm_avg",
          "fwhm_avg",
          "fwhm_avg",
          "fwhm_avg",
          "fwhm_avg",
          "fwhm_avg",
          "fwhm_avg",
          "fwhm_avg",
          "fwhm_avg",
          "fwhm_avg",
          "fwhm_avg",
          "fwhm_avg",
          "fwhm_avg",
          "fwhm_avg",
          "fwhm_avg",
          "fwhm_avg",
          "fwhm_avg",
          "fwhm_avg",
          "fwhm_avg",
          "fwhm_avg",
          "fwhm_avg",
          "fwhm_avg",
          "fwhm_avg",
          "fwhm_avg",
          "fwhm_avg",
          "fwhm_avg",
          "fwhm_avg",
          "fwhm_avg",
          "fwhm_avg",
          "fwhm_avg",
          "fwhm_avg",
          "fwhm_avg",
          "fwhm_avg",
          "fwhm_avg",
          "fwhm_avg",
          "fwhm_avg",
          "fwhm_avg",
          "fwhm_avg"
         ],
         "y": [
          2.3047325210645764,
          2.5458668048909967,
          2.4120832053453154,
          2.390924566114233,
          2.259567719562147,
          2.2730011111111112,
          2.506793525943802,
          2.2614066666666663,
          2.2536922222222224,
          2.2468545011088628,
          2.322646727656352,
          2.2475137286981384,
          2.3485400000000003,
          2.284658947143824,
          2.410610984527644,
          2.2319521639414237,
          2.2907611111111112,
          2.418490245649275,
          2.4166443831881814,
          2.3057075392547235,
          2.327906606991119,
          2.38523695804166,
          2.254245498831541,
          2.2250912762573423,
          2.22191427952373,
          2.294217605340522,
          2.3864378395828543,
          2.35420357116954,
          2.3626399389240524,
          2.3963345670354124,
          2.204776666666667,
          2.3926377777777783,
          2.4271600610154698,
          2.347213273016969,
          2.341160712353049,
          2.392079079728172,
          2.4657569266574413,
          2.3134060925437208,
          2.310633333333333,
          2.378006666666667,
          2.3395399408822635,
          2.416525131075795,
          2.4447667860603524,
          2.3341012893322204,
          2.2321854968847217,
          2.443313699393977,
          2.3228577175182816,
          2.2739411685051785,
          2.3519344444444443,
          2.3944256169349227,
          2.3296011111111112,
          2.416914505797497,
          2.4942854923368434,
          2.392078769638056,
          2.3053522790715477,
          2.3997233333333337,
          2.3185022222222225,
          2.37749765943794,
          2.650830477152931,
          2.377753517570804,
          2.351886784968748,
          2.292339246202745,
          2.489447840316036,
          2.2426798305032394,
          2.222086893007209,
          2.438477964159692,
          2.288555613589556,
          2.2697378357700995,
          2.4911855555555555,
          2.3337511111111118,
          2.3136,
          2.184506837059962,
          2.5068043827694484,
          2.418277904285345,
          2.2160990587187217,
          2.2338131068339893,
          2.466490062105484,
          2.3186452052963538,
          2.3403567253670907,
          2.3788869624890507,
          2.4506557484259006,
          2.438931049885578,
          2.3277595771248842,
          2.3318900587473137,
          2.339281171255293,
          2.3377889478997,
          2.3172843844463253,
          2.2326966666666666,
          2.4597477142515944,
          2.3318265472355786,
          2.2627944444444448,
          2.305776842695914,
          2.2162988888888893,
          2.310835555555556,
          2.503805489774904,
          2.3877486515257846,
          2.371504687851171,
          2.409993578055071,
          2.2550233333333334,
          2.557222157647438,
          2.2962789483001544,
          2.30843216378548,
          2.2887602884080054,
          2.2288127262847586,
          2.4783322222222224,
          2.4408564805428634,
          2.3475634542421253,
          2.2921912294575213,
          2.3903756753568492,
          2.3073840302391058,
          2.432287473308543,
          2.452707714425816,
          2.3742375941857143,
          2.3646689487332817,
          2.3460666666666667,
          2.5623945783385733,
          2.428458950435413,
          2.3248866062966145,
          2.3393377182671813,
          2.3843908127383253,
          2.293110295327445,
          2.3283431005220803,
          2.4602210499199284,
          2.424009816543834,
          2.266436551608704,
          2.3407256142841493,
          2.223355611558848,
          2.2275667224461992,
          2.3690744444444447,
          2.384093392435008,
          2.4084150705086294,
          2.4082054951972482,
          2.60065006206822,
          2.3515045048253675,
          2.3183890076233027,
          2.3657789486295253,
          2.3410469003692245,
          2.4331599403925344,
          2.4397599391639715,
          2.5896218383351144,
          2.3669697572680644,
          2.776843469636727
         ]
        },
        {
         "box": {
          "visible": true
         },
         "legendgroup": "api",
         "line": {
          "color": "gray"
         },
         "meanline": {
          "visible": true
         },
         "name": "api",
         "scalegroup": "api",
         "side": "positive",
         "type": "violin",
         "x": [
          "fwhm_avg",
          "fwhm_avg",
          "fwhm_avg",
          "fwhm_avg",
          "fwhm_avg",
          "fwhm_avg",
          "fwhm_avg",
          "fwhm_avg",
          "fwhm_avg",
          "fwhm_avg",
          "fwhm_avg",
          "fwhm_avg",
          "fwhm_avg",
          "fwhm_avg",
          "fwhm_avg",
          "fwhm_avg",
          "fwhm_avg",
          "fwhm_avg",
          "fwhm_avg",
          "fwhm_avg",
          "fwhm_avg",
          "fwhm_avg",
          "fwhm_avg",
          "fwhm_avg",
          "fwhm_avg",
          "fwhm_avg",
          "fwhm_avg",
          "fwhm_avg",
          "fwhm_avg",
          "fwhm_avg",
          "fwhm_avg",
          "fwhm_avg",
          "fwhm_avg",
          "fwhm_avg",
          "fwhm_avg",
          "fwhm_avg",
          "fwhm_avg",
          "fwhm_avg",
          "fwhm_avg",
          "fwhm_avg",
          "fwhm_avg",
          "fwhm_avg",
          "fwhm_avg",
          "fwhm_avg",
          "fwhm_avg",
          "fwhm_avg",
          "fwhm_avg",
          "fwhm_avg",
          "fwhm_avg",
          "fwhm_avg",
          "fwhm_avg",
          "fwhm_avg",
          "fwhm_avg",
          "fwhm_avg",
          "fwhm_avg",
          "fwhm_avg",
          "fwhm_avg",
          "fwhm_avg",
          "fwhm_avg",
          "fwhm_avg",
          "fwhm_avg",
          "fwhm_avg",
          "fwhm_avg",
          "fwhm_avg",
          "fwhm_avg",
          "fwhm_avg",
          "fwhm_avg",
          "fwhm_avg",
          "fwhm_avg",
          "fwhm_avg",
          "fwhm_avg",
          "fwhm_avg",
          "fwhm_avg",
          "fwhm_avg",
          "fwhm_avg",
          "fwhm_avg",
          "fwhm_avg",
          "fwhm_avg",
          "fwhm_avg",
          "fwhm_avg",
          "fwhm_avg",
          "fwhm_avg",
          "fwhm_avg",
          "fwhm_avg",
          "fwhm_avg",
          "fwhm_avg",
          "fwhm_avg",
          "fwhm_avg",
          "fwhm_avg",
          "fwhm_avg",
          "fwhm_avg",
          "fwhm_avg",
          "fwhm_avg",
          "fwhm_avg",
          "fwhm_avg",
          "fwhm_avg",
          "fwhm_avg",
          "fwhm_avg",
          "fwhm_avg",
          "fwhm_avg",
          "fwhm_avg",
          "fwhm_avg",
          "fwhm_avg",
          "fwhm_avg",
          "fwhm_avg",
          "fwhm_avg",
          "fwhm_avg",
          "fwhm_avg",
          "fwhm_avg",
          "fwhm_avg",
          "fwhm_avg",
          "fwhm_avg",
          "fwhm_avg",
          "fwhm_avg",
          "fwhm_avg",
          "fwhm_avg",
          "fwhm_avg",
          "fwhm_avg",
          "fwhm_avg",
          "fwhm_avg",
          "fwhm_avg",
          "fwhm_avg",
          "fwhm_avg",
          "fwhm_avg",
          "fwhm_avg",
          "fwhm_avg",
          "fwhm_avg",
          "fwhm_avg",
          "fwhm_avg",
          "fwhm_avg",
          "fwhm_avg",
          "fwhm_avg",
          "fwhm_avg",
          "fwhm_avg",
          "fwhm_avg",
          "fwhm_avg",
          "fwhm_avg",
          "fwhm_avg",
          "fwhm_avg",
          "fwhm_avg",
          "fwhm_avg",
          "fwhm_avg",
          "fwhm_avg",
          "fwhm_avg",
          "fwhm_avg",
          "fwhm_avg",
          "fwhm_avg",
          "fwhm_avg",
          "fwhm_avg",
          "fwhm_avg",
          "fwhm_avg",
          "fwhm_avg",
          "fwhm_avg",
          "fwhm_avg",
          "fwhm_avg",
          "fwhm_avg",
          "fwhm_avg",
          "fwhm_avg",
          "fwhm_avg",
          "fwhm_avg",
          "fwhm_avg",
          "fwhm_avg",
          "fwhm_avg",
          "fwhm_avg",
          "fwhm_avg",
          "fwhm_avg",
          "fwhm_avg",
          "fwhm_avg",
          "fwhm_avg",
          "fwhm_avg",
          "fwhm_avg",
          "fwhm_avg",
          "fwhm_avg",
          "fwhm_avg",
          "fwhm_avg",
          "fwhm_avg",
          "fwhm_avg",
          "fwhm_avg",
          "fwhm_avg",
          "fwhm_avg",
          "fwhm_avg",
          "fwhm_avg",
          "fwhm_avg",
          "fwhm_avg",
          "fwhm_avg",
          "fwhm_avg",
          "fwhm_avg",
          "fwhm_avg",
          "fwhm_avg",
          "fwhm_avg",
          "fwhm_avg",
          "fwhm_avg",
          "fwhm_avg",
          "fwhm_avg",
          "fwhm_avg",
          "fwhm_avg",
          "fwhm_avg",
          "fwhm_avg",
          "fwhm_avg",
          "fwhm_avg",
          "fwhm_avg",
          "fwhm_avg",
          "fwhm_avg"
         ],
         "y": [
          2.247779855,
          2.302011631,
          2.2287320580000003,
          2.191558304,
          2.422771091,
          2.360310939,
          2.239349088,
          2.237054547,
          2.2491731280000002,
          2.378931156,
          2.319948301,
          2.2506983419999997,
          2.251212115,
          2.335585258,
          2.3270287990000003,
          2.283311991,
          2.380898311,
          2.262511253,
          2.223529797,
          2.262854337,
          2.258937345,
          2.241289719,
          2.273149854,
          2.197989875,
          2.312638969,
          2.339020446,
          2.282144299,
          2.357316461,
          2.316472741,
          2.2900063090000002,
          null,
          2.420681206,
          2.246483552,
          2.344183741,
          2.444336292,
          2.355069757,
          2.323543264,
          2.322903456,
          2.26145449,
          2.263091005,
          2.2685217890000002,
          2.247351081,
          2.307994083,
          2.258404929,
          2.277617019,
          2.267693513,
          2.227422651,
          2.306724581,
          2.284250618,
          2.346861288,
          2.236592671,
          2.235597844,
          2.4280552280000003,
          2.237465755,
          2.2803280530000003,
          2.2470674969999997,
          2.250756714,
          2.28619307,
          2.192902825,
          null,
          2.381871518,
          2.2965468419999997,
          2.219722939,
          2.218862058,
          2.326351749,
          2.247826962,
          2.166919224,
          2.332007841,
          2.343277412,
          2.262721387,
          2.229503647,
          2.235556235,
          2.24761248,
          2.253605391,
          2.287807895,
          2.280244414,
          2.351147151,
          2.330197442,
          2.210113093,
          2.329327649,
          2.1961234380000003,
          2.2635768659999997,
          2.245626829,
          2.342521595,
          null,
          2.2976767469999997,
          2.231613571,
          2.2215995680000002,
          2.228619604,
          2.251605774,
          2.262616693,
          2.264698759,
          2.238861904,
          2.2351318669999998,
          2.3441580330000003,
          2.245621024,
          2.2158768859999998,
          2.3433073269999998,
          2.434988715,
          2.2357223630000003,
          2.37719364,
          2.332779855,
          null,
          2.334932899,
          2.305144431,
          2.229562345,
          2.367763127,
          2.361397326,
          2.341558871,
          2.183605009,
          2.257700659,
          2.36020397,
          2.312759642,
          2.324233205,
          2.355483534,
          2.320943887,
          2.293316656,
          2.338022932,
          2.262608705,
          2.324241962,
          2.211336465,
          2.196875546,
          2.334955027,
          2.190782097,
          2.330140784,
          2.288128148,
          2.251642288,
          2.425232496,
          2.334475653,
          2.314140315,
          2.401156291,
          2.323981098,
          2.309274312,
          2.2698276319999997,
          2.192583017,
          2.338667151,
          2.241955601,
          2.34358227,
          2.283598973,
          2.386403966,
          2.267963168,
          2.259101709,
          2.280271635,
          2.287661903,
          2.310066249,
          2.355474424,
          2.330943341,
          2.2686598730000003,
          2.315764491,
          2.301642972,
          2.253256424,
          2.386489739,
          2.430961014,
          2.325208569,
          2.207175316,
          2.343858262,
          2.32782742,
          2.310157186,
          2.353205886,
          2.336117719,
          2.313096729,
          2.267996536,
          2.260978034,
          2.165681523,
          2.270657977,
          2.32191845,
          2.227648764,
          2.456689587,
          null,
          2.299599406,
          null,
          null,
          null,
          null,
          2.327141106,
          2.285399934,
          2.271612222,
          2.292621111,
          2.280905556,
          2.257280988,
          2.217189879,
          2.246320988,
          2.266387663,
          2.300419884,
          2.210038777,
          2.224634444,
          2.308586541,
          2.215754444,
          2.320743207,
          2.338378762,
          2.198397778,
          2.257543274,
          2.254357712,
          2.294904377,
          2.254603399,
          2.2531433990000003,
          2.246262287,
          2.144721111,
          2.171417778,
          2.175225556,
          2.174558889,
          2.202341111,
          2.210212222
         ]
        }
       ],
       "layout": {
        "autosize": false,
        "height": 600,
        "template": {
         "data": {
          "bar": [
           {
            "error_x": {
             "color": "#2a3f5f"
            },
            "error_y": {
             "color": "#2a3f5f"
            },
            "marker": {
             "line": {
              "color": "white",
              "width": 0.5
             }
            },
            "type": "bar"
           }
          ],
          "barpolar": [
           {
            "marker": {
             "line": {
              "color": "white",
              "width": 0.5
             }
            },
            "type": "barpolar"
           }
          ],
          "carpet": [
           {
            "aaxis": {
             "endlinecolor": "#2a3f5f",
             "gridcolor": "#C8D4E3",
             "linecolor": "#C8D4E3",
             "minorgridcolor": "#C8D4E3",
             "startlinecolor": "#2a3f5f"
            },
            "baxis": {
             "endlinecolor": "#2a3f5f",
             "gridcolor": "#C8D4E3",
             "linecolor": "#C8D4E3",
             "minorgridcolor": "#C8D4E3",
             "startlinecolor": "#2a3f5f"
            },
            "type": "carpet"
           }
          ],
          "choropleth": [
           {
            "colorbar": {
             "outlinewidth": 0,
             "ticks": ""
            },
            "type": "choropleth"
           }
          ],
          "contour": [
           {
            "colorbar": {
             "outlinewidth": 0,
             "ticks": ""
            },
            "colorscale": [
             [
              0,
              "#0d0887"
             ],
             [
              0.1111111111111111,
              "#46039f"
             ],
             [
              0.2222222222222222,
              "#7201a8"
             ],
             [
              0.3333333333333333,
              "#9c179e"
             ],
             [
              0.4444444444444444,
              "#bd3786"
             ],
             [
              0.5555555555555556,
              "#d8576b"
             ],
             [
              0.6666666666666666,
              "#ed7953"
             ],
             [
              0.7777777777777778,
              "#fb9f3a"
             ],
             [
              0.8888888888888888,
              "#fdca26"
             ],
             [
              1,
              "#f0f921"
             ]
            ],
            "type": "contour"
           }
          ],
          "contourcarpet": [
           {
            "colorbar": {
             "outlinewidth": 0,
             "ticks": ""
            },
            "type": "contourcarpet"
           }
          ],
          "heatmap": [
           {
            "colorbar": {
             "outlinewidth": 0,
             "ticks": ""
            },
            "colorscale": [
             [
              0,
              "#0d0887"
             ],
             [
              0.1111111111111111,
              "#46039f"
             ],
             [
              0.2222222222222222,
              "#7201a8"
             ],
             [
              0.3333333333333333,
              "#9c179e"
             ],
             [
              0.4444444444444444,
              "#bd3786"
             ],
             [
              0.5555555555555556,
              "#d8576b"
             ],
             [
              0.6666666666666666,
              "#ed7953"
             ],
             [
              0.7777777777777778,
              "#fb9f3a"
             ],
             [
              0.8888888888888888,
              "#fdca26"
             ],
             [
              1,
              "#f0f921"
             ]
            ],
            "type": "heatmap"
           }
          ],
          "heatmapgl": [
           {
            "colorbar": {
             "outlinewidth": 0,
             "ticks": ""
            },
            "colorscale": [
             [
              0,
              "#0d0887"
             ],
             [
              0.1111111111111111,
              "#46039f"
             ],
             [
              0.2222222222222222,
              "#7201a8"
             ],
             [
              0.3333333333333333,
              "#9c179e"
             ],
             [
              0.4444444444444444,
              "#bd3786"
             ],
             [
              0.5555555555555556,
              "#d8576b"
             ],
             [
              0.6666666666666666,
              "#ed7953"
             ],
             [
              0.7777777777777778,
              "#fb9f3a"
             ],
             [
              0.8888888888888888,
              "#fdca26"
             ],
             [
              1,
              "#f0f921"
             ]
            ],
            "type": "heatmapgl"
           }
          ],
          "histogram": [
           {
            "marker": {
             "colorbar": {
              "outlinewidth": 0,
              "ticks": ""
             }
            },
            "type": "histogram"
           }
          ],
          "histogram2d": [
           {
            "colorbar": {
             "outlinewidth": 0,
             "ticks": ""
            },
            "colorscale": [
             [
              0,
              "#0d0887"
             ],
             [
              0.1111111111111111,
              "#46039f"
             ],
             [
              0.2222222222222222,
              "#7201a8"
             ],
             [
              0.3333333333333333,
              "#9c179e"
             ],
             [
              0.4444444444444444,
              "#bd3786"
             ],
             [
              0.5555555555555556,
              "#d8576b"
             ],
             [
              0.6666666666666666,
              "#ed7953"
             ],
             [
              0.7777777777777778,
              "#fb9f3a"
             ],
             [
              0.8888888888888888,
              "#fdca26"
             ],
             [
              1,
              "#f0f921"
             ]
            ],
            "type": "histogram2d"
           }
          ],
          "histogram2dcontour": [
           {
            "colorbar": {
             "outlinewidth": 0,
             "ticks": ""
            },
            "colorscale": [
             [
              0,
              "#0d0887"
             ],
             [
              0.1111111111111111,
              "#46039f"
             ],
             [
              0.2222222222222222,
              "#7201a8"
             ],
             [
              0.3333333333333333,
              "#9c179e"
             ],
             [
              0.4444444444444444,
              "#bd3786"
             ],
             [
              0.5555555555555556,
              "#d8576b"
             ],
             [
              0.6666666666666666,
              "#ed7953"
             ],
             [
              0.7777777777777778,
              "#fb9f3a"
             ],
             [
              0.8888888888888888,
              "#fdca26"
             ],
             [
              1,
              "#f0f921"
             ]
            ],
            "type": "histogram2dcontour"
           }
          ],
          "mesh3d": [
           {
            "colorbar": {
             "outlinewidth": 0,
             "ticks": ""
            },
            "type": "mesh3d"
           }
          ],
          "parcoords": [
           {
            "line": {
             "colorbar": {
              "outlinewidth": 0,
              "ticks": ""
             }
            },
            "type": "parcoords"
           }
          ],
          "scatter": [
           {
            "marker": {
             "colorbar": {
              "outlinewidth": 0,
              "ticks": ""
             }
            },
            "type": "scatter"
           }
          ],
          "scatter3d": [
           {
            "line": {
             "colorbar": {
              "outlinewidth": 0,
              "ticks": ""
             }
            },
            "marker": {
             "colorbar": {
              "outlinewidth": 0,
              "ticks": ""
             }
            },
            "type": "scatter3d"
           }
          ],
          "scattercarpet": [
           {
            "marker": {
             "colorbar": {
              "outlinewidth": 0,
              "ticks": ""
             }
            },
            "type": "scattercarpet"
           }
          ],
          "scattergeo": [
           {
            "marker": {
             "colorbar": {
              "outlinewidth": 0,
              "ticks": ""
             }
            },
            "type": "scattergeo"
           }
          ],
          "scattergl": [
           {
            "marker": {
             "colorbar": {
              "outlinewidth": 0,
              "ticks": ""
             }
            },
            "type": "scattergl"
           }
          ],
          "scattermapbox": [
           {
            "marker": {
             "colorbar": {
              "outlinewidth": 0,
              "ticks": ""
             }
            },
            "type": "scattermapbox"
           }
          ],
          "scatterpolar": [
           {
            "marker": {
             "colorbar": {
              "outlinewidth": 0,
              "ticks": ""
             }
            },
            "type": "scatterpolar"
           }
          ],
          "scatterpolargl": [
           {
            "marker": {
             "colorbar": {
              "outlinewidth": 0,
              "ticks": ""
             }
            },
            "type": "scatterpolargl"
           }
          ],
          "scatterternary": [
           {
            "marker": {
             "colorbar": {
              "outlinewidth": 0,
              "ticks": ""
             }
            },
            "type": "scatterternary"
           }
          ],
          "surface": [
           {
            "colorbar": {
             "outlinewidth": 0,
             "ticks": ""
            },
            "colorscale": [
             [
              0,
              "#0d0887"
             ],
             [
              0.1111111111111111,
              "#46039f"
             ],
             [
              0.2222222222222222,
              "#7201a8"
             ],
             [
              0.3333333333333333,
              "#9c179e"
             ],
             [
              0.4444444444444444,
              "#bd3786"
             ],
             [
              0.5555555555555556,
              "#d8576b"
             ],
             [
              0.6666666666666666,
              "#ed7953"
             ],
             [
              0.7777777777777778,
              "#fb9f3a"
             ],
             [
              0.8888888888888888,
              "#fdca26"
             ],
             [
              1,
              "#f0f921"
             ]
            ],
            "type": "surface"
           }
          ],
          "table": [
           {
            "cells": {
             "fill": {
              "color": "#EBF0F8"
             },
             "line": {
              "color": "white"
             }
            },
            "header": {
             "fill": {
              "color": "#C8D4E3"
             },
             "line": {
              "color": "white"
             }
            },
            "type": "table"
           }
          ]
         },
         "layout": {
          "annotationdefaults": {
           "arrowcolor": "#2a3f5f",
           "arrowhead": 0,
           "arrowwidth": 1
          },
          "colorscale": {
           "diverging": [
            [
             0,
             "#8e0152"
            ],
            [
             0.1,
             "#c51b7d"
            ],
            [
             0.2,
             "#de77ae"
            ],
            [
             0.3,
             "#f1b6da"
            ],
            [
             0.4,
             "#fde0ef"
            ],
            [
             0.5,
             "#f7f7f7"
            ],
            [
             0.6,
             "#e6f5d0"
            ],
            [
             0.7,
             "#b8e186"
            ],
            [
             0.8,
             "#7fbc41"
            ],
            [
             0.9,
             "#4d9221"
            ],
            [
             1,
             "#276419"
            ]
           ],
           "sequential": [
            [
             0,
             "#0d0887"
            ],
            [
             0.1111111111111111,
             "#46039f"
            ],
            [
             0.2222222222222222,
             "#7201a8"
            ],
            [
             0.3333333333333333,
             "#9c179e"
            ],
            [
             0.4444444444444444,
             "#bd3786"
            ],
            [
             0.5555555555555556,
             "#d8576b"
            ],
            [
             0.6666666666666666,
             "#ed7953"
            ],
            [
             0.7777777777777778,
             "#fb9f3a"
            ],
            [
             0.8888888888888888,
             "#fdca26"
            ],
            [
             1,
             "#f0f921"
            ]
           ],
           "sequentialminus": [
            [
             0,
             "#0d0887"
            ],
            [
             0.1111111111111111,
             "#46039f"
            ],
            [
             0.2222222222222222,
             "#7201a8"
            ],
            [
             0.3333333333333333,
             "#9c179e"
            ],
            [
             0.4444444444444444,
             "#bd3786"
            ],
            [
             0.5555555555555556,
             "#d8576b"
            ],
            [
             0.6666666666666666,
             "#ed7953"
            ],
            [
             0.7777777777777778,
             "#fb9f3a"
            ],
            [
             0.8888888888888888,
             "#fdca26"
            ],
            [
             1,
             "#f0f921"
            ]
           ]
          },
          "colorway": [
           "#636efa",
           "#EF553B",
           "#00cc96",
           "#ab63fa",
           "#FFA15A",
           "#19d3f3",
           "#FF6692",
           "#B6E880",
           "#FF97FF",
           "#FECB52"
          ],
          "font": {
           "color": "#2a3f5f"
          },
          "geo": {
           "bgcolor": "white",
           "lakecolor": "white",
           "landcolor": "white",
           "showlakes": true,
           "showland": true,
           "subunitcolor": "#C8D4E3"
          },
          "hoverlabel": {
           "align": "left"
          },
          "hovermode": "closest",
          "mapbox": {
           "style": "light"
          },
          "paper_bgcolor": "white",
          "plot_bgcolor": "white",
          "polar": {
           "angularaxis": {
            "gridcolor": "#EBF0F8",
            "linecolor": "#EBF0F8",
            "ticks": ""
           },
           "bgcolor": "white",
           "radialaxis": {
            "gridcolor": "#EBF0F8",
            "linecolor": "#EBF0F8",
            "ticks": ""
           }
          },
          "scene": {
           "xaxis": {
            "backgroundcolor": "white",
            "gridcolor": "#DFE8F3",
            "gridwidth": 2,
            "linecolor": "#EBF0F8",
            "showbackground": true,
            "ticks": "",
            "zerolinecolor": "#EBF0F8"
           },
           "yaxis": {
            "backgroundcolor": "white",
            "gridcolor": "#DFE8F3",
            "gridwidth": 2,
            "linecolor": "#EBF0F8",
            "showbackground": true,
            "ticks": "",
            "zerolinecolor": "#EBF0F8"
           },
           "zaxis": {
            "backgroundcolor": "white",
            "gridcolor": "#DFE8F3",
            "gridwidth": 2,
            "linecolor": "#EBF0F8",
            "showbackground": true,
            "ticks": "",
            "zerolinecolor": "#EBF0F8"
           }
          },
          "shapedefaults": {
           "line": {
            "color": "#2a3f5f"
           }
          },
          "ternary": {
           "aaxis": {
            "gridcolor": "#DFE8F3",
            "linecolor": "#A2B1C6",
            "ticks": ""
           },
           "baxis": {
            "gridcolor": "#DFE8F3",
            "linecolor": "#A2B1C6",
            "ticks": ""
           },
           "bgcolor": "white",
           "caxis": {
            "gridcolor": "#DFE8F3",
            "linecolor": "#A2B1C6",
            "ticks": ""
           }
          },
          "title": {
           "x": 0.05
          },
          "xaxis": {
           "automargin": true,
           "gridcolor": "#EBF0F8",
           "linecolor": "#EBF0F8",
           "ticks": "",
           "zerolinecolor": "#EBF0F8",
           "zerolinewidth": 2
          },
          "yaxis": {
           "automargin": true,
           "gridcolor": "#EBF0F8",
           "linecolor": "#EBF0F8",
           "ticks": "",
           "zerolinecolor": "#EBF0F8",
           "zerolinewidth": 2
          }
         }
        },
        "width": 600
       }
      },
      "text/html": [
       "<div>\n",
       "        \n",
       "        \n",
       "            <div id=\"e2f030ba-0c09-466d-8811-13badd0f11a0\" class=\"plotly-graph-div\" style=\"height:600px; width:600px;\"></div>\n",
       "            <script type=\"text/javascript\">\n",
       "                require([\"plotly\"], function(Plotly) {\n",
       "                    window.PLOTLYENV=window.PLOTLYENV || {};\n",
       "                    \n",
       "                if (document.getElementById(\"e2f030ba-0c09-466d-8811-13badd0f11a0\")) {\n",
       "                    Plotly.newPlot(\n",
       "                        'e2f030ba-0c09-466d-8811-13badd0f11a0',\n",
       "                        [{\"box\": {\"visible\": true}, \"jitter\": 0.1, \"legendgroup\": \"user data\", \"line\": {\"color\": \"green\"}, \"meanline\": {\"visible\": true}, \"name\": \"user data\", \"pointpos\": -0.5, \"points\": \"all\", \"scalegroup\": \"user data\", \"side\": \"negative\", \"type\": \"violin\", \"x\": [\"fwhm_avg\", \"fwhm_avg\", \"fwhm_avg\", \"fwhm_avg\", \"fwhm_avg\", \"fwhm_avg\", \"fwhm_avg\", \"fwhm_avg\", \"fwhm_avg\", \"fwhm_avg\", \"fwhm_avg\", \"fwhm_avg\", \"fwhm_avg\", \"fwhm_avg\", \"fwhm_avg\", \"fwhm_avg\", \"fwhm_avg\", \"fwhm_avg\", \"fwhm_avg\", \"fwhm_avg\", \"fwhm_avg\", \"fwhm_avg\", \"fwhm_avg\", \"fwhm_avg\", \"fwhm_avg\", \"fwhm_avg\", \"fwhm_avg\", \"fwhm_avg\", \"fwhm_avg\", \"fwhm_avg\", \"fwhm_avg\", \"fwhm_avg\", \"fwhm_avg\", \"fwhm_avg\", \"fwhm_avg\", \"fwhm_avg\", \"fwhm_avg\", \"fwhm_avg\", \"fwhm_avg\", \"fwhm_avg\", \"fwhm_avg\", \"fwhm_avg\", \"fwhm_avg\", \"fwhm_avg\", \"fwhm_avg\", \"fwhm_avg\", \"fwhm_avg\", \"fwhm_avg\", \"fwhm_avg\", \"fwhm_avg\", \"fwhm_avg\", \"fwhm_avg\", \"fwhm_avg\", \"fwhm_avg\", \"fwhm_avg\", \"fwhm_avg\", \"fwhm_avg\", \"fwhm_avg\", \"fwhm_avg\", \"fwhm_avg\", \"fwhm_avg\", \"fwhm_avg\", \"fwhm_avg\", \"fwhm_avg\", \"fwhm_avg\", \"fwhm_avg\", \"fwhm_avg\", \"fwhm_avg\", \"fwhm_avg\", \"fwhm_avg\", \"fwhm_avg\", \"fwhm_avg\", \"fwhm_avg\", \"fwhm_avg\", \"fwhm_avg\", \"fwhm_avg\", \"fwhm_avg\", \"fwhm_avg\", \"fwhm_avg\", \"fwhm_avg\", \"fwhm_avg\", \"fwhm_avg\", \"fwhm_avg\", \"fwhm_avg\", \"fwhm_avg\", \"fwhm_avg\", \"fwhm_avg\", \"fwhm_avg\", \"fwhm_avg\", \"fwhm_avg\", \"fwhm_avg\", \"fwhm_avg\", \"fwhm_avg\", \"fwhm_avg\", \"fwhm_avg\", \"fwhm_avg\", \"fwhm_avg\", \"fwhm_avg\", \"fwhm_avg\", \"fwhm_avg\", \"fwhm_avg\", \"fwhm_avg\", \"fwhm_avg\", \"fwhm_avg\", \"fwhm_avg\", \"fwhm_avg\", \"fwhm_avg\", \"fwhm_avg\", \"fwhm_avg\", \"fwhm_avg\", \"fwhm_avg\", \"fwhm_avg\", \"fwhm_avg\", \"fwhm_avg\", \"fwhm_avg\", \"fwhm_avg\", \"fwhm_avg\", \"fwhm_avg\", \"fwhm_avg\", \"fwhm_avg\", \"fwhm_avg\", \"fwhm_avg\", \"fwhm_avg\", \"fwhm_avg\", \"fwhm_avg\", \"fwhm_avg\", \"fwhm_avg\", \"fwhm_avg\", \"fwhm_avg\", \"fwhm_avg\", \"fwhm_avg\", \"fwhm_avg\", \"fwhm_avg\", \"fwhm_avg\", \"fwhm_avg\", \"fwhm_avg\", \"fwhm_avg\", \"fwhm_avg\", \"fwhm_avg\", \"fwhm_avg\", \"fwhm_avg\", \"fwhm_avg\"], \"y\": [2.3047325210645764, 2.5458668048909967, 2.4120832053453154, 2.390924566114233, 2.259567719562147, 2.2730011111111112, 2.506793525943802, 2.2614066666666663, 2.2536922222222224, 2.2468545011088628, 2.322646727656352, 2.2475137286981384, 2.3485400000000003, 2.284658947143824, 2.410610984527644, 2.2319521639414237, 2.2907611111111112, 2.418490245649275, 2.4166443831881814, 2.3057075392547235, 2.327906606991119, 2.38523695804166, 2.254245498831541, 2.2250912762573423, 2.22191427952373, 2.294217605340522, 2.3864378395828543, 2.35420357116954, 2.3626399389240524, 2.3963345670354124, 2.204776666666667, 2.3926377777777783, 2.4271600610154698, 2.347213273016969, 2.341160712353049, 2.392079079728172, 2.4657569266574413, 2.3134060925437208, 2.310633333333333, 2.378006666666667, 2.3395399408822635, 2.416525131075795, 2.4447667860603524, 2.3341012893322204, 2.2321854968847217, 2.443313699393977, 2.3228577175182816, 2.2739411685051785, 2.3519344444444443, 2.3944256169349227, 2.3296011111111112, 2.416914505797497, 2.4942854923368434, 2.392078769638056, 2.3053522790715477, 2.3997233333333337, 2.3185022222222225, 2.37749765943794, 2.650830477152931, 2.377753517570804, 2.351886784968748, 2.292339246202745, 2.489447840316036, 2.2426798305032394, 2.222086893007209, 2.438477964159692, 2.288555613589556, 2.2697378357700995, 2.4911855555555555, 2.3337511111111118, 2.3136, 2.184506837059962, 2.5068043827694484, 2.418277904285345, 2.2160990587187217, 2.2338131068339893, 2.466490062105484, 2.3186452052963538, 2.3403567253670907, 2.3788869624890507, 2.4506557484259006, 2.438931049885578, 2.3277595771248842, 2.3318900587473137, 2.339281171255293, 2.3377889478997, 2.3172843844463253, 2.2326966666666666, 2.4597477142515944, 2.3318265472355786, 2.2627944444444448, 2.305776842695914, 2.2162988888888893, 2.310835555555556, 2.503805489774904, 2.3877486515257846, 2.371504687851171, 2.409993578055071, 2.2550233333333334, 2.557222157647438, 2.2962789483001544, 2.30843216378548, 2.2887602884080054, 2.2288127262847586, 2.4783322222222224, 2.4408564805428634, 2.3475634542421253, 2.2921912294575213, 2.3903756753568492, 2.3073840302391058, 2.432287473308543, 2.452707714425816, 2.3742375941857143, 2.3646689487332817, 2.3460666666666667, 2.5623945783385733, 2.428458950435413, 2.3248866062966145, 2.3393377182671813, 2.3843908127383253, 2.293110295327445, 2.3283431005220803, 2.4602210499199284, 2.424009816543834, 2.266436551608704, 2.3407256142841493, 2.223355611558848, 2.2275667224461992, 2.3690744444444447, 2.384093392435008, 2.4084150705086294, 2.4082054951972482, 2.60065006206822, 2.3515045048253675, 2.3183890076233027, 2.3657789486295253, 2.3410469003692245, 2.4331599403925344, 2.4397599391639715, 2.5896218383351144, 2.3669697572680644, 2.776843469636727]}, {\"box\": {\"visible\": true}, \"legendgroup\": \"api\", \"line\": {\"color\": \"gray\"}, \"meanline\": {\"visible\": true}, \"name\": \"api\", \"scalegroup\": \"api\", \"side\": \"positive\", \"type\": \"violin\", \"x\": [\"fwhm_avg\", \"fwhm_avg\", \"fwhm_avg\", \"fwhm_avg\", \"fwhm_avg\", \"fwhm_avg\", \"fwhm_avg\", \"fwhm_avg\", \"fwhm_avg\", \"fwhm_avg\", \"fwhm_avg\", \"fwhm_avg\", \"fwhm_avg\", \"fwhm_avg\", \"fwhm_avg\", \"fwhm_avg\", \"fwhm_avg\", \"fwhm_avg\", \"fwhm_avg\", \"fwhm_avg\", \"fwhm_avg\", \"fwhm_avg\", \"fwhm_avg\", \"fwhm_avg\", \"fwhm_avg\", \"fwhm_avg\", \"fwhm_avg\", \"fwhm_avg\", \"fwhm_avg\", \"fwhm_avg\", \"fwhm_avg\", \"fwhm_avg\", \"fwhm_avg\", \"fwhm_avg\", \"fwhm_avg\", \"fwhm_avg\", \"fwhm_avg\", \"fwhm_avg\", \"fwhm_avg\", \"fwhm_avg\", \"fwhm_avg\", \"fwhm_avg\", \"fwhm_avg\", \"fwhm_avg\", \"fwhm_avg\", \"fwhm_avg\", \"fwhm_avg\", \"fwhm_avg\", \"fwhm_avg\", \"fwhm_avg\", \"fwhm_avg\", \"fwhm_avg\", \"fwhm_avg\", \"fwhm_avg\", \"fwhm_avg\", \"fwhm_avg\", \"fwhm_avg\", \"fwhm_avg\", \"fwhm_avg\", \"fwhm_avg\", \"fwhm_avg\", \"fwhm_avg\", \"fwhm_avg\", \"fwhm_avg\", \"fwhm_avg\", \"fwhm_avg\", \"fwhm_avg\", \"fwhm_avg\", \"fwhm_avg\", \"fwhm_avg\", \"fwhm_avg\", \"fwhm_avg\", \"fwhm_avg\", \"fwhm_avg\", \"fwhm_avg\", \"fwhm_avg\", \"fwhm_avg\", \"fwhm_avg\", \"fwhm_avg\", \"fwhm_avg\", \"fwhm_avg\", \"fwhm_avg\", \"fwhm_avg\", \"fwhm_avg\", \"fwhm_avg\", \"fwhm_avg\", \"fwhm_avg\", \"fwhm_avg\", \"fwhm_avg\", \"fwhm_avg\", \"fwhm_avg\", \"fwhm_avg\", \"fwhm_avg\", \"fwhm_avg\", \"fwhm_avg\", \"fwhm_avg\", \"fwhm_avg\", \"fwhm_avg\", \"fwhm_avg\", \"fwhm_avg\", \"fwhm_avg\", \"fwhm_avg\", \"fwhm_avg\", \"fwhm_avg\", \"fwhm_avg\", \"fwhm_avg\", \"fwhm_avg\", \"fwhm_avg\", \"fwhm_avg\", \"fwhm_avg\", \"fwhm_avg\", \"fwhm_avg\", \"fwhm_avg\", \"fwhm_avg\", \"fwhm_avg\", \"fwhm_avg\", \"fwhm_avg\", \"fwhm_avg\", \"fwhm_avg\", \"fwhm_avg\", \"fwhm_avg\", \"fwhm_avg\", \"fwhm_avg\", \"fwhm_avg\", \"fwhm_avg\", \"fwhm_avg\", \"fwhm_avg\", \"fwhm_avg\", \"fwhm_avg\", \"fwhm_avg\", \"fwhm_avg\", \"fwhm_avg\", \"fwhm_avg\", \"fwhm_avg\", \"fwhm_avg\", \"fwhm_avg\", \"fwhm_avg\", \"fwhm_avg\", \"fwhm_avg\", \"fwhm_avg\", \"fwhm_avg\", \"fwhm_avg\", \"fwhm_avg\", \"fwhm_avg\", \"fwhm_avg\", \"fwhm_avg\", \"fwhm_avg\", \"fwhm_avg\", \"fwhm_avg\", \"fwhm_avg\", \"fwhm_avg\", \"fwhm_avg\", \"fwhm_avg\", \"fwhm_avg\", \"fwhm_avg\", \"fwhm_avg\", \"fwhm_avg\", \"fwhm_avg\", \"fwhm_avg\", \"fwhm_avg\", \"fwhm_avg\", \"fwhm_avg\", \"fwhm_avg\", \"fwhm_avg\", \"fwhm_avg\", \"fwhm_avg\", \"fwhm_avg\", \"fwhm_avg\", \"fwhm_avg\", \"fwhm_avg\", \"fwhm_avg\", \"fwhm_avg\", \"fwhm_avg\", \"fwhm_avg\", \"fwhm_avg\", \"fwhm_avg\", \"fwhm_avg\", \"fwhm_avg\", \"fwhm_avg\", \"fwhm_avg\", \"fwhm_avg\", \"fwhm_avg\", \"fwhm_avg\", \"fwhm_avg\", \"fwhm_avg\", \"fwhm_avg\", \"fwhm_avg\", \"fwhm_avg\", \"fwhm_avg\", \"fwhm_avg\", \"fwhm_avg\", \"fwhm_avg\", \"fwhm_avg\", \"fwhm_avg\", \"fwhm_avg\", \"fwhm_avg\", \"fwhm_avg\", \"fwhm_avg\", \"fwhm_avg\", \"fwhm_avg\", \"fwhm_avg\", \"fwhm_avg\", \"fwhm_avg\"], \"y\": [2.247779855, 2.302011631, 2.2287320580000003, 2.191558304, 2.422771091, 2.360310939, 2.239349088, 2.237054547, 2.2491731280000002, 2.378931156, 2.319948301, 2.2506983419999997, 2.251212115, 2.335585258, 2.3270287990000003, 2.283311991, 2.380898311, 2.262511253, 2.223529797, 2.262854337, 2.258937345, 2.241289719, 2.273149854, 2.197989875, 2.312638969, 2.339020446, 2.282144299, 2.357316461, 2.316472741, 2.2900063090000002, null, 2.420681206, 2.246483552, 2.344183741, 2.444336292, 2.355069757, 2.323543264, 2.322903456, 2.26145449, 2.263091005, 2.2685217890000002, 2.247351081, 2.307994083, 2.258404929, 2.277617019, 2.267693513, 2.227422651, 2.306724581, 2.284250618, 2.346861288, 2.236592671, 2.235597844, 2.4280552280000003, 2.237465755, 2.2803280530000003, 2.2470674969999997, 2.250756714, 2.28619307, 2.192902825, null, 2.381871518, 2.2965468419999997, 2.219722939, 2.218862058, 2.326351749, 2.247826962, 2.166919224, 2.332007841, 2.343277412, 2.262721387, 2.229503647, 2.235556235, 2.24761248, 2.253605391, 2.287807895, 2.280244414, 2.351147151, 2.330197442, 2.210113093, 2.329327649, 2.1961234380000003, 2.2635768659999997, 2.245626829, 2.342521595, null, 2.2976767469999997, 2.231613571, 2.2215995680000002, 2.228619604, 2.251605774, 2.262616693, 2.264698759, 2.238861904, 2.2351318669999998, 2.3441580330000003, 2.245621024, 2.2158768859999998, 2.3433073269999998, 2.434988715, 2.2357223630000003, 2.37719364, 2.332779855, null, 2.334932899, 2.305144431, 2.229562345, 2.367763127, 2.361397326, 2.341558871, 2.183605009, 2.257700659, 2.36020397, 2.312759642, 2.324233205, 2.355483534, 2.320943887, 2.293316656, 2.338022932, 2.262608705, 2.324241962, 2.211336465, 2.196875546, 2.334955027, 2.190782097, 2.330140784, 2.288128148, 2.251642288, 2.425232496, 2.334475653, 2.314140315, 2.401156291, 2.323981098, 2.309274312, 2.2698276319999997, 2.192583017, 2.338667151, 2.241955601, 2.34358227, 2.283598973, 2.386403966, 2.267963168, 2.259101709, 2.280271635, 2.287661903, 2.310066249, 2.355474424, 2.330943341, 2.2686598730000003, 2.315764491, 2.301642972, 2.253256424, 2.386489739, 2.430961014, 2.325208569, 2.207175316, 2.343858262, 2.32782742, 2.310157186, 2.353205886, 2.336117719, 2.313096729, 2.267996536, 2.260978034, 2.165681523, 2.270657977, 2.32191845, 2.227648764, 2.456689587, null, 2.299599406, null, null, null, null, 2.327141106, 2.285399934, 2.271612222, 2.292621111, 2.280905556, 2.257280988, 2.217189879, 2.246320988, 2.266387663, 2.300419884, 2.210038777, 2.224634444, 2.308586541, 2.215754444, 2.320743207, 2.338378762, 2.198397778, 2.257543274, 2.254357712, 2.294904377, 2.254603399, 2.2531433990000003, 2.246262287, 2.144721111, 2.171417778, 2.175225556, 2.174558889, 2.202341111, 2.210212222]}],\n",
       "                        {\"autosize\": false, \"height\": 600, \"template\": {\"data\": {\"bar\": [{\"error_x\": {\"color\": \"#2a3f5f\"}, \"error_y\": {\"color\": \"#2a3f5f\"}, \"marker\": {\"line\": {\"color\": \"white\", \"width\": 0.5}}, \"type\": \"bar\"}], \"barpolar\": [{\"marker\": {\"line\": {\"color\": \"white\", \"width\": 0.5}}, \"type\": \"barpolar\"}], \"carpet\": [{\"aaxis\": {\"endlinecolor\": \"#2a3f5f\", \"gridcolor\": \"#C8D4E3\", \"linecolor\": \"#C8D4E3\", \"minorgridcolor\": \"#C8D4E3\", \"startlinecolor\": \"#2a3f5f\"}, \"baxis\": {\"endlinecolor\": \"#2a3f5f\", \"gridcolor\": \"#C8D4E3\", \"linecolor\": \"#C8D4E3\", \"minorgridcolor\": \"#C8D4E3\", \"startlinecolor\": \"#2a3f5f\"}, \"type\": \"carpet\"}], \"choropleth\": [{\"colorbar\": {\"outlinewidth\": 0, \"ticks\": \"\"}, \"type\": \"choropleth\"}], \"contour\": [{\"colorbar\": {\"outlinewidth\": 0, \"ticks\": \"\"}, \"colorscale\": [[0.0, \"#0d0887\"], [0.1111111111111111, \"#46039f\"], [0.2222222222222222, \"#7201a8\"], [0.3333333333333333, \"#9c179e\"], [0.4444444444444444, \"#bd3786\"], [0.5555555555555556, \"#d8576b\"], [0.6666666666666666, \"#ed7953\"], [0.7777777777777778, \"#fb9f3a\"], [0.8888888888888888, \"#fdca26\"], [1.0, \"#f0f921\"]], \"type\": \"contour\"}], \"contourcarpet\": [{\"colorbar\": {\"outlinewidth\": 0, \"ticks\": \"\"}, \"type\": \"contourcarpet\"}], \"heatmap\": [{\"colorbar\": {\"outlinewidth\": 0, \"ticks\": \"\"}, \"colorscale\": [[0.0, \"#0d0887\"], [0.1111111111111111, \"#46039f\"], [0.2222222222222222, \"#7201a8\"], [0.3333333333333333, \"#9c179e\"], [0.4444444444444444, \"#bd3786\"], [0.5555555555555556, \"#d8576b\"], [0.6666666666666666, \"#ed7953\"], [0.7777777777777778, \"#fb9f3a\"], [0.8888888888888888, \"#fdca26\"], [1.0, \"#f0f921\"]], \"type\": \"heatmap\"}], \"heatmapgl\": [{\"colorbar\": {\"outlinewidth\": 0, \"ticks\": \"\"}, \"colorscale\": [[0.0, \"#0d0887\"], [0.1111111111111111, \"#46039f\"], [0.2222222222222222, \"#7201a8\"], [0.3333333333333333, \"#9c179e\"], [0.4444444444444444, \"#bd3786\"], [0.5555555555555556, \"#d8576b\"], [0.6666666666666666, \"#ed7953\"], [0.7777777777777778, \"#fb9f3a\"], [0.8888888888888888, \"#fdca26\"], [1.0, \"#f0f921\"]], \"type\": \"heatmapgl\"}], \"histogram\": [{\"marker\": {\"colorbar\": {\"outlinewidth\": 0, \"ticks\": \"\"}}, \"type\": \"histogram\"}], \"histogram2d\": [{\"colorbar\": {\"outlinewidth\": 0, \"ticks\": \"\"}, \"colorscale\": [[0.0, \"#0d0887\"], [0.1111111111111111, \"#46039f\"], [0.2222222222222222, \"#7201a8\"], [0.3333333333333333, \"#9c179e\"], [0.4444444444444444, \"#bd3786\"], [0.5555555555555556, \"#d8576b\"], [0.6666666666666666, \"#ed7953\"], [0.7777777777777778, \"#fb9f3a\"], [0.8888888888888888, \"#fdca26\"], [1.0, \"#f0f921\"]], \"type\": \"histogram2d\"}], \"histogram2dcontour\": [{\"colorbar\": {\"outlinewidth\": 0, \"ticks\": \"\"}, \"colorscale\": [[0.0, \"#0d0887\"], [0.1111111111111111, \"#46039f\"], [0.2222222222222222, \"#7201a8\"], [0.3333333333333333, \"#9c179e\"], [0.4444444444444444, \"#bd3786\"], [0.5555555555555556, \"#d8576b\"], [0.6666666666666666, \"#ed7953\"], [0.7777777777777778, \"#fb9f3a\"], [0.8888888888888888, \"#fdca26\"], [1.0, \"#f0f921\"]], \"type\": \"histogram2dcontour\"}], \"mesh3d\": [{\"colorbar\": {\"outlinewidth\": 0, \"ticks\": \"\"}, \"type\": \"mesh3d\"}], \"parcoords\": [{\"line\": {\"colorbar\": {\"outlinewidth\": 0, \"ticks\": \"\"}}, \"type\": \"parcoords\"}], \"scatter\": [{\"marker\": {\"colorbar\": {\"outlinewidth\": 0, \"ticks\": \"\"}}, \"type\": \"scatter\"}], \"scatter3d\": [{\"line\": {\"colorbar\": {\"outlinewidth\": 0, \"ticks\": \"\"}}, \"marker\": {\"colorbar\": {\"outlinewidth\": 0, \"ticks\": \"\"}}, \"type\": \"scatter3d\"}], \"scattercarpet\": [{\"marker\": {\"colorbar\": {\"outlinewidth\": 0, \"ticks\": \"\"}}, \"type\": \"scattercarpet\"}], \"scattergeo\": [{\"marker\": {\"colorbar\": {\"outlinewidth\": 0, \"ticks\": \"\"}}, \"type\": \"scattergeo\"}], \"scattergl\": [{\"marker\": {\"colorbar\": {\"outlinewidth\": 0, \"ticks\": \"\"}}, \"type\": \"scattergl\"}], \"scattermapbox\": [{\"marker\": {\"colorbar\": {\"outlinewidth\": 0, \"ticks\": \"\"}}, \"type\": \"scattermapbox\"}], \"scatterpolar\": [{\"marker\": {\"colorbar\": {\"outlinewidth\": 0, \"ticks\": \"\"}}, \"type\": \"scatterpolar\"}], \"scatterpolargl\": [{\"marker\": {\"colorbar\": {\"outlinewidth\": 0, \"ticks\": \"\"}}, \"type\": \"scatterpolargl\"}], \"scatterternary\": [{\"marker\": {\"colorbar\": {\"outlinewidth\": 0, \"ticks\": \"\"}}, \"type\": \"scatterternary\"}], \"surface\": [{\"colorbar\": {\"outlinewidth\": 0, \"ticks\": \"\"}, \"colorscale\": [[0.0, \"#0d0887\"], [0.1111111111111111, \"#46039f\"], [0.2222222222222222, \"#7201a8\"], [0.3333333333333333, \"#9c179e\"], [0.4444444444444444, \"#bd3786\"], [0.5555555555555556, \"#d8576b\"], [0.6666666666666666, \"#ed7953\"], [0.7777777777777778, \"#fb9f3a\"], [0.8888888888888888, \"#fdca26\"], [1.0, \"#f0f921\"]], \"type\": \"surface\"}], \"table\": [{\"cells\": {\"fill\": {\"color\": \"#EBF0F8\"}, \"line\": {\"color\": \"white\"}}, \"header\": {\"fill\": {\"color\": \"#C8D4E3\"}, \"line\": {\"color\": \"white\"}}, \"type\": \"table\"}]}, \"layout\": {\"annotationdefaults\": {\"arrowcolor\": \"#2a3f5f\", \"arrowhead\": 0, \"arrowwidth\": 1}, \"colorscale\": {\"diverging\": [[0, \"#8e0152\"], [0.1, \"#c51b7d\"], [0.2, \"#de77ae\"], [0.3, \"#f1b6da\"], [0.4, \"#fde0ef\"], [0.5, \"#f7f7f7\"], [0.6, \"#e6f5d0\"], [0.7, \"#b8e186\"], [0.8, \"#7fbc41\"], [0.9, \"#4d9221\"], [1, \"#276419\"]], \"sequential\": [[0.0, \"#0d0887\"], [0.1111111111111111, \"#46039f\"], [0.2222222222222222, \"#7201a8\"], [0.3333333333333333, \"#9c179e\"], [0.4444444444444444, \"#bd3786\"], [0.5555555555555556, \"#d8576b\"], [0.6666666666666666, \"#ed7953\"], [0.7777777777777778, \"#fb9f3a\"], [0.8888888888888888, \"#fdca26\"], [1.0, \"#f0f921\"]], \"sequentialminus\": [[0.0, \"#0d0887\"], [0.1111111111111111, \"#46039f\"], [0.2222222222222222, \"#7201a8\"], [0.3333333333333333, \"#9c179e\"], [0.4444444444444444, \"#bd3786\"], [0.5555555555555556, \"#d8576b\"], [0.6666666666666666, \"#ed7953\"], [0.7777777777777778, \"#fb9f3a\"], [0.8888888888888888, \"#fdca26\"], [1.0, \"#f0f921\"]]}, \"colorway\": [\"#636efa\", \"#EF553B\", \"#00cc96\", \"#ab63fa\", \"#FFA15A\", \"#19d3f3\", \"#FF6692\", \"#B6E880\", \"#FF97FF\", \"#FECB52\"], \"font\": {\"color\": \"#2a3f5f\"}, \"geo\": {\"bgcolor\": \"white\", \"lakecolor\": \"white\", \"landcolor\": \"white\", \"showlakes\": true, \"showland\": true, \"subunitcolor\": \"#C8D4E3\"}, \"hoverlabel\": {\"align\": \"left\"}, \"hovermode\": \"closest\", \"mapbox\": {\"style\": \"light\"}, \"paper_bgcolor\": \"white\", \"plot_bgcolor\": \"white\", \"polar\": {\"angularaxis\": {\"gridcolor\": \"#EBF0F8\", \"linecolor\": \"#EBF0F8\", \"ticks\": \"\"}, \"bgcolor\": \"white\", \"radialaxis\": {\"gridcolor\": \"#EBF0F8\", \"linecolor\": \"#EBF0F8\", \"ticks\": \"\"}}, \"scene\": {\"xaxis\": {\"backgroundcolor\": \"white\", \"gridcolor\": \"#DFE8F3\", \"gridwidth\": 2, \"linecolor\": \"#EBF0F8\", \"showbackground\": true, \"ticks\": \"\", \"zerolinecolor\": \"#EBF0F8\"}, \"yaxis\": {\"backgroundcolor\": \"white\", \"gridcolor\": \"#DFE8F3\", \"gridwidth\": 2, \"linecolor\": \"#EBF0F8\", \"showbackground\": true, \"ticks\": \"\", \"zerolinecolor\": \"#EBF0F8\"}, \"zaxis\": {\"backgroundcolor\": \"white\", \"gridcolor\": \"#DFE8F3\", \"gridwidth\": 2, \"linecolor\": \"#EBF0F8\", \"showbackground\": true, \"ticks\": \"\", \"zerolinecolor\": \"#EBF0F8\"}}, \"shapedefaults\": {\"line\": {\"color\": \"#2a3f5f\"}}, \"ternary\": {\"aaxis\": {\"gridcolor\": \"#DFE8F3\", \"linecolor\": \"#A2B1C6\", \"ticks\": \"\"}, \"baxis\": {\"gridcolor\": \"#DFE8F3\", \"linecolor\": \"#A2B1C6\", \"ticks\": \"\"}, \"bgcolor\": \"white\", \"caxis\": {\"gridcolor\": \"#DFE8F3\", \"linecolor\": \"#A2B1C6\", \"ticks\": \"\"}}, \"title\": {\"x\": 0.05}, \"xaxis\": {\"automargin\": true, \"gridcolor\": \"#EBF0F8\", \"linecolor\": \"#EBF0F8\", \"ticks\": \"\", \"zerolinecolor\": \"#EBF0F8\", \"zerolinewidth\": 2}, \"yaxis\": {\"automargin\": true, \"gridcolor\": \"#EBF0F8\", \"linecolor\": \"#EBF0F8\", \"ticks\": \"\", \"zerolinecolor\": \"#EBF0F8\", \"zerolinewidth\": 2}}}, \"width\": 600},\n",
       "                        {\"responsive\": true}\n",
       "                    ).then(function(){\n",
       "                            \n",
       "var gd = document.getElementById('e2f030ba-0c09-466d-8811-13badd0f11a0');\n",
       "var x = new MutationObserver(function (mutations, observer) {{\n",
       "        var display = window.getComputedStyle(gd).display;\n",
       "        if (!display || display === 'none') {{\n",
       "            console.log([gd, 'removed!']);\n",
       "            Plotly.purge(gd);\n",
       "            observer.disconnect();\n",
       "        }}\n",
       "}});\n",
       "\n",
       "// Listen for the removal of the full notebook cells\n",
       "var notebookContainer = gd.closest('#notebook-container');\n",
       "if (notebookContainer) {{\n",
       "    x.observe(notebookContainer, {childList: true});\n",
       "}}\n",
       "\n",
       "// Listen for the clearing of the current output cell\n",
       "var outputEl = gd.closest('.output');\n",
       "if (outputEl) {{\n",
       "    x.observe(outputEl, {childList: true});\n",
       "}}\n",
       "\n",
       "                        })\n",
       "                };\n",
       "                });\n",
       "            </script>\n",
       "        </div>"
      ]
     },
     "metadata": {},
     "output_type": "display_data"
    },
    {
     "name": "stdout",
     "output_type": "stream",
     "text": [
      "before fam color\n",
      "after fam color\n"
     ]
    },
    {
     "data": {
      "application/vnd.plotly.v1+json": {
       "config": {
        "plotlyServerURL": "https://plot.ly"
       },
       "data": [
        {
         "box": {
          "visible": true
         },
         "jitter": 0.1,
         "legendgroup": "user data",
         "line": {
          "color": "green"
         },
         "meanline": {
          "visible": true
         },
         "name": "user data",
         "pointpos": -0.5,
         "points": "all",
         "scalegroup": "user data",
         "side": "negative",
         "type": "violin",
         "x": [
          "fber",
          "fber",
          "fber",
          "fber",
          "fber",
          "fber",
          "fber",
          "fber",
          "fber",
          "fber",
          "fber",
          "fber",
          "fber",
          "fber",
          "fber",
          "fber",
          "fber",
          "fber",
          "fber",
          "fber",
          "fber",
          "fber",
          "fber",
          "fber",
          "fber",
          "fber",
          "fber",
          "fber",
          "fber",
          "fber",
          "fber",
          "fber",
          "fber",
          "fber",
          "fber",
          "fber",
          "fber",
          "fber",
          "fber",
          "fber",
          "fber",
          "fber",
          "fber",
          "fber",
          "fber",
          "fber",
          "fber",
          "fber",
          "fber",
          "fber",
          "fber",
          "fber",
          "fber",
          "fber",
          "fber",
          "fber",
          "fber",
          "fber",
          "fber",
          "fber",
          "fber",
          "fber",
          "fber",
          "fber",
          "fber",
          "fber",
          "fber",
          "fber",
          "fber",
          "fber",
          "fber",
          "fber",
          "fber",
          "fber",
          "fber",
          "fber",
          "fber",
          "fber",
          "fber",
          "fber",
          "fber",
          "fber",
          "fber",
          "fber",
          "fber",
          "fber",
          "fber",
          "fber",
          "fber",
          "fber",
          "fber",
          "fber",
          "fber",
          "fber",
          "fber",
          "fber",
          "fber",
          "fber",
          "fber",
          "fber",
          "fber",
          "fber",
          "fber",
          "fber",
          "fber",
          "fber",
          "fber",
          "fber",
          "fber",
          "fber",
          "fber",
          "fber",
          "fber",
          "fber",
          "fber",
          "fber",
          "fber",
          "fber",
          "fber",
          "fber",
          "fber",
          "fber",
          "fber",
          "fber",
          "fber",
          "fber",
          "fber",
          "fber",
          "fber",
          "fber",
          "fber",
          "fber",
          "fber",
          "fber",
          "fber",
          "fber",
          "fber",
          "fber",
          "fber",
          "fber",
          "fber",
          "fber"
         ],
         "y": [
          128726.71875,
          196692.5,
          200620.265625,
          174369.390625,
          166191.640625,
          137872.828125,
          195418.25,
          167233.015625,
          168012.4375,
          138252.203125,
          145817.375,
          201122.3125,
          155924.859375,
          186365.234375,
          165624.25,
          178633.96875,
          208990.5,
          160830.0625,
          170085.953125,
          244372.078125,
          175584.671875,
          156311.734375,
          175403.296875,
          131721.15625,
          116767.078125,
          220170.78125,
          201718.328125,
          193127.953125,
          157804.1875,
          167858.328125,
          189463.03125,
          161600.125,
          143088.328125,
          222415,
          90736.96875,
          171214.765625,
          102938.34375,
          149385.84375,
          169745.515625,
          163785.59375,
          205359.390625,
          185755.484375,
          152212.921875,
          152848.0625,
          165691.03125,
          209825.015625,
          158229.6875,
          202403.21875,
          160271.59375,
          150494.53125,
          184206.3125,
          135957.515625,
          185292.625,
          184608.640625,
          131131.953125,
          206888.3125,
          211437.4375,
          137230.828125,
          150532.5625,
          187458.828125,
          148861.09375,
          216943.265625,
          219978.609375,
          131248.375,
          133030.609375,
          152322.21875,
          152686.859375,
          184334.890625,
          148765.9375,
          152186.59375,
          156800.046875,
          180291.734375,
          186659.15625,
          192497.46875,
          196550.546875,
          136907.28125,
          209706.90625,
          200610.1875,
          167739.390625,
          161403.3125,
          226753.5,
          184218.25,
          269481.6875,
          213780.90625,
          224257.796875,
          217275.5625,
          131392.21875,
          159063.8125,
          178703.65625,
          180092.328125,
          146569.15625,
          157388.171875,
          186346.734375,
          186046.21875,
          205577.21875,
          155329.34375,
          175900.21875,
          184652.859375,
          169326.171875,
          178857.890625,
          165390.421875,
          158533.609375,
          133309.71875,
          230070.59375,
          177654.34375,
          129847.421875,
          188020.875,
          161299.5,
          145325.109375,
          232480.9375,
          175801.9375,
          159555.640625,
          146924.125,
          236937.765625,
          216437.96875,
          186920.53125,
          150953.03125,
          179202.40625,
          169652.8125,
          176627.984375,
          190108.71875,
          140852.390625,
          180527.5,
          166528.140625,
          152124.828125,
          154946.546875,
          182981.015625,
          206141.4375,
          206060.921875,
          152653.1875,
          179396.15625,
          131299.140625,
          175241.5,
          180163.234375,
          155910.328125,
          171194.625,
          268510.125,
          147818.515625,
          235631.46875,
          217972.078125,
          225025.21875,
          171019.859375
         ]
        },
        {
         "box": {
          "visible": true
         },
         "legendgroup": "api",
         "line": {
          "color": "gray"
         },
         "meanline": {
          "visible": true
         },
         "name": "api",
         "scalegroup": "api",
         "side": "positive",
         "type": "violin",
         "x": [
          "fber",
          "fber",
          "fber",
          "fber",
          "fber",
          "fber",
          "fber",
          "fber",
          "fber",
          "fber",
          "fber",
          "fber",
          "fber",
          "fber",
          "fber",
          "fber",
          "fber",
          "fber",
          "fber",
          "fber",
          "fber",
          "fber",
          "fber",
          "fber",
          "fber",
          "fber",
          "fber",
          "fber",
          "fber",
          "fber",
          "fber",
          "fber",
          "fber",
          "fber",
          "fber",
          "fber",
          "fber",
          "fber",
          "fber",
          "fber",
          "fber",
          "fber",
          "fber",
          "fber",
          "fber",
          "fber",
          "fber",
          "fber",
          "fber",
          "fber",
          "fber",
          "fber",
          "fber",
          "fber",
          "fber",
          "fber",
          "fber",
          "fber",
          "fber",
          "fber",
          "fber",
          "fber",
          "fber",
          "fber",
          "fber",
          "fber",
          "fber",
          "fber",
          "fber",
          "fber",
          "fber",
          "fber",
          "fber",
          "fber",
          "fber",
          "fber",
          "fber",
          "fber",
          "fber",
          "fber",
          "fber",
          "fber",
          "fber",
          "fber",
          "fber",
          "fber",
          "fber",
          "fber",
          "fber",
          "fber",
          "fber",
          "fber",
          "fber",
          "fber",
          "fber",
          "fber",
          "fber",
          "fber",
          "fber",
          "fber",
          "fber",
          "fber",
          "fber",
          "fber",
          "fber",
          "fber",
          "fber",
          "fber",
          "fber",
          "fber",
          "fber",
          "fber",
          "fber",
          "fber",
          "fber",
          "fber",
          "fber",
          "fber",
          "fber",
          "fber",
          "fber",
          "fber",
          "fber",
          "fber",
          "fber",
          "fber",
          "fber",
          "fber",
          "fber",
          "fber",
          "fber",
          "fber",
          "fber",
          "fber",
          "fber",
          "fber",
          "fber",
          "fber",
          "fber",
          "fber",
          "fber",
          "fber",
          "fber",
          "fber",
          "fber",
          "fber",
          "fber",
          "fber",
          "fber",
          "fber",
          "fber",
          "fber",
          "fber",
          "fber",
          "fber",
          "fber",
          "fber",
          "fber",
          "fber",
          "fber",
          "fber",
          "fber",
          "fber",
          "fber",
          "fber",
          "fber",
          "fber",
          "fber",
          "fber",
          "fber",
          "fber",
          "fber",
          "fber",
          "fber",
          "fber",
          "fber",
          "fber",
          "fber",
          "fber",
          "fber",
          "fber",
          "fber",
          "fber",
          "fber",
          "fber",
          "fber",
          "fber",
          "fber",
          "fber",
          "fber",
          "fber",
          "fber",
          "fber",
          "fber",
          "fber",
          "fber",
          "fber",
          "fber",
          "fber",
          "fber",
          "fber",
          "fber",
          "fber"
         ],
         "y": [
          3099.643311,
          2952.287598,
          2258.665039,
          2589.266602,
          2457.7817379999997,
          2537.790527,
          2406.8596190000003,
          2041.6499019999999,
          3274.01001,
          2298.7495120000003,
          2663.744873,
          3152.046143,
          2660.268799,
          3241.239502,
          2740.8984379999997,
          null,
          null,
          3381.121582,
          2149.119873,
          3045.393066,
          2276.0979,
          2044.585693,
          3111.070068,
          2968.247559,
          2457.9423829999996,
          2993.139404,
          2795.401855,
          3019.126465,
          2711.313965,
          3645.7082520000004,
          null,
          2429.858643,
          3462.7482909999994,
          3521.3479,
          3439.497314,
          3624.233398,
          2869.654541,
          2910.246338,
          2287.879639,
          3007.417236,
          2491.587646,
          2340.956299,
          3012.4135739999997,
          2212.105957,
          3072.6826170000004,
          2521.515625,
          2873.3591309999997,
          2712.196533,
          2533.363281,
          3022.330322,
          2653.222168,
          2751.818604,
          2637.3666989999997,
          2301.962158,
          3023.094482,
          2015.8651120000002,
          3038.792725,
          2421.676025,
          2506.0942379999997,
          3481.431152,
          3493.029053,
          2769.748535,
          1893.13623,
          2115.809326,
          2458.236572,
          3513.831543,
          2627.319336,
          2343.2265629999997,
          3330.9646,
          2662.479736,
          2929.419922,
          2638.496826,
          3168.643066,
          3106.7026370000003,
          null,
          2657.416504,
          3466.608398,
          3195.256836,
          2953.0271,
          2666.19043,
          2478.182861,
          2698.565918,
          2991.21582,
          3635.892578,
          3430.642578,
          2552.542725,
          2805.8747559999997,
          1895.192993,
          3344.772705,
          3384.1130369999996,
          2451.37793,
          3217.6479489999997,
          2205.74707,
          2611.092773,
          3614.937744,
          3081.647705,
          2964.407471,
          3323.317871,
          null,
          2155.904297,
          3453.023926,
          3153.8989260000003,
          3480.6286619999996,
          3567.686035,
          3540.213135,
          2827.693848,
          3043.217773,
          2271.105957,
          2449.008057,
          2657.12915,
          2634.656982,
          3526.91626,
          3537.068604,
          2704.114746,
          3285.90332,
          3302.84375,
          null,
          2534.542236,
          2604.535645,
          2787.376465,
          2944.358154,
          2442.834717,
          2807.041016,
          2462.072754,
          3274.030273,
          3594.2753909999997,
          3111.260254,
          null,
          2434.2817379999997,
          3124.0546879999997,
          2267.722656,
          2371.011475,
          3028.938721,
          2670.275635,
          2547.596191,
          2966.432129,
          2768.864502,
          3259.885986,
          2739.1875,
          null,
          2272.780518,
          3229.376221,
          2329.7729489999997,
          3498.8027340000003,
          2543.446045,
          3386.431396,
          2843.033203,
          2396.978516,
          3094.584961,
          2959.098389,
          2195.204346,
          2260.920166,
          2484.697021,
          2402.813477,
          3005.605713,
          3537.195068,
          2673.2810059999997,
          2645.87085,
          3614.015625,
          3312.042236,
          null,
          3336.784424,
          2417.575195,
          2572.499023,
          2700.179443,
          2673.112061,
          2704.3857420000004,
          3469.426514,
          null,
          null,
          null,
          null,
          null,
          null,
          1207.4061279999999,
          null,
          null,
          null,
          null,
          null,
          null,
          null,
          939.9246826,
          951.5388793999999,
          939.986145,
          null,
          null,
          null,
          null,
          null,
          null,
          null,
          null,
          null,
          955.5537720000001,
          969.336792,
          958.8702392999999,
          null,
          null,
          null,
          null,
          null,
          null
         ]
        }
       ],
       "layout": {
        "autosize": false,
        "height": 600,
        "template": {
         "data": {
          "bar": [
           {
            "error_x": {
             "color": "#2a3f5f"
            },
            "error_y": {
             "color": "#2a3f5f"
            },
            "marker": {
             "line": {
              "color": "white",
              "width": 0.5
             }
            },
            "type": "bar"
           }
          ],
          "barpolar": [
           {
            "marker": {
             "line": {
              "color": "white",
              "width": 0.5
             }
            },
            "type": "barpolar"
           }
          ],
          "carpet": [
           {
            "aaxis": {
             "endlinecolor": "#2a3f5f",
             "gridcolor": "#C8D4E3",
             "linecolor": "#C8D4E3",
             "minorgridcolor": "#C8D4E3",
             "startlinecolor": "#2a3f5f"
            },
            "baxis": {
             "endlinecolor": "#2a3f5f",
             "gridcolor": "#C8D4E3",
             "linecolor": "#C8D4E3",
             "minorgridcolor": "#C8D4E3",
             "startlinecolor": "#2a3f5f"
            },
            "type": "carpet"
           }
          ],
          "choropleth": [
           {
            "colorbar": {
             "outlinewidth": 0,
             "ticks": ""
            },
            "type": "choropleth"
           }
          ],
          "contour": [
           {
            "colorbar": {
             "outlinewidth": 0,
             "ticks": ""
            },
            "colorscale": [
             [
              0,
              "#0d0887"
             ],
             [
              0.1111111111111111,
              "#46039f"
             ],
             [
              0.2222222222222222,
              "#7201a8"
             ],
             [
              0.3333333333333333,
              "#9c179e"
             ],
             [
              0.4444444444444444,
              "#bd3786"
             ],
             [
              0.5555555555555556,
              "#d8576b"
             ],
             [
              0.6666666666666666,
              "#ed7953"
             ],
             [
              0.7777777777777778,
              "#fb9f3a"
             ],
             [
              0.8888888888888888,
              "#fdca26"
             ],
             [
              1,
              "#f0f921"
             ]
            ],
            "type": "contour"
           }
          ],
          "contourcarpet": [
           {
            "colorbar": {
             "outlinewidth": 0,
             "ticks": ""
            },
            "type": "contourcarpet"
           }
          ],
          "heatmap": [
           {
            "colorbar": {
             "outlinewidth": 0,
             "ticks": ""
            },
            "colorscale": [
             [
              0,
              "#0d0887"
             ],
             [
              0.1111111111111111,
              "#46039f"
             ],
             [
              0.2222222222222222,
              "#7201a8"
             ],
             [
              0.3333333333333333,
              "#9c179e"
             ],
             [
              0.4444444444444444,
              "#bd3786"
             ],
             [
              0.5555555555555556,
              "#d8576b"
             ],
             [
              0.6666666666666666,
              "#ed7953"
             ],
             [
              0.7777777777777778,
              "#fb9f3a"
             ],
             [
              0.8888888888888888,
              "#fdca26"
             ],
             [
              1,
              "#f0f921"
             ]
            ],
            "type": "heatmap"
           }
          ],
          "heatmapgl": [
           {
            "colorbar": {
             "outlinewidth": 0,
             "ticks": ""
            },
            "colorscale": [
             [
              0,
              "#0d0887"
             ],
             [
              0.1111111111111111,
              "#46039f"
             ],
             [
              0.2222222222222222,
              "#7201a8"
             ],
             [
              0.3333333333333333,
              "#9c179e"
             ],
             [
              0.4444444444444444,
              "#bd3786"
             ],
             [
              0.5555555555555556,
              "#d8576b"
             ],
             [
              0.6666666666666666,
              "#ed7953"
             ],
             [
              0.7777777777777778,
              "#fb9f3a"
             ],
             [
              0.8888888888888888,
              "#fdca26"
             ],
             [
              1,
              "#f0f921"
             ]
            ],
            "type": "heatmapgl"
           }
          ],
          "histogram": [
           {
            "marker": {
             "colorbar": {
              "outlinewidth": 0,
              "ticks": ""
             }
            },
            "type": "histogram"
           }
          ],
          "histogram2d": [
           {
            "colorbar": {
             "outlinewidth": 0,
             "ticks": ""
            },
            "colorscale": [
             [
              0,
              "#0d0887"
             ],
             [
              0.1111111111111111,
              "#46039f"
             ],
             [
              0.2222222222222222,
              "#7201a8"
             ],
             [
              0.3333333333333333,
              "#9c179e"
             ],
             [
              0.4444444444444444,
              "#bd3786"
             ],
             [
              0.5555555555555556,
              "#d8576b"
             ],
             [
              0.6666666666666666,
              "#ed7953"
             ],
             [
              0.7777777777777778,
              "#fb9f3a"
             ],
             [
              0.8888888888888888,
              "#fdca26"
             ],
             [
              1,
              "#f0f921"
             ]
            ],
            "type": "histogram2d"
           }
          ],
          "histogram2dcontour": [
           {
            "colorbar": {
             "outlinewidth": 0,
             "ticks": ""
            },
            "colorscale": [
             [
              0,
              "#0d0887"
             ],
             [
              0.1111111111111111,
              "#46039f"
             ],
             [
              0.2222222222222222,
              "#7201a8"
             ],
             [
              0.3333333333333333,
              "#9c179e"
             ],
             [
              0.4444444444444444,
              "#bd3786"
             ],
             [
              0.5555555555555556,
              "#d8576b"
             ],
             [
              0.6666666666666666,
              "#ed7953"
             ],
             [
              0.7777777777777778,
              "#fb9f3a"
             ],
             [
              0.8888888888888888,
              "#fdca26"
             ],
             [
              1,
              "#f0f921"
             ]
            ],
            "type": "histogram2dcontour"
           }
          ],
          "mesh3d": [
           {
            "colorbar": {
             "outlinewidth": 0,
             "ticks": ""
            },
            "type": "mesh3d"
           }
          ],
          "parcoords": [
           {
            "line": {
             "colorbar": {
              "outlinewidth": 0,
              "ticks": ""
             }
            },
            "type": "parcoords"
           }
          ],
          "scatter": [
           {
            "marker": {
             "colorbar": {
              "outlinewidth": 0,
              "ticks": ""
             }
            },
            "type": "scatter"
           }
          ],
          "scatter3d": [
           {
            "line": {
             "colorbar": {
              "outlinewidth": 0,
              "ticks": ""
             }
            },
            "marker": {
             "colorbar": {
              "outlinewidth": 0,
              "ticks": ""
             }
            },
            "type": "scatter3d"
           }
          ],
          "scattercarpet": [
           {
            "marker": {
             "colorbar": {
              "outlinewidth": 0,
              "ticks": ""
             }
            },
            "type": "scattercarpet"
           }
          ],
          "scattergeo": [
           {
            "marker": {
             "colorbar": {
              "outlinewidth": 0,
              "ticks": ""
             }
            },
            "type": "scattergeo"
           }
          ],
          "scattergl": [
           {
            "marker": {
             "colorbar": {
              "outlinewidth": 0,
              "ticks": ""
             }
            },
            "type": "scattergl"
           }
          ],
          "scattermapbox": [
           {
            "marker": {
             "colorbar": {
              "outlinewidth": 0,
              "ticks": ""
             }
            },
            "type": "scattermapbox"
           }
          ],
          "scatterpolar": [
           {
            "marker": {
             "colorbar": {
              "outlinewidth": 0,
              "ticks": ""
             }
            },
            "type": "scatterpolar"
           }
          ],
          "scatterpolargl": [
           {
            "marker": {
             "colorbar": {
              "outlinewidth": 0,
              "ticks": ""
             }
            },
            "type": "scatterpolargl"
           }
          ],
          "scatterternary": [
           {
            "marker": {
             "colorbar": {
              "outlinewidth": 0,
              "ticks": ""
             }
            },
            "type": "scatterternary"
           }
          ],
          "surface": [
           {
            "colorbar": {
             "outlinewidth": 0,
             "ticks": ""
            },
            "colorscale": [
             [
              0,
              "#0d0887"
             ],
             [
              0.1111111111111111,
              "#46039f"
             ],
             [
              0.2222222222222222,
              "#7201a8"
             ],
             [
              0.3333333333333333,
              "#9c179e"
             ],
             [
              0.4444444444444444,
              "#bd3786"
             ],
             [
              0.5555555555555556,
              "#d8576b"
             ],
             [
              0.6666666666666666,
              "#ed7953"
             ],
             [
              0.7777777777777778,
              "#fb9f3a"
             ],
             [
              0.8888888888888888,
              "#fdca26"
             ],
             [
              1,
              "#f0f921"
             ]
            ],
            "type": "surface"
           }
          ],
          "table": [
           {
            "cells": {
             "fill": {
              "color": "#EBF0F8"
             },
             "line": {
              "color": "white"
             }
            },
            "header": {
             "fill": {
              "color": "#C8D4E3"
             },
             "line": {
              "color": "white"
             }
            },
            "type": "table"
           }
          ]
         },
         "layout": {
          "annotationdefaults": {
           "arrowcolor": "#2a3f5f",
           "arrowhead": 0,
           "arrowwidth": 1
          },
          "colorscale": {
           "diverging": [
            [
             0,
             "#8e0152"
            ],
            [
             0.1,
             "#c51b7d"
            ],
            [
             0.2,
             "#de77ae"
            ],
            [
             0.3,
             "#f1b6da"
            ],
            [
             0.4,
             "#fde0ef"
            ],
            [
             0.5,
             "#f7f7f7"
            ],
            [
             0.6,
             "#e6f5d0"
            ],
            [
             0.7,
             "#b8e186"
            ],
            [
             0.8,
             "#7fbc41"
            ],
            [
             0.9,
             "#4d9221"
            ],
            [
             1,
             "#276419"
            ]
           ],
           "sequential": [
            [
             0,
             "#0d0887"
            ],
            [
             0.1111111111111111,
             "#46039f"
            ],
            [
             0.2222222222222222,
             "#7201a8"
            ],
            [
             0.3333333333333333,
             "#9c179e"
            ],
            [
             0.4444444444444444,
             "#bd3786"
            ],
            [
             0.5555555555555556,
             "#d8576b"
            ],
            [
             0.6666666666666666,
             "#ed7953"
            ],
            [
             0.7777777777777778,
             "#fb9f3a"
            ],
            [
             0.8888888888888888,
             "#fdca26"
            ],
            [
             1,
             "#f0f921"
            ]
           ],
           "sequentialminus": [
            [
             0,
             "#0d0887"
            ],
            [
             0.1111111111111111,
             "#46039f"
            ],
            [
             0.2222222222222222,
             "#7201a8"
            ],
            [
             0.3333333333333333,
             "#9c179e"
            ],
            [
             0.4444444444444444,
             "#bd3786"
            ],
            [
             0.5555555555555556,
             "#d8576b"
            ],
            [
             0.6666666666666666,
             "#ed7953"
            ],
            [
             0.7777777777777778,
             "#fb9f3a"
            ],
            [
             0.8888888888888888,
             "#fdca26"
            ],
            [
             1,
             "#f0f921"
            ]
           ]
          },
          "colorway": [
           "#636efa",
           "#EF553B",
           "#00cc96",
           "#ab63fa",
           "#FFA15A",
           "#19d3f3",
           "#FF6692",
           "#B6E880",
           "#FF97FF",
           "#FECB52"
          ],
          "font": {
           "color": "#2a3f5f"
          },
          "geo": {
           "bgcolor": "white",
           "lakecolor": "white",
           "landcolor": "white",
           "showlakes": true,
           "showland": true,
           "subunitcolor": "#C8D4E3"
          },
          "hoverlabel": {
           "align": "left"
          },
          "hovermode": "closest",
          "mapbox": {
           "style": "light"
          },
          "paper_bgcolor": "white",
          "plot_bgcolor": "white",
          "polar": {
           "angularaxis": {
            "gridcolor": "#EBF0F8",
            "linecolor": "#EBF0F8",
            "ticks": ""
           },
           "bgcolor": "white",
           "radialaxis": {
            "gridcolor": "#EBF0F8",
            "linecolor": "#EBF0F8",
            "ticks": ""
           }
          },
          "scene": {
           "xaxis": {
            "backgroundcolor": "white",
            "gridcolor": "#DFE8F3",
            "gridwidth": 2,
            "linecolor": "#EBF0F8",
            "showbackground": true,
            "ticks": "",
            "zerolinecolor": "#EBF0F8"
           },
           "yaxis": {
            "backgroundcolor": "white",
            "gridcolor": "#DFE8F3",
            "gridwidth": 2,
            "linecolor": "#EBF0F8",
            "showbackground": true,
            "ticks": "",
            "zerolinecolor": "#EBF0F8"
           },
           "zaxis": {
            "backgroundcolor": "white",
            "gridcolor": "#DFE8F3",
            "gridwidth": 2,
            "linecolor": "#EBF0F8",
            "showbackground": true,
            "ticks": "",
            "zerolinecolor": "#EBF0F8"
           }
          },
          "shapedefaults": {
           "line": {
            "color": "#2a3f5f"
           }
          },
          "ternary": {
           "aaxis": {
            "gridcolor": "#DFE8F3",
            "linecolor": "#A2B1C6",
            "ticks": ""
           },
           "baxis": {
            "gridcolor": "#DFE8F3",
            "linecolor": "#A2B1C6",
            "ticks": ""
           },
           "bgcolor": "white",
           "caxis": {
            "gridcolor": "#DFE8F3",
            "linecolor": "#A2B1C6",
            "ticks": ""
           }
          },
          "title": {
           "x": 0.05
          },
          "xaxis": {
           "automargin": true,
           "gridcolor": "#EBF0F8",
           "linecolor": "#EBF0F8",
           "ticks": "",
           "zerolinecolor": "#EBF0F8",
           "zerolinewidth": 2
          },
          "yaxis": {
           "automargin": true,
           "gridcolor": "#EBF0F8",
           "linecolor": "#EBF0F8",
           "ticks": "",
           "zerolinecolor": "#EBF0F8",
           "zerolinewidth": 2
          }
         }
        },
        "width": 600
       }
      },
      "text/html": [
       "<div>\n",
       "        \n",
       "        \n",
       "            <div id=\"027e1aa1-a365-4caa-aca9-ace6995b9c10\" class=\"plotly-graph-div\" style=\"height:600px; width:600px;\"></div>\n",
       "            <script type=\"text/javascript\">\n",
       "                require([\"plotly\"], function(Plotly) {\n",
       "                    window.PLOTLYENV=window.PLOTLYENV || {};\n",
       "                    \n",
       "                if (document.getElementById(\"027e1aa1-a365-4caa-aca9-ace6995b9c10\")) {\n",
       "                    Plotly.newPlot(\n",
       "                        '027e1aa1-a365-4caa-aca9-ace6995b9c10',\n",
       "                        [{\"box\": {\"visible\": true}, \"jitter\": 0.1, \"legendgroup\": \"user data\", \"line\": {\"color\": \"green\"}, \"meanline\": {\"visible\": true}, \"name\": \"user data\", \"pointpos\": -0.5, \"points\": \"all\", \"scalegroup\": \"user data\", \"side\": \"negative\", \"type\": \"violin\", \"x\": [\"fber\", \"fber\", \"fber\", \"fber\", \"fber\", \"fber\", \"fber\", \"fber\", \"fber\", \"fber\", \"fber\", \"fber\", \"fber\", \"fber\", \"fber\", \"fber\", \"fber\", \"fber\", \"fber\", \"fber\", \"fber\", \"fber\", \"fber\", \"fber\", \"fber\", \"fber\", \"fber\", \"fber\", \"fber\", \"fber\", \"fber\", \"fber\", \"fber\", \"fber\", \"fber\", \"fber\", \"fber\", \"fber\", \"fber\", \"fber\", \"fber\", \"fber\", \"fber\", \"fber\", \"fber\", \"fber\", \"fber\", \"fber\", \"fber\", \"fber\", \"fber\", \"fber\", \"fber\", \"fber\", \"fber\", \"fber\", \"fber\", \"fber\", \"fber\", \"fber\", \"fber\", \"fber\", \"fber\", \"fber\", \"fber\", \"fber\", \"fber\", \"fber\", \"fber\", \"fber\", \"fber\", \"fber\", \"fber\", \"fber\", \"fber\", \"fber\", \"fber\", \"fber\", \"fber\", \"fber\", \"fber\", \"fber\", \"fber\", \"fber\", \"fber\", \"fber\", \"fber\", \"fber\", \"fber\", \"fber\", \"fber\", \"fber\", \"fber\", \"fber\", \"fber\", \"fber\", \"fber\", \"fber\", \"fber\", \"fber\", \"fber\", \"fber\", \"fber\", \"fber\", \"fber\", \"fber\", \"fber\", \"fber\", \"fber\", \"fber\", \"fber\", \"fber\", \"fber\", \"fber\", \"fber\", \"fber\", \"fber\", \"fber\", \"fber\", \"fber\", \"fber\", \"fber\", \"fber\", \"fber\", \"fber\", \"fber\", \"fber\", \"fber\", \"fber\", \"fber\", \"fber\", \"fber\", \"fber\", \"fber\", \"fber\", \"fber\", \"fber\", \"fber\", \"fber\", \"fber\", \"fber\", \"fber\"], \"y\": [128726.71875, 196692.5, 200620.265625, 174369.390625, 166191.640625, 137872.828125, 195418.25, 167233.015625, 168012.4375, 138252.203125, 145817.375, 201122.3125, 155924.859375, 186365.234375, 165624.25, 178633.96875, 208990.5, 160830.0625, 170085.953125, 244372.078125, 175584.671875, 156311.734375, 175403.296875, 131721.15625, 116767.078125, 220170.78125, 201718.328125, 193127.953125, 157804.1875, 167858.328125, 189463.03125, 161600.125, 143088.328125, 222415.0, 90736.96875, 171214.765625, 102938.34375, 149385.84375, 169745.515625, 163785.59375, 205359.390625, 185755.484375, 152212.921875, 152848.0625, 165691.03125, 209825.015625, 158229.6875, 202403.21875, 160271.59375, 150494.53125, 184206.3125, 135957.515625, 185292.625, 184608.640625, 131131.953125, 206888.3125, 211437.4375, 137230.828125, 150532.5625, 187458.828125, 148861.09375, 216943.265625, 219978.609375, 131248.375, 133030.609375, 152322.21875, 152686.859375, 184334.890625, 148765.9375, 152186.59375, 156800.046875, 180291.734375, 186659.15625, 192497.46875, 196550.546875, 136907.28125, 209706.90625, 200610.1875, 167739.390625, 161403.3125, 226753.5, 184218.25, 269481.6875, 213780.90625, 224257.796875, 217275.5625, 131392.21875, 159063.8125, 178703.65625, 180092.328125, 146569.15625, 157388.171875, 186346.734375, 186046.21875, 205577.21875, 155329.34375, 175900.21875, 184652.859375, 169326.171875, 178857.890625, 165390.421875, 158533.609375, 133309.71875, 230070.59375, 177654.34375, 129847.421875, 188020.875, 161299.5, 145325.109375, 232480.9375, 175801.9375, 159555.640625, 146924.125, 236937.765625, 216437.96875, 186920.53125, 150953.03125, 179202.40625, 169652.8125, 176627.984375, 190108.71875, 140852.390625, 180527.5, 166528.140625, 152124.828125, 154946.546875, 182981.015625, 206141.4375, 206060.921875, 152653.1875, 179396.15625, 131299.140625, 175241.5, 180163.234375, 155910.328125, 171194.625, 268510.125, 147818.515625, 235631.46875, 217972.078125, 225025.21875, 171019.859375]}, {\"box\": {\"visible\": true}, \"legendgroup\": \"api\", \"line\": {\"color\": \"gray\"}, \"meanline\": {\"visible\": true}, \"name\": \"api\", \"scalegroup\": \"api\", \"side\": \"positive\", \"type\": \"violin\", \"x\": [\"fber\", \"fber\", \"fber\", \"fber\", \"fber\", \"fber\", \"fber\", \"fber\", \"fber\", \"fber\", \"fber\", \"fber\", \"fber\", \"fber\", \"fber\", \"fber\", \"fber\", \"fber\", \"fber\", \"fber\", \"fber\", \"fber\", \"fber\", \"fber\", \"fber\", \"fber\", \"fber\", \"fber\", \"fber\", \"fber\", \"fber\", \"fber\", \"fber\", \"fber\", \"fber\", \"fber\", \"fber\", \"fber\", \"fber\", \"fber\", \"fber\", \"fber\", \"fber\", \"fber\", \"fber\", \"fber\", \"fber\", \"fber\", \"fber\", \"fber\", \"fber\", \"fber\", \"fber\", \"fber\", \"fber\", \"fber\", \"fber\", \"fber\", \"fber\", \"fber\", \"fber\", \"fber\", \"fber\", \"fber\", \"fber\", \"fber\", \"fber\", \"fber\", \"fber\", \"fber\", \"fber\", \"fber\", \"fber\", \"fber\", \"fber\", \"fber\", \"fber\", \"fber\", \"fber\", \"fber\", \"fber\", \"fber\", \"fber\", \"fber\", \"fber\", \"fber\", \"fber\", \"fber\", \"fber\", \"fber\", \"fber\", \"fber\", \"fber\", \"fber\", \"fber\", \"fber\", \"fber\", \"fber\", \"fber\", \"fber\", \"fber\", \"fber\", \"fber\", \"fber\", \"fber\", \"fber\", \"fber\", \"fber\", \"fber\", \"fber\", \"fber\", \"fber\", \"fber\", \"fber\", \"fber\", \"fber\", \"fber\", \"fber\", \"fber\", \"fber\", \"fber\", \"fber\", \"fber\", \"fber\", \"fber\", \"fber\", \"fber\", \"fber\", \"fber\", \"fber\", \"fber\", \"fber\", \"fber\", \"fber\", \"fber\", \"fber\", \"fber\", \"fber\", \"fber\", \"fber\", \"fber\", \"fber\", \"fber\", \"fber\", \"fber\", \"fber\", \"fber\", \"fber\", \"fber\", \"fber\", \"fber\", \"fber\", \"fber\", \"fber\", \"fber\", \"fber\", \"fber\", \"fber\", \"fber\", \"fber\", \"fber\", \"fber\", \"fber\", \"fber\", \"fber\", \"fber\", \"fber\", \"fber\", \"fber\", \"fber\", \"fber\", \"fber\", \"fber\", \"fber\", \"fber\", \"fber\", \"fber\", \"fber\", \"fber\", \"fber\", \"fber\", \"fber\", \"fber\", \"fber\", \"fber\", \"fber\", \"fber\", \"fber\", \"fber\", \"fber\", \"fber\", \"fber\", \"fber\", \"fber\", \"fber\", \"fber\", \"fber\", \"fber\", \"fber\", \"fber\", \"fber\", \"fber\", \"fber\"], \"y\": [3099.643311, 2952.287598, 2258.665039, 2589.266602, 2457.7817379999997, 2537.790527, 2406.8596190000003, 2041.6499019999999, 3274.01001, 2298.7495120000003, 2663.744873, 3152.046143, 2660.268799, 3241.239502, 2740.8984379999997, null, null, 3381.121582, 2149.119873, 3045.393066, 2276.0979, 2044.585693, 3111.070068, 2968.247559, 2457.9423829999996, 2993.139404, 2795.401855, 3019.126465, 2711.313965, 3645.7082520000004, null, 2429.858643, 3462.7482909999994, 3521.3479, 3439.497314, 3624.233398, 2869.654541, 2910.246338, 2287.879639, 3007.417236, 2491.587646, 2340.956299, 3012.4135739999997, 2212.105957, 3072.6826170000004, 2521.515625, 2873.3591309999997, 2712.196533, 2533.363281, 3022.330322, 2653.222168, 2751.818604, 2637.3666989999997, 2301.962158, 3023.094482, 2015.8651120000002, 3038.792725, 2421.676025, 2506.0942379999997, 3481.431152, 3493.029053, 2769.748535, 1893.13623, 2115.809326, 2458.236572, 3513.831543, 2627.319336, 2343.2265629999997, 3330.9646, 2662.479736, 2929.419922, 2638.496826, 3168.643066, 3106.7026370000003, null, 2657.416504, 3466.608398, 3195.256836, 2953.0271, 2666.19043, 2478.182861, 2698.565918, 2991.21582, 3635.892578, 3430.642578, 2552.542725, 2805.8747559999997, 1895.192993, 3344.772705, 3384.1130369999996, 2451.37793, 3217.6479489999997, 2205.74707, 2611.092773, 3614.937744, 3081.647705, 2964.407471, 3323.317871, null, 2155.904297, 3453.023926, 3153.8989260000003, 3480.6286619999996, 3567.686035, 3540.213135, 2827.693848, 3043.217773, 2271.105957, 2449.008057, 2657.12915, 2634.656982, 3526.91626, 3537.068604, 2704.114746, 3285.90332, 3302.84375, null, 2534.542236, 2604.535645, 2787.376465, 2944.358154, 2442.834717, 2807.041016, 2462.072754, 3274.030273, 3594.2753909999997, 3111.260254, null, 2434.2817379999997, 3124.0546879999997, 2267.722656, 2371.011475, 3028.938721, 2670.275635, 2547.596191, 2966.432129, 2768.864502, 3259.885986, 2739.1875, null, 2272.780518, 3229.376221, 2329.7729489999997, 3498.8027340000003, 2543.446045, 3386.431396, 2843.033203, 2396.978516, 3094.584961, 2959.098389, 2195.204346, 2260.920166, 2484.697021, 2402.813477, 3005.605713, 3537.195068, 2673.2810059999997, 2645.87085, 3614.015625, 3312.042236, null, 3336.784424, 2417.575195, 2572.499023, 2700.179443, 2673.112061, 2704.3857420000004, 3469.426514, null, null, null, null, null, null, 1207.4061279999999, null, null, null, null, null, null, null, 939.9246826, 951.5388793999999, 939.986145, null, null, null, null, null, null, null, null, null, 955.5537720000001, 969.336792, 958.8702392999999, null, null, null, null, null, null]}],\n",
       "                        {\"autosize\": false, \"height\": 600, \"template\": {\"data\": {\"bar\": [{\"error_x\": {\"color\": \"#2a3f5f\"}, \"error_y\": {\"color\": \"#2a3f5f\"}, \"marker\": {\"line\": {\"color\": \"white\", \"width\": 0.5}}, \"type\": \"bar\"}], \"barpolar\": [{\"marker\": {\"line\": {\"color\": \"white\", \"width\": 0.5}}, \"type\": \"barpolar\"}], \"carpet\": [{\"aaxis\": {\"endlinecolor\": \"#2a3f5f\", \"gridcolor\": \"#C8D4E3\", \"linecolor\": \"#C8D4E3\", \"minorgridcolor\": \"#C8D4E3\", \"startlinecolor\": \"#2a3f5f\"}, \"baxis\": {\"endlinecolor\": \"#2a3f5f\", \"gridcolor\": \"#C8D4E3\", \"linecolor\": \"#C8D4E3\", \"minorgridcolor\": \"#C8D4E3\", \"startlinecolor\": \"#2a3f5f\"}, \"type\": \"carpet\"}], \"choropleth\": [{\"colorbar\": {\"outlinewidth\": 0, \"ticks\": \"\"}, \"type\": \"choropleth\"}], \"contour\": [{\"colorbar\": {\"outlinewidth\": 0, \"ticks\": \"\"}, \"colorscale\": [[0.0, \"#0d0887\"], [0.1111111111111111, \"#46039f\"], [0.2222222222222222, \"#7201a8\"], [0.3333333333333333, \"#9c179e\"], [0.4444444444444444, \"#bd3786\"], [0.5555555555555556, \"#d8576b\"], [0.6666666666666666, \"#ed7953\"], [0.7777777777777778, \"#fb9f3a\"], [0.8888888888888888, \"#fdca26\"], [1.0, \"#f0f921\"]], \"type\": \"contour\"}], \"contourcarpet\": [{\"colorbar\": {\"outlinewidth\": 0, \"ticks\": \"\"}, \"type\": \"contourcarpet\"}], \"heatmap\": [{\"colorbar\": {\"outlinewidth\": 0, \"ticks\": \"\"}, \"colorscale\": [[0.0, \"#0d0887\"], [0.1111111111111111, \"#46039f\"], [0.2222222222222222, \"#7201a8\"], [0.3333333333333333, \"#9c179e\"], [0.4444444444444444, \"#bd3786\"], [0.5555555555555556, \"#d8576b\"], [0.6666666666666666, \"#ed7953\"], [0.7777777777777778, \"#fb9f3a\"], [0.8888888888888888, \"#fdca26\"], [1.0, \"#f0f921\"]], \"type\": \"heatmap\"}], \"heatmapgl\": [{\"colorbar\": {\"outlinewidth\": 0, \"ticks\": \"\"}, \"colorscale\": [[0.0, \"#0d0887\"], [0.1111111111111111, \"#46039f\"], [0.2222222222222222, \"#7201a8\"], [0.3333333333333333, \"#9c179e\"], [0.4444444444444444, \"#bd3786\"], [0.5555555555555556, \"#d8576b\"], [0.6666666666666666, \"#ed7953\"], [0.7777777777777778, \"#fb9f3a\"], [0.8888888888888888, \"#fdca26\"], [1.0, \"#f0f921\"]], \"type\": \"heatmapgl\"}], \"histogram\": [{\"marker\": {\"colorbar\": {\"outlinewidth\": 0, \"ticks\": \"\"}}, \"type\": \"histogram\"}], \"histogram2d\": [{\"colorbar\": {\"outlinewidth\": 0, \"ticks\": \"\"}, \"colorscale\": [[0.0, \"#0d0887\"], [0.1111111111111111, \"#46039f\"], [0.2222222222222222, \"#7201a8\"], [0.3333333333333333, \"#9c179e\"], [0.4444444444444444, \"#bd3786\"], [0.5555555555555556, \"#d8576b\"], [0.6666666666666666, \"#ed7953\"], [0.7777777777777778, \"#fb9f3a\"], [0.8888888888888888, \"#fdca26\"], [1.0, \"#f0f921\"]], \"type\": \"histogram2d\"}], \"histogram2dcontour\": [{\"colorbar\": {\"outlinewidth\": 0, \"ticks\": \"\"}, \"colorscale\": [[0.0, \"#0d0887\"], [0.1111111111111111, \"#46039f\"], [0.2222222222222222, \"#7201a8\"], [0.3333333333333333, \"#9c179e\"], [0.4444444444444444, \"#bd3786\"], [0.5555555555555556, \"#d8576b\"], [0.6666666666666666, \"#ed7953\"], [0.7777777777777778, \"#fb9f3a\"], [0.8888888888888888, \"#fdca26\"], [1.0, \"#f0f921\"]], \"type\": \"histogram2dcontour\"}], \"mesh3d\": [{\"colorbar\": {\"outlinewidth\": 0, \"ticks\": \"\"}, \"type\": \"mesh3d\"}], \"parcoords\": [{\"line\": {\"colorbar\": {\"outlinewidth\": 0, \"ticks\": \"\"}}, \"type\": \"parcoords\"}], \"scatter\": [{\"marker\": {\"colorbar\": {\"outlinewidth\": 0, \"ticks\": \"\"}}, \"type\": \"scatter\"}], \"scatter3d\": [{\"line\": {\"colorbar\": {\"outlinewidth\": 0, \"ticks\": \"\"}}, \"marker\": {\"colorbar\": {\"outlinewidth\": 0, \"ticks\": \"\"}}, \"type\": \"scatter3d\"}], \"scattercarpet\": [{\"marker\": {\"colorbar\": {\"outlinewidth\": 0, \"ticks\": \"\"}}, \"type\": \"scattercarpet\"}], \"scattergeo\": [{\"marker\": {\"colorbar\": {\"outlinewidth\": 0, \"ticks\": \"\"}}, \"type\": \"scattergeo\"}], \"scattergl\": [{\"marker\": {\"colorbar\": {\"outlinewidth\": 0, \"ticks\": \"\"}}, \"type\": \"scattergl\"}], \"scattermapbox\": [{\"marker\": {\"colorbar\": {\"outlinewidth\": 0, \"ticks\": \"\"}}, \"type\": \"scattermapbox\"}], \"scatterpolar\": [{\"marker\": {\"colorbar\": {\"outlinewidth\": 0, \"ticks\": \"\"}}, \"type\": \"scatterpolar\"}], \"scatterpolargl\": [{\"marker\": {\"colorbar\": {\"outlinewidth\": 0, \"ticks\": \"\"}}, \"type\": \"scatterpolargl\"}], \"scatterternary\": [{\"marker\": {\"colorbar\": {\"outlinewidth\": 0, \"ticks\": \"\"}}, \"type\": \"scatterternary\"}], \"surface\": [{\"colorbar\": {\"outlinewidth\": 0, \"ticks\": \"\"}, \"colorscale\": [[0.0, \"#0d0887\"], [0.1111111111111111, \"#46039f\"], [0.2222222222222222, \"#7201a8\"], [0.3333333333333333, \"#9c179e\"], [0.4444444444444444, \"#bd3786\"], [0.5555555555555556, \"#d8576b\"], [0.6666666666666666, \"#ed7953\"], [0.7777777777777778, \"#fb9f3a\"], [0.8888888888888888, \"#fdca26\"], [1.0, \"#f0f921\"]], \"type\": \"surface\"}], \"table\": [{\"cells\": {\"fill\": {\"color\": \"#EBF0F8\"}, \"line\": {\"color\": \"white\"}}, \"header\": {\"fill\": {\"color\": \"#C8D4E3\"}, \"line\": {\"color\": \"white\"}}, \"type\": \"table\"}]}, \"layout\": {\"annotationdefaults\": {\"arrowcolor\": \"#2a3f5f\", \"arrowhead\": 0, \"arrowwidth\": 1}, \"colorscale\": {\"diverging\": [[0, \"#8e0152\"], [0.1, \"#c51b7d\"], [0.2, \"#de77ae\"], [0.3, \"#f1b6da\"], [0.4, \"#fde0ef\"], [0.5, \"#f7f7f7\"], [0.6, \"#e6f5d0\"], [0.7, \"#b8e186\"], [0.8, \"#7fbc41\"], [0.9, \"#4d9221\"], [1, \"#276419\"]], \"sequential\": [[0.0, \"#0d0887\"], [0.1111111111111111, \"#46039f\"], [0.2222222222222222, \"#7201a8\"], [0.3333333333333333, \"#9c179e\"], [0.4444444444444444, \"#bd3786\"], [0.5555555555555556, \"#d8576b\"], [0.6666666666666666, \"#ed7953\"], [0.7777777777777778, \"#fb9f3a\"], [0.8888888888888888, \"#fdca26\"], [1.0, \"#f0f921\"]], \"sequentialminus\": [[0.0, \"#0d0887\"], [0.1111111111111111, \"#46039f\"], [0.2222222222222222, \"#7201a8\"], [0.3333333333333333, \"#9c179e\"], [0.4444444444444444, \"#bd3786\"], [0.5555555555555556, \"#d8576b\"], [0.6666666666666666, \"#ed7953\"], [0.7777777777777778, \"#fb9f3a\"], [0.8888888888888888, \"#fdca26\"], [1.0, \"#f0f921\"]]}, \"colorway\": [\"#636efa\", \"#EF553B\", \"#00cc96\", \"#ab63fa\", \"#FFA15A\", \"#19d3f3\", \"#FF6692\", \"#B6E880\", \"#FF97FF\", \"#FECB52\"], \"font\": {\"color\": \"#2a3f5f\"}, \"geo\": {\"bgcolor\": \"white\", \"lakecolor\": \"white\", \"landcolor\": \"white\", \"showlakes\": true, \"showland\": true, \"subunitcolor\": \"#C8D4E3\"}, \"hoverlabel\": {\"align\": \"left\"}, \"hovermode\": \"closest\", \"mapbox\": {\"style\": \"light\"}, \"paper_bgcolor\": \"white\", \"plot_bgcolor\": \"white\", \"polar\": {\"angularaxis\": {\"gridcolor\": \"#EBF0F8\", \"linecolor\": \"#EBF0F8\", \"ticks\": \"\"}, \"bgcolor\": \"white\", \"radialaxis\": {\"gridcolor\": \"#EBF0F8\", \"linecolor\": \"#EBF0F8\", \"ticks\": \"\"}}, \"scene\": {\"xaxis\": {\"backgroundcolor\": \"white\", \"gridcolor\": \"#DFE8F3\", \"gridwidth\": 2, \"linecolor\": \"#EBF0F8\", \"showbackground\": true, \"ticks\": \"\", \"zerolinecolor\": \"#EBF0F8\"}, \"yaxis\": {\"backgroundcolor\": \"white\", \"gridcolor\": \"#DFE8F3\", \"gridwidth\": 2, \"linecolor\": \"#EBF0F8\", \"showbackground\": true, \"ticks\": \"\", \"zerolinecolor\": \"#EBF0F8\"}, \"zaxis\": {\"backgroundcolor\": \"white\", \"gridcolor\": \"#DFE8F3\", \"gridwidth\": 2, \"linecolor\": \"#EBF0F8\", \"showbackground\": true, \"ticks\": \"\", \"zerolinecolor\": \"#EBF0F8\"}}, \"shapedefaults\": {\"line\": {\"color\": \"#2a3f5f\"}}, \"ternary\": {\"aaxis\": {\"gridcolor\": \"#DFE8F3\", \"linecolor\": \"#A2B1C6\", \"ticks\": \"\"}, \"baxis\": {\"gridcolor\": \"#DFE8F3\", \"linecolor\": \"#A2B1C6\", \"ticks\": \"\"}, \"bgcolor\": \"white\", \"caxis\": {\"gridcolor\": \"#DFE8F3\", \"linecolor\": \"#A2B1C6\", \"ticks\": \"\"}}, \"title\": {\"x\": 0.05}, \"xaxis\": {\"automargin\": true, \"gridcolor\": \"#EBF0F8\", \"linecolor\": \"#EBF0F8\", \"ticks\": \"\", \"zerolinecolor\": \"#EBF0F8\", \"zerolinewidth\": 2}, \"yaxis\": {\"automargin\": true, \"gridcolor\": \"#EBF0F8\", \"linecolor\": \"#EBF0F8\", \"ticks\": \"\", \"zerolinecolor\": \"#EBF0F8\", \"zerolinewidth\": 2}}}, \"width\": 600},\n",
       "                        {\"responsive\": true}\n",
       "                    ).then(function(){\n",
       "                            \n",
       "var gd = document.getElementById('027e1aa1-a365-4caa-aca9-ace6995b9c10');\n",
       "var x = new MutationObserver(function (mutations, observer) {{\n",
       "        var display = window.getComputedStyle(gd).display;\n",
       "        if (!display || display === 'none') {{\n",
       "            console.log([gd, 'removed!']);\n",
       "            Plotly.purge(gd);\n",
       "            observer.disconnect();\n",
       "        }}\n",
       "}});\n",
       "\n",
       "// Listen for the removal of the full notebook cells\n",
       "var notebookContainer = gd.closest('#notebook-container');\n",
       "if (notebookContainer) {{\n",
       "    x.observe(notebookContainer, {childList: true});\n",
       "}}\n",
       "\n",
       "// Listen for the clearing of the current output cell\n",
       "var outputEl = gd.closest('.output');\n",
       "if (outputEl) {{\n",
       "    x.observe(outputEl, {childList: true});\n",
       "}}\n",
       "\n",
       "                        })\n",
       "                };\n",
       "                });\n",
       "            </script>\n",
       "        </div>"
      ]
     },
     "metadata": {},
     "output_type": "display_data"
    },
    {
     "name": "stdout",
     "output_type": "stream",
     "text": [
      "before fam color\n",
      "after fam color\n"
     ]
    },
    {
     "data": {
      "application/vnd.plotly.v1+json": {
       "config": {
        "plotlyServerURL": "https://plot.ly"
       },
       "data": [
        {
         "box": {
          "visible": true
         },
         "jitter": 0.1,
         "legendgroup": "user data",
         "line": {
          "color": "green"
         },
         "meanline": {
          "visible": true
         },
         "name": "user data",
         "pointpos": -0.5,
         "points": "all",
         "scalegroup": "user data",
         "side": "negative",
         "type": "violin",
         "x": [
          "fd_mean",
          "fd_mean",
          "fd_mean",
          "fd_mean",
          "fd_mean",
          "fd_mean",
          "fd_mean",
          "fd_mean",
          "fd_mean",
          "fd_mean",
          "fd_mean",
          "fd_mean",
          "fd_mean",
          "fd_mean",
          "fd_mean",
          "fd_mean",
          "fd_mean",
          "fd_mean",
          "fd_mean",
          "fd_mean",
          "fd_mean",
          "fd_mean",
          "fd_mean",
          "fd_mean",
          "fd_mean",
          "fd_mean",
          "fd_mean",
          "fd_mean",
          "fd_mean",
          "fd_mean",
          "fd_mean",
          "fd_mean",
          "fd_mean",
          "fd_mean",
          "fd_mean",
          "fd_mean",
          "fd_mean",
          "fd_mean",
          "fd_mean",
          "fd_mean",
          "fd_mean",
          "fd_mean",
          "fd_mean",
          "fd_mean",
          "fd_mean",
          "fd_mean",
          "fd_mean",
          "fd_mean",
          "fd_mean",
          "fd_mean",
          "fd_mean",
          "fd_mean",
          "fd_mean",
          "fd_mean",
          "fd_mean",
          "fd_mean",
          "fd_mean",
          "fd_mean",
          "fd_mean",
          "fd_mean",
          "fd_mean",
          "fd_mean",
          "fd_mean",
          "fd_mean",
          "fd_mean",
          "fd_mean",
          "fd_mean",
          "fd_mean",
          "fd_mean",
          "fd_mean",
          "fd_mean",
          "fd_mean",
          "fd_mean",
          "fd_mean",
          "fd_mean",
          "fd_mean",
          "fd_mean",
          "fd_mean",
          "fd_mean",
          "fd_mean",
          "fd_mean",
          "fd_mean",
          "fd_mean",
          "fd_mean",
          "fd_mean",
          "fd_mean",
          "fd_mean",
          "fd_mean",
          "fd_mean",
          "fd_mean",
          "fd_mean",
          "fd_mean",
          "fd_mean",
          "fd_mean",
          "fd_mean",
          "fd_mean",
          "fd_mean",
          "fd_mean",
          "fd_mean",
          "fd_mean",
          "fd_mean",
          "fd_mean",
          "fd_mean",
          "fd_mean",
          "fd_mean",
          "fd_mean",
          "fd_mean",
          "fd_mean",
          "fd_mean",
          "fd_mean",
          "fd_mean",
          "fd_mean",
          "fd_mean",
          "fd_mean",
          "fd_mean",
          "fd_mean",
          "fd_mean",
          "fd_mean",
          "fd_mean",
          "fd_mean",
          "fd_mean",
          "fd_mean",
          "fd_mean",
          "fd_mean",
          "fd_mean",
          "fd_mean",
          "fd_mean",
          "fd_mean",
          "fd_mean",
          "fd_mean",
          "fd_mean",
          "fd_mean",
          "fd_mean",
          "fd_mean",
          "fd_mean",
          "fd_mean",
          "fd_mean",
          "fd_mean",
          "fd_mean",
          "fd_mean",
          "fd_mean",
          "fd_mean"
         ],
         "y": [
          0.3568379083801761,
          0.4073220513805476,
          0.11897038125464535,
          0.20261679382649755,
          0.2970360894347012,
          0.15446126449233966,
          1.2807109705228958,
          0.4385471727004167,
          0.17423104709114626,
          0.1401604494525404,
          0.5593221266208634,
          0.16475929693671387,
          0.3064342337244252,
          0.14668388543708666,
          0.11918540490710035,
          0.20155070188792887,
          0.15769466042760222,
          0.16271118051132022,
          0.5013158974807705,
          0.13724838101189027,
          0.17230305740867652,
          0.6121873804167405,
          0.23768877741724104,
          0.15852370318341547,
          0.4210863896744135,
          0.12088959823293048,
          0.2747692336781948,
          0.17653248499866608,
          0.17840441726488876,
          0.3197881557708839,
          0.17904180610497492,
          0.2265855746260729,
          0.1806889416734926,
          0.14649639953854351,
          0.1132857740166329,
          0.18212829732865016,
          0.2457850369603157,
          0.14766749088809306,
          0.3164981495400929,
          0.4196613969909917,
          0.12497481145127175,
          0.19573810889714252,
          0.34460005729769283,
          0.26326868018546884,
          0.157282784930735,
          0.1836017619510729,
          0.16174459712132014,
          0.13411697727336236,
          0.14345751525610784,
          0.2344322430402833,
          0.2974796254079187,
          0.10395876214240587,
          0.25302234618090125,
          0.5726864054362377,
          0.2083998739000633,
          0.4295357149940805,
          0.2773221790550424,
          0.2378615720206201,
          1.6563832682561728,
          0.16856278832830993,
          0.21600192200632665,
          0.2480454524901965,
          0.3829174317176644,
          0.18513538553151568,
          0.23291144344320805,
          0.6472811274973427,
          0.2060155051752307,
          0.2290256915176111,
          0.2974980260406378,
          0.4820228769947703,
          0.4499572298912118,
          0.2607343456727685,
          0.4245321193418747,
          0.20679194136864776,
          0.2597056186541382,
          0.1725855832993705,
          0.2670069156866343,
          0.3324602622798182,
          0.14509009847555926,
          0.18433759357479876,
          0.18957286219263705,
          0.3111420588864747,
          0.24428824250804854,
          0.16286041201718673,
          0.2052374956497658,
          0.14948481334079128,
          0.7092350879673999,
          0.13101147965686394,
          0.16348391486667993,
          0.18734415600549595,
          0.1457322194977807,
          0.17614398620831465,
          0.3236129009479597,
          0.3039581139760881,
          0.5205108491122976,
          0.17002949450501084,
          0.22226365357660668,
          0.12751692612083404,
          0.21802655347259947,
          0.9825438366347105,
          0.2631768521251941,
          0.15163305170665686,
          0.1982625550847578,
          0.17787926818711775,
          0.2644739112595835,
          0.2552454439195581,
          0.3102615703723764,
          0.1023970462341358,
          0.19233013177301828,
          0.19542779021705076,
          0.20520532474221526,
          0.13142109334554725,
          0.14811072747561468,
          0.14739714685125765,
          0.12344035863790324,
          0.20400549111562874,
          0.15045753857101787,
          0.16123115304086405,
          0.2604704903327128,
          0.11044505041610238,
          0.2086398999864089,
          0.1142527967162882,
          0.11018906450909438,
          0.11110251165560056,
          0.1005445087057648,
          0.2352436142132657,
          0.17033957930214774,
          0.13303995787560655,
          0.18110065982310425,
          0.27586698927739794,
          0.25766382244047475,
          0.15424540228689054,
          0.24591480324953796,
          0.16838055799409887,
          0.32274715276137644,
          0.11192908558606232,
          0.1325361390927222,
          0.10823298371714543,
          0.1626458473220274,
          0.2194702930159397,
          0.061756560039971875,
          0.18208558569084973
         ]
        },
        {
         "box": {
          "visible": true
         },
         "legendgroup": "api",
         "line": {
          "color": "gray"
         },
         "meanline": {
          "visible": true
         },
         "name": "api",
         "scalegroup": "api",
         "side": "positive",
         "type": "violin",
         "x": [
          "fd_mean",
          "fd_mean",
          "fd_mean",
          "fd_mean",
          "fd_mean",
          "fd_mean",
          "fd_mean",
          "fd_mean",
          "fd_mean",
          "fd_mean",
          "fd_mean",
          "fd_mean",
          "fd_mean",
          "fd_mean",
          "fd_mean",
          "fd_mean",
          "fd_mean",
          "fd_mean",
          "fd_mean",
          "fd_mean",
          "fd_mean",
          "fd_mean",
          "fd_mean",
          "fd_mean",
          "fd_mean",
          "fd_mean",
          "fd_mean",
          "fd_mean",
          "fd_mean",
          "fd_mean",
          "fd_mean",
          "fd_mean",
          "fd_mean",
          "fd_mean",
          "fd_mean",
          "fd_mean",
          "fd_mean",
          "fd_mean",
          "fd_mean",
          "fd_mean",
          "fd_mean",
          "fd_mean",
          "fd_mean",
          "fd_mean",
          "fd_mean",
          "fd_mean",
          "fd_mean",
          "fd_mean",
          "fd_mean",
          "fd_mean",
          "fd_mean",
          "fd_mean",
          "fd_mean",
          "fd_mean",
          "fd_mean",
          "fd_mean",
          "fd_mean",
          "fd_mean",
          "fd_mean",
          "fd_mean",
          "fd_mean",
          "fd_mean",
          "fd_mean",
          "fd_mean",
          "fd_mean",
          "fd_mean",
          "fd_mean",
          "fd_mean",
          "fd_mean",
          "fd_mean",
          "fd_mean",
          "fd_mean",
          "fd_mean",
          "fd_mean",
          "fd_mean",
          "fd_mean",
          "fd_mean",
          "fd_mean",
          "fd_mean",
          "fd_mean",
          "fd_mean",
          "fd_mean",
          "fd_mean",
          "fd_mean",
          "fd_mean",
          "fd_mean",
          "fd_mean",
          "fd_mean",
          "fd_mean",
          "fd_mean",
          "fd_mean",
          "fd_mean",
          "fd_mean",
          "fd_mean",
          "fd_mean",
          "fd_mean",
          "fd_mean",
          "fd_mean",
          "fd_mean",
          "fd_mean",
          "fd_mean",
          "fd_mean",
          "fd_mean",
          "fd_mean",
          "fd_mean",
          "fd_mean",
          "fd_mean",
          "fd_mean",
          "fd_mean",
          "fd_mean",
          "fd_mean",
          "fd_mean",
          "fd_mean",
          "fd_mean",
          "fd_mean",
          "fd_mean",
          "fd_mean",
          "fd_mean",
          "fd_mean",
          "fd_mean",
          "fd_mean",
          "fd_mean",
          "fd_mean",
          "fd_mean",
          "fd_mean",
          "fd_mean",
          "fd_mean",
          "fd_mean",
          "fd_mean",
          "fd_mean",
          "fd_mean",
          "fd_mean",
          "fd_mean",
          "fd_mean",
          "fd_mean",
          "fd_mean",
          "fd_mean",
          "fd_mean",
          "fd_mean",
          "fd_mean",
          "fd_mean",
          "fd_mean",
          "fd_mean",
          "fd_mean",
          "fd_mean",
          "fd_mean",
          "fd_mean",
          "fd_mean",
          "fd_mean",
          "fd_mean",
          "fd_mean",
          "fd_mean",
          "fd_mean",
          "fd_mean",
          "fd_mean",
          "fd_mean",
          "fd_mean",
          "fd_mean",
          "fd_mean",
          "fd_mean",
          "fd_mean",
          "fd_mean",
          "fd_mean",
          "fd_mean",
          "fd_mean",
          "fd_mean",
          "fd_mean",
          "fd_mean",
          "fd_mean",
          "fd_mean",
          "fd_mean",
          "fd_mean",
          "fd_mean",
          "fd_mean",
          "fd_mean",
          "fd_mean",
          "fd_mean",
          "fd_mean",
          "fd_mean",
          "fd_mean",
          "fd_mean",
          "fd_mean",
          "fd_mean",
          "fd_mean",
          "fd_mean",
          "fd_mean",
          "fd_mean",
          "fd_mean",
          "fd_mean",
          "fd_mean",
          "fd_mean",
          "fd_mean",
          "fd_mean",
          "fd_mean",
          "fd_mean",
          "fd_mean",
          "fd_mean",
          "fd_mean",
          "fd_mean",
          "fd_mean",
          "fd_mean",
          "fd_mean",
          "fd_mean"
         ],
         "y": [
          0.065568204,
          0.08124058299999999,
          0.154145779,
          0.051500409000000004,
          0.064080843,
          0.148273859,
          0.04966854,
          0.074222198,
          0.10062714699999999,
          0.141642716,
          0.048865812,
          0.105982836,
          0.069155888,
          0.062014205,
          0.05205766,
          0.138251522,
          null,
          null,
          0.037071872,
          0.091257788,
          0.08810982099999999,
          0.075557122,
          0.072866104,
          0.111140099,
          0.17884224199999998,
          0.063555133,
          0.091408085,
          0.074889462,
          0.086867593,
          0.10354381,
          0.14777674,
          0.066997063,
          0.08023515,
          0.06804450599999999,
          0.059526656,
          0.089025256,
          0.082667399,
          0.080153066,
          0.086048326,
          0.091780217,
          0.092213062,
          0.12286575400000001,
          0.103573229,
          0.210824548,
          0.084146795,
          0.06848663,
          0.04318966900000001,
          0.06164461,
          0.058944317,
          0.074340525,
          0.088657235,
          0.10757139800000001,
          0.07541779900000001,
          0.083699065,
          0.136945702,
          0.064522526,
          0.064974665,
          0.061707770999999995,
          0.06362712,
          0.098990624,
          0.179257952,
          0.05653893,
          0.194941637,
          0.045999476,
          0.082713492,
          0.065765197,
          0.040857369,
          null,
          0.060282904000000005,
          0.068900957,
          0.046274003,
          0.069507083,
          0.091841706,
          0.129263261,
          0.113462958,
          0.11618052300000001,
          0.048743237,
          0.141616504,
          0.06658379,
          0.059100413,
          0.061321619,
          0.07509165799999999,
          0.088473527,
          0.061948849,
          0.081812998,
          0.128515881,
          0.048601578,
          0.179675881,
          0.044140465,
          0.129044776,
          0.089811813,
          0.160268709,
          0.207518345,
          0.085310229,
          0.039998239,
          0.10009395300000001,
          0.13313422,
          0.140821889,
          null,
          0.092386673,
          null,
          0.104779271,
          0.124983355,
          0.073574451,
          0.12389669099999999,
          0.078793399,
          0.056504414,
          0.11764320199999999,
          0.07312117,
          0.044618014000000004,
          0.079349818,
          0.10862845900000001,
          0.101671606,
          0.04987028599999999,
          0.12036936300000001,
          0.047821744000000006,
          0.179560136,
          0.125616583,
          0.067262277,
          0.079791796,
          0.06137738,
          0.075733048,
          0.09368897400000001,
          0.100572116,
          0.051518975,
          0.090533154,
          0.145727587,
          0.184500655,
          0.093723369,
          0.080006172,
          0.08931472300000001,
          null,
          0.126984606,
          0.109380325,
          0.052779941,
          0.065180254,
          0.06674143099999999,
          0.153974646,
          0.09706513,
          null,
          0.120117435,
          0.134867417,
          0.082478234,
          0.09091758900000001,
          0.061445149000000004,
          0.063598813,
          0.085170952,
          0.08595107699999999,
          0.144693181,
          0.11016053699999999,
          0.190768541,
          0.085244825,
          0.06514734700000001,
          0.19808565,
          0.09408603800000001,
          0.100501807,
          0.061621989,
          0.10565218,
          0.07613911599999999,
          0.053368964000000005,
          0.125705256,
          0.080511337,
          0.07412695,
          0.041602573999999996,
          0.09122216400000001,
          0.13119730300000002,
          0.065860696,
          0.08102129599999999,
          0.115340678,
          0.103469127,
          null,
          0.160726511,
          null,
          0.160726511,
          null,
          null,
          0.162040229,
          0.11134469699999999,
          0.160247527,
          0.10268453400000001,
          0.092582455,
          0.098445929,
          0.125283594,
          0.075667154,
          0.074170995,
          0.11512294699999999,
          0.112557163,
          0.114515956,
          0.111290963,
          0.071867693,
          0.11975093199999999,
          0.098521914,
          0.099739849,
          0.136585083,
          0.131885983,
          0.103185836,
          0.11387083699999999,
          0.165720507,
          0.181934365,
          0.197931313,
          0.12832838300000002,
          0.123512645,
          0.134764296
         ]
        }
       ],
       "layout": {
        "autosize": false,
        "height": 600,
        "template": {
         "data": {
          "bar": [
           {
            "error_x": {
             "color": "#2a3f5f"
            },
            "error_y": {
             "color": "#2a3f5f"
            },
            "marker": {
             "line": {
              "color": "white",
              "width": 0.5
             }
            },
            "type": "bar"
           }
          ],
          "barpolar": [
           {
            "marker": {
             "line": {
              "color": "white",
              "width": 0.5
             }
            },
            "type": "barpolar"
           }
          ],
          "carpet": [
           {
            "aaxis": {
             "endlinecolor": "#2a3f5f",
             "gridcolor": "#C8D4E3",
             "linecolor": "#C8D4E3",
             "minorgridcolor": "#C8D4E3",
             "startlinecolor": "#2a3f5f"
            },
            "baxis": {
             "endlinecolor": "#2a3f5f",
             "gridcolor": "#C8D4E3",
             "linecolor": "#C8D4E3",
             "minorgridcolor": "#C8D4E3",
             "startlinecolor": "#2a3f5f"
            },
            "type": "carpet"
           }
          ],
          "choropleth": [
           {
            "colorbar": {
             "outlinewidth": 0,
             "ticks": ""
            },
            "type": "choropleth"
           }
          ],
          "contour": [
           {
            "colorbar": {
             "outlinewidth": 0,
             "ticks": ""
            },
            "colorscale": [
             [
              0,
              "#0d0887"
             ],
             [
              0.1111111111111111,
              "#46039f"
             ],
             [
              0.2222222222222222,
              "#7201a8"
             ],
             [
              0.3333333333333333,
              "#9c179e"
             ],
             [
              0.4444444444444444,
              "#bd3786"
             ],
             [
              0.5555555555555556,
              "#d8576b"
             ],
             [
              0.6666666666666666,
              "#ed7953"
             ],
             [
              0.7777777777777778,
              "#fb9f3a"
             ],
             [
              0.8888888888888888,
              "#fdca26"
             ],
             [
              1,
              "#f0f921"
             ]
            ],
            "type": "contour"
           }
          ],
          "contourcarpet": [
           {
            "colorbar": {
             "outlinewidth": 0,
             "ticks": ""
            },
            "type": "contourcarpet"
           }
          ],
          "heatmap": [
           {
            "colorbar": {
             "outlinewidth": 0,
             "ticks": ""
            },
            "colorscale": [
             [
              0,
              "#0d0887"
             ],
             [
              0.1111111111111111,
              "#46039f"
             ],
             [
              0.2222222222222222,
              "#7201a8"
             ],
             [
              0.3333333333333333,
              "#9c179e"
             ],
             [
              0.4444444444444444,
              "#bd3786"
             ],
             [
              0.5555555555555556,
              "#d8576b"
             ],
             [
              0.6666666666666666,
              "#ed7953"
             ],
             [
              0.7777777777777778,
              "#fb9f3a"
             ],
             [
              0.8888888888888888,
              "#fdca26"
             ],
             [
              1,
              "#f0f921"
             ]
            ],
            "type": "heatmap"
           }
          ],
          "heatmapgl": [
           {
            "colorbar": {
             "outlinewidth": 0,
             "ticks": ""
            },
            "colorscale": [
             [
              0,
              "#0d0887"
             ],
             [
              0.1111111111111111,
              "#46039f"
             ],
             [
              0.2222222222222222,
              "#7201a8"
             ],
             [
              0.3333333333333333,
              "#9c179e"
             ],
             [
              0.4444444444444444,
              "#bd3786"
             ],
             [
              0.5555555555555556,
              "#d8576b"
             ],
             [
              0.6666666666666666,
              "#ed7953"
             ],
             [
              0.7777777777777778,
              "#fb9f3a"
             ],
             [
              0.8888888888888888,
              "#fdca26"
             ],
             [
              1,
              "#f0f921"
             ]
            ],
            "type": "heatmapgl"
           }
          ],
          "histogram": [
           {
            "marker": {
             "colorbar": {
              "outlinewidth": 0,
              "ticks": ""
             }
            },
            "type": "histogram"
           }
          ],
          "histogram2d": [
           {
            "colorbar": {
             "outlinewidth": 0,
             "ticks": ""
            },
            "colorscale": [
             [
              0,
              "#0d0887"
             ],
             [
              0.1111111111111111,
              "#46039f"
             ],
             [
              0.2222222222222222,
              "#7201a8"
             ],
             [
              0.3333333333333333,
              "#9c179e"
             ],
             [
              0.4444444444444444,
              "#bd3786"
             ],
             [
              0.5555555555555556,
              "#d8576b"
             ],
             [
              0.6666666666666666,
              "#ed7953"
             ],
             [
              0.7777777777777778,
              "#fb9f3a"
             ],
             [
              0.8888888888888888,
              "#fdca26"
             ],
             [
              1,
              "#f0f921"
             ]
            ],
            "type": "histogram2d"
           }
          ],
          "histogram2dcontour": [
           {
            "colorbar": {
             "outlinewidth": 0,
             "ticks": ""
            },
            "colorscale": [
             [
              0,
              "#0d0887"
             ],
             [
              0.1111111111111111,
              "#46039f"
             ],
             [
              0.2222222222222222,
              "#7201a8"
             ],
             [
              0.3333333333333333,
              "#9c179e"
             ],
             [
              0.4444444444444444,
              "#bd3786"
             ],
             [
              0.5555555555555556,
              "#d8576b"
             ],
             [
              0.6666666666666666,
              "#ed7953"
             ],
             [
              0.7777777777777778,
              "#fb9f3a"
             ],
             [
              0.8888888888888888,
              "#fdca26"
             ],
             [
              1,
              "#f0f921"
             ]
            ],
            "type": "histogram2dcontour"
           }
          ],
          "mesh3d": [
           {
            "colorbar": {
             "outlinewidth": 0,
             "ticks": ""
            },
            "type": "mesh3d"
           }
          ],
          "parcoords": [
           {
            "line": {
             "colorbar": {
              "outlinewidth": 0,
              "ticks": ""
             }
            },
            "type": "parcoords"
           }
          ],
          "scatter": [
           {
            "marker": {
             "colorbar": {
              "outlinewidth": 0,
              "ticks": ""
             }
            },
            "type": "scatter"
           }
          ],
          "scatter3d": [
           {
            "line": {
             "colorbar": {
              "outlinewidth": 0,
              "ticks": ""
             }
            },
            "marker": {
             "colorbar": {
              "outlinewidth": 0,
              "ticks": ""
             }
            },
            "type": "scatter3d"
           }
          ],
          "scattercarpet": [
           {
            "marker": {
             "colorbar": {
              "outlinewidth": 0,
              "ticks": ""
             }
            },
            "type": "scattercarpet"
           }
          ],
          "scattergeo": [
           {
            "marker": {
             "colorbar": {
              "outlinewidth": 0,
              "ticks": ""
             }
            },
            "type": "scattergeo"
           }
          ],
          "scattergl": [
           {
            "marker": {
             "colorbar": {
              "outlinewidth": 0,
              "ticks": ""
             }
            },
            "type": "scattergl"
           }
          ],
          "scattermapbox": [
           {
            "marker": {
             "colorbar": {
              "outlinewidth": 0,
              "ticks": ""
             }
            },
            "type": "scattermapbox"
           }
          ],
          "scatterpolar": [
           {
            "marker": {
             "colorbar": {
              "outlinewidth": 0,
              "ticks": ""
             }
            },
            "type": "scatterpolar"
           }
          ],
          "scatterpolargl": [
           {
            "marker": {
             "colorbar": {
              "outlinewidth": 0,
              "ticks": ""
             }
            },
            "type": "scatterpolargl"
           }
          ],
          "scatterternary": [
           {
            "marker": {
             "colorbar": {
              "outlinewidth": 0,
              "ticks": ""
             }
            },
            "type": "scatterternary"
           }
          ],
          "surface": [
           {
            "colorbar": {
             "outlinewidth": 0,
             "ticks": ""
            },
            "colorscale": [
             [
              0,
              "#0d0887"
             ],
             [
              0.1111111111111111,
              "#46039f"
             ],
             [
              0.2222222222222222,
              "#7201a8"
             ],
             [
              0.3333333333333333,
              "#9c179e"
             ],
             [
              0.4444444444444444,
              "#bd3786"
             ],
             [
              0.5555555555555556,
              "#d8576b"
             ],
             [
              0.6666666666666666,
              "#ed7953"
             ],
             [
              0.7777777777777778,
              "#fb9f3a"
             ],
             [
              0.8888888888888888,
              "#fdca26"
             ],
             [
              1,
              "#f0f921"
             ]
            ],
            "type": "surface"
           }
          ],
          "table": [
           {
            "cells": {
             "fill": {
              "color": "#EBF0F8"
             },
             "line": {
              "color": "white"
             }
            },
            "header": {
             "fill": {
              "color": "#C8D4E3"
             },
             "line": {
              "color": "white"
             }
            },
            "type": "table"
           }
          ]
         },
         "layout": {
          "annotationdefaults": {
           "arrowcolor": "#2a3f5f",
           "arrowhead": 0,
           "arrowwidth": 1
          },
          "colorscale": {
           "diverging": [
            [
             0,
             "#8e0152"
            ],
            [
             0.1,
             "#c51b7d"
            ],
            [
             0.2,
             "#de77ae"
            ],
            [
             0.3,
             "#f1b6da"
            ],
            [
             0.4,
             "#fde0ef"
            ],
            [
             0.5,
             "#f7f7f7"
            ],
            [
             0.6,
             "#e6f5d0"
            ],
            [
             0.7,
             "#b8e186"
            ],
            [
             0.8,
             "#7fbc41"
            ],
            [
             0.9,
             "#4d9221"
            ],
            [
             1,
             "#276419"
            ]
           ],
           "sequential": [
            [
             0,
             "#0d0887"
            ],
            [
             0.1111111111111111,
             "#46039f"
            ],
            [
             0.2222222222222222,
             "#7201a8"
            ],
            [
             0.3333333333333333,
             "#9c179e"
            ],
            [
             0.4444444444444444,
             "#bd3786"
            ],
            [
             0.5555555555555556,
             "#d8576b"
            ],
            [
             0.6666666666666666,
             "#ed7953"
            ],
            [
             0.7777777777777778,
             "#fb9f3a"
            ],
            [
             0.8888888888888888,
             "#fdca26"
            ],
            [
             1,
             "#f0f921"
            ]
           ],
           "sequentialminus": [
            [
             0,
             "#0d0887"
            ],
            [
             0.1111111111111111,
             "#46039f"
            ],
            [
             0.2222222222222222,
             "#7201a8"
            ],
            [
             0.3333333333333333,
             "#9c179e"
            ],
            [
             0.4444444444444444,
             "#bd3786"
            ],
            [
             0.5555555555555556,
             "#d8576b"
            ],
            [
             0.6666666666666666,
             "#ed7953"
            ],
            [
             0.7777777777777778,
             "#fb9f3a"
            ],
            [
             0.8888888888888888,
             "#fdca26"
            ],
            [
             1,
             "#f0f921"
            ]
           ]
          },
          "colorway": [
           "#636efa",
           "#EF553B",
           "#00cc96",
           "#ab63fa",
           "#FFA15A",
           "#19d3f3",
           "#FF6692",
           "#B6E880",
           "#FF97FF",
           "#FECB52"
          ],
          "font": {
           "color": "#2a3f5f"
          },
          "geo": {
           "bgcolor": "white",
           "lakecolor": "white",
           "landcolor": "white",
           "showlakes": true,
           "showland": true,
           "subunitcolor": "#C8D4E3"
          },
          "hoverlabel": {
           "align": "left"
          },
          "hovermode": "closest",
          "mapbox": {
           "style": "light"
          },
          "paper_bgcolor": "white",
          "plot_bgcolor": "white",
          "polar": {
           "angularaxis": {
            "gridcolor": "#EBF0F8",
            "linecolor": "#EBF0F8",
            "ticks": ""
           },
           "bgcolor": "white",
           "radialaxis": {
            "gridcolor": "#EBF0F8",
            "linecolor": "#EBF0F8",
            "ticks": ""
           }
          },
          "scene": {
           "xaxis": {
            "backgroundcolor": "white",
            "gridcolor": "#DFE8F3",
            "gridwidth": 2,
            "linecolor": "#EBF0F8",
            "showbackground": true,
            "ticks": "",
            "zerolinecolor": "#EBF0F8"
           },
           "yaxis": {
            "backgroundcolor": "white",
            "gridcolor": "#DFE8F3",
            "gridwidth": 2,
            "linecolor": "#EBF0F8",
            "showbackground": true,
            "ticks": "",
            "zerolinecolor": "#EBF0F8"
           },
           "zaxis": {
            "backgroundcolor": "white",
            "gridcolor": "#DFE8F3",
            "gridwidth": 2,
            "linecolor": "#EBF0F8",
            "showbackground": true,
            "ticks": "",
            "zerolinecolor": "#EBF0F8"
           }
          },
          "shapedefaults": {
           "line": {
            "color": "#2a3f5f"
           }
          },
          "ternary": {
           "aaxis": {
            "gridcolor": "#DFE8F3",
            "linecolor": "#A2B1C6",
            "ticks": ""
           },
           "baxis": {
            "gridcolor": "#DFE8F3",
            "linecolor": "#A2B1C6",
            "ticks": ""
           },
           "bgcolor": "white",
           "caxis": {
            "gridcolor": "#DFE8F3",
            "linecolor": "#A2B1C6",
            "ticks": ""
           }
          },
          "title": {
           "x": 0.05
          },
          "xaxis": {
           "automargin": true,
           "gridcolor": "#EBF0F8",
           "linecolor": "#EBF0F8",
           "ticks": "",
           "zerolinecolor": "#EBF0F8",
           "zerolinewidth": 2
          },
          "yaxis": {
           "automargin": true,
           "gridcolor": "#EBF0F8",
           "linecolor": "#EBF0F8",
           "ticks": "",
           "zerolinecolor": "#EBF0F8",
           "zerolinewidth": 2
          }
         }
        },
        "width": 600
       }
      },
      "text/html": [
       "<div>\n",
       "        \n",
       "        \n",
       "            <div id=\"ba3ec493-e40e-474f-a996-b04dd1601b8c\" class=\"plotly-graph-div\" style=\"height:600px; width:600px;\"></div>\n",
       "            <script type=\"text/javascript\">\n",
       "                require([\"plotly\"], function(Plotly) {\n",
       "                    window.PLOTLYENV=window.PLOTLYENV || {};\n",
       "                    \n",
       "                if (document.getElementById(\"ba3ec493-e40e-474f-a996-b04dd1601b8c\")) {\n",
       "                    Plotly.newPlot(\n",
       "                        'ba3ec493-e40e-474f-a996-b04dd1601b8c',\n",
       "                        [{\"box\": {\"visible\": true}, \"jitter\": 0.1, \"legendgroup\": \"user data\", \"line\": {\"color\": \"green\"}, \"meanline\": {\"visible\": true}, \"name\": \"user data\", \"pointpos\": -0.5, \"points\": \"all\", \"scalegroup\": \"user data\", \"side\": \"negative\", \"type\": \"violin\", \"x\": [\"fd_mean\", \"fd_mean\", \"fd_mean\", \"fd_mean\", \"fd_mean\", \"fd_mean\", \"fd_mean\", \"fd_mean\", \"fd_mean\", \"fd_mean\", \"fd_mean\", \"fd_mean\", \"fd_mean\", \"fd_mean\", \"fd_mean\", \"fd_mean\", \"fd_mean\", \"fd_mean\", \"fd_mean\", \"fd_mean\", \"fd_mean\", \"fd_mean\", \"fd_mean\", \"fd_mean\", \"fd_mean\", \"fd_mean\", \"fd_mean\", \"fd_mean\", \"fd_mean\", \"fd_mean\", \"fd_mean\", \"fd_mean\", \"fd_mean\", \"fd_mean\", \"fd_mean\", \"fd_mean\", \"fd_mean\", \"fd_mean\", \"fd_mean\", \"fd_mean\", \"fd_mean\", \"fd_mean\", \"fd_mean\", \"fd_mean\", \"fd_mean\", \"fd_mean\", \"fd_mean\", \"fd_mean\", \"fd_mean\", \"fd_mean\", \"fd_mean\", \"fd_mean\", \"fd_mean\", \"fd_mean\", \"fd_mean\", \"fd_mean\", \"fd_mean\", \"fd_mean\", \"fd_mean\", \"fd_mean\", \"fd_mean\", \"fd_mean\", \"fd_mean\", \"fd_mean\", \"fd_mean\", \"fd_mean\", \"fd_mean\", \"fd_mean\", \"fd_mean\", \"fd_mean\", \"fd_mean\", \"fd_mean\", \"fd_mean\", \"fd_mean\", \"fd_mean\", \"fd_mean\", \"fd_mean\", \"fd_mean\", \"fd_mean\", \"fd_mean\", \"fd_mean\", \"fd_mean\", \"fd_mean\", \"fd_mean\", \"fd_mean\", \"fd_mean\", \"fd_mean\", \"fd_mean\", \"fd_mean\", \"fd_mean\", \"fd_mean\", \"fd_mean\", \"fd_mean\", \"fd_mean\", \"fd_mean\", \"fd_mean\", \"fd_mean\", \"fd_mean\", \"fd_mean\", \"fd_mean\", \"fd_mean\", \"fd_mean\", \"fd_mean\", \"fd_mean\", \"fd_mean\", \"fd_mean\", \"fd_mean\", \"fd_mean\", \"fd_mean\", \"fd_mean\", \"fd_mean\", \"fd_mean\", \"fd_mean\", \"fd_mean\", \"fd_mean\", \"fd_mean\", \"fd_mean\", \"fd_mean\", \"fd_mean\", \"fd_mean\", \"fd_mean\", \"fd_mean\", \"fd_mean\", \"fd_mean\", \"fd_mean\", \"fd_mean\", \"fd_mean\", \"fd_mean\", \"fd_mean\", \"fd_mean\", \"fd_mean\", \"fd_mean\", \"fd_mean\", \"fd_mean\", \"fd_mean\", \"fd_mean\", \"fd_mean\", \"fd_mean\", \"fd_mean\", \"fd_mean\", \"fd_mean\", \"fd_mean\"], \"y\": [0.3568379083801761, 0.4073220513805476, 0.11897038125464535, 0.20261679382649755, 0.2970360894347012, 0.15446126449233966, 1.2807109705228958, 0.4385471727004167, 0.17423104709114626, 0.1401604494525404, 0.5593221266208634, 0.16475929693671387, 0.3064342337244252, 0.14668388543708666, 0.11918540490710035, 0.20155070188792887, 0.15769466042760222, 0.16271118051132022, 0.5013158974807705, 0.13724838101189027, 0.17230305740867652, 0.6121873804167405, 0.23768877741724104, 0.15852370318341547, 0.4210863896744135, 0.12088959823293048, 0.2747692336781948, 0.17653248499866608, 0.17840441726488876, 0.3197881557708839, 0.17904180610497492, 0.2265855746260729, 0.1806889416734926, 0.14649639953854351, 0.1132857740166329, 0.18212829732865016, 0.2457850369603157, 0.14766749088809306, 0.3164981495400929, 0.4196613969909917, 0.12497481145127175, 0.19573810889714252, 0.34460005729769283, 0.26326868018546884, 0.157282784930735, 0.1836017619510729, 0.16174459712132014, 0.13411697727336236, 0.14345751525610784, 0.2344322430402833, 0.2974796254079187, 0.10395876214240587, 0.25302234618090125, 0.5726864054362377, 0.2083998739000633, 0.4295357149940805, 0.2773221790550424, 0.2378615720206201, 1.6563832682561728, 0.16856278832830993, 0.21600192200632665, 0.2480454524901965, 0.3829174317176644, 0.18513538553151568, 0.23291144344320805, 0.6472811274973427, 0.2060155051752307, 0.2290256915176111, 0.2974980260406378, 0.4820228769947703, 0.4499572298912118, 0.2607343456727685, 0.4245321193418747, 0.20679194136864776, 0.2597056186541382, 0.1725855832993705, 0.2670069156866343, 0.3324602622798182, 0.14509009847555926, 0.18433759357479876, 0.18957286219263705, 0.3111420588864747, 0.24428824250804854, 0.16286041201718673, 0.2052374956497658, 0.14948481334079128, 0.7092350879673999, 0.13101147965686394, 0.16348391486667993, 0.18734415600549595, 0.1457322194977807, 0.17614398620831465, 0.3236129009479597, 0.3039581139760881, 0.5205108491122976, 0.17002949450501084, 0.22226365357660668, 0.12751692612083404, 0.21802655347259947, 0.9825438366347105, 0.2631768521251941, 0.15163305170665686, 0.1982625550847578, 0.17787926818711775, 0.2644739112595835, 0.2552454439195581, 0.3102615703723764, 0.1023970462341358, 0.19233013177301828, 0.19542779021705076, 0.20520532474221526, 0.13142109334554725, 0.14811072747561468, 0.14739714685125765, 0.12344035863790324, 0.20400549111562874, 0.15045753857101787, 0.16123115304086405, 0.2604704903327128, 0.11044505041610238, 0.2086398999864089, 0.1142527967162882, 0.11018906450909438, 0.11110251165560056, 0.1005445087057648, 0.2352436142132657, 0.17033957930214774, 0.13303995787560655, 0.18110065982310425, 0.27586698927739794, 0.25766382244047475, 0.15424540228689054, 0.24591480324953796, 0.16838055799409887, 0.32274715276137644, 0.11192908558606232, 0.1325361390927222, 0.10823298371714543, 0.1626458473220274, 0.2194702930159397, 0.061756560039971875, 0.18208558569084973]}, {\"box\": {\"visible\": true}, \"legendgroup\": \"api\", \"line\": {\"color\": \"gray\"}, \"meanline\": {\"visible\": true}, \"name\": \"api\", \"scalegroup\": \"api\", \"side\": \"positive\", \"type\": \"violin\", \"x\": [\"fd_mean\", \"fd_mean\", \"fd_mean\", \"fd_mean\", \"fd_mean\", \"fd_mean\", \"fd_mean\", \"fd_mean\", \"fd_mean\", \"fd_mean\", \"fd_mean\", \"fd_mean\", \"fd_mean\", \"fd_mean\", \"fd_mean\", \"fd_mean\", \"fd_mean\", \"fd_mean\", \"fd_mean\", \"fd_mean\", \"fd_mean\", \"fd_mean\", \"fd_mean\", \"fd_mean\", \"fd_mean\", \"fd_mean\", \"fd_mean\", \"fd_mean\", \"fd_mean\", \"fd_mean\", \"fd_mean\", \"fd_mean\", \"fd_mean\", \"fd_mean\", \"fd_mean\", \"fd_mean\", \"fd_mean\", \"fd_mean\", \"fd_mean\", \"fd_mean\", \"fd_mean\", \"fd_mean\", \"fd_mean\", \"fd_mean\", \"fd_mean\", \"fd_mean\", \"fd_mean\", \"fd_mean\", \"fd_mean\", \"fd_mean\", \"fd_mean\", \"fd_mean\", \"fd_mean\", \"fd_mean\", \"fd_mean\", \"fd_mean\", \"fd_mean\", \"fd_mean\", \"fd_mean\", \"fd_mean\", \"fd_mean\", \"fd_mean\", \"fd_mean\", \"fd_mean\", \"fd_mean\", \"fd_mean\", \"fd_mean\", \"fd_mean\", \"fd_mean\", \"fd_mean\", \"fd_mean\", \"fd_mean\", \"fd_mean\", \"fd_mean\", \"fd_mean\", \"fd_mean\", \"fd_mean\", \"fd_mean\", \"fd_mean\", \"fd_mean\", \"fd_mean\", \"fd_mean\", \"fd_mean\", \"fd_mean\", \"fd_mean\", \"fd_mean\", \"fd_mean\", \"fd_mean\", \"fd_mean\", \"fd_mean\", \"fd_mean\", \"fd_mean\", \"fd_mean\", \"fd_mean\", \"fd_mean\", \"fd_mean\", \"fd_mean\", \"fd_mean\", \"fd_mean\", \"fd_mean\", \"fd_mean\", \"fd_mean\", \"fd_mean\", \"fd_mean\", \"fd_mean\", \"fd_mean\", \"fd_mean\", \"fd_mean\", \"fd_mean\", \"fd_mean\", \"fd_mean\", \"fd_mean\", \"fd_mean\", \"fd_mean\", \"fd_mean\", \"fd_mean\", \"fd_mean\", \"fd_mean\", \"fd_mean\", \"fd_mean\", \"fd_mean\", \"fd_mean\", \"fd_mean\", \"fd_mean\", \"fd_mean\", \"fd_mean\", \"fd_mean\", \"fd_mean\", \"fd_mean\", \"fd_mean\", \"fd_mean\", \"fd_mean\", \"fd_mean\", \"fd_mean\", \"fd_mean\", \"fd_mean\", \"fd_mean\", \"fd_mean\", \"fd_mean\", \"fd_mean\", \"fd_mean\", \"fd_mean\", \"fd_mean\", \"fd_mean\", \"fd_mean\", \"fd_mean\", \"fd_mean\", \"fd_mean\", \"fd_mean\", \"fd_mean\", \"fd_mean\", \"fd_mean\", \"fd_mean\", \"fd_mean\", \"fd_mean\", \"fd_mean\", \"fd_mean\", \"fd_mean\", \"fd_mean\", \"fd_mean\", \"fd_mean\", \"fd_mean\", \"fd_mean\", \"fd_mean\", \"fd_mean\", \"fd_mean\", \"fd_mean\", \"fd_mean\", \"fd_mean\", \"fd_mean\", \"fd_mean\", \"fd_mean\", \"fd_mean\", \"fd_mean\", \"fd_mean\", \"fd_mean\", \"fd_mean\", \"fd_mean\", \"fd_mean\", \"fd_mean\", \"fd_mean\", \"fd_mean\", \"fd_mean\", \"fd_mean\", \"fd_mean\", \"fd_mean\", \"fd_mean\", \"fd_mean\", \"fd_mean\", \"fd_mean\", \"fd_mean\", \"fd_mean\", \"fd_mean\", \"fd_mean\", \"fd_mean\", \"fd_mean\", \"fd_mean\", \"fd_mean\", \"fd_mean\", \"fd_mean\", \"fd_mean\", \"fd_mean\", \"fd_mean\"], \"y\": [0.065568204, 0.08124058299999999, 0.154145779, 0.051500409000000004, 0.064080843, 0.148273859, 0.04966854, 0.074222198, 0.10062714699999999, 0.141642716, 0.048865812, 0.105982836, 0.069155888, 0.062014205, 0.05205766, 0.138251522, null, null, 0.037071872, 0.091257788, 0.08810982099999999, 0.075557122, 0.072866104, 0.111140099, 0.17884224199999998, 0.063555133, 0.091408085, 0.074889462, 0.086867593, 0.10354381, 0.14777674, 0.066997063, 0.08023515, 0.06804450599999999, 0.059526656, 0.089025256, 0.082667399, 0.080153066, 0.086048326, 0.091780217, 0.092213062, 0.12286575400000001, 0.103573229, 0.210824548, 0.084146795, 0.06848663, 0.04318966900000001, 0.06164461, 0.058944317, 0.074340525, 0.088657235, 0.10757139800000001, 0.07541779900000001, 0.083699065, 0.136945702, 0.064522526, 0.064974665, 0.061707770999999995, 0.06362712, 0.098990624, 0.179257952, 0.05653893, 0.194941637, 0.045999476, 0.082713492, 0.065765197, 0.040857369, null, 0.060282904000000005, 0.068900957, 0.046274003, 0.069507083, 0.091841706, 0.129263261, 0.113462958, 0.11618052300000001, 0.048743237, 0.141616504, 0.06658379, 0.059100413, 0.061321619, 0.07509165799999999, 0.088473527, 0.061948849, 0.081812998, 0.128515881, 0.048601578, 0.179675881, 0.044140465, 0.129044776, 0.089811813, 0.160268709, 0.207518345, 0.085310229, 0.039998239, 0.10009395300000001, 0.13313422, 0.140821889, null, 0.092386673, null, 0.104779271, 0.124983355, 0.073574451, 0.12389669099999999, 0.078793399, 0.056504414, 0.11764320199999999, 0.07312117, 0.044618014000000004, 0.079349818, 0.10862845900000001, 0.101671606, 0.04987028599999999, 0.12036936300000001, 0.047821744000000006, 0.179560136, 0.125616583, 0.067262277, 0.079791796, 0.06137738, 0.075733048, 0.09368897400000001, 0.100572116, 0.051518975, 0.090533154, 0.145727587, 0.184500655, 0.093723369, 0.080006172, 0.08931472300000001, null, 0.126984606, 0.109380325, 0.052779941, 0.065180254, 0.06674143099999999, 0.153974646, 0.09706513, null, 0.120117435, 0.134867417, 0.082478234, 0.09091758900000001, 0.061445149000000004, 0.063598813, 0.085170952, 0.08595107699999999, 0.144693181, 0.11016053699999999, 0.190768541, 0.085244825, 0.06514734700000001, 0.19808565, 0.09408603800000001, 0.100501807, 0.061621989, 0.10565218, 0.07613911599999999, 0.053368964000000005, 0.125705256, 0.080511337, 0.07412695, 0.041602573999999996, 0.09122216400000001, 0.13119730300000002, 0.065860696, 0.08102129599999999, 0.115340678, 0.103469127, null, 0.160726511, null, 0.160726511, null, null, 0.162040229, 0.11134469699999999, 0.160247527, 0.10268453400000001, 0.092582455, 0.098445929, 0.125283594, 0.075667154, 0.074170995, 0.11512294699999999, 0.112557163, 0.114515956, 0.111290963, 0.071867693, 0.11975093199999999, 0.098521914, 0.099739849, 0.136585083, 0.131885983, 0.103185836, 0.11387083699999999, 0.165720507, 0.181934365, 0.197931313, 0.12832838300000002, 0.123512645, 0.134764296]}],\n",
       "                        {\"autosize\": false, \"height\": 600, \"template\": {\"data\": {\"bar\": [{\"error_x\": {\"color\": \"#2a3f5f\"}, \"error_y\": {\"color\": \"#2a3f5f\"}, \"marker\": {\"line\": {\"color\": \"white\", \"width\": 0.5}}, \"type\": \"bar\"}], \"barpolar\": [{\"marker\": {\"line\": {\"color\": \"white\", \"width\": 0.5}}, \"type\": \"barpolar\"}], \"carpet\": [{\"aaxis\": {\"endlinecolor\": \"#2a3f5f\", \"gridcolor\": \"#C8D4E3\", \"linecolor\": \"#C8D4E3\", \"minorgridcolor\": \"#C8D4E3\", \"startlinecolor\": \"#2a3f5f\"}, \"baxis\": {\"endlinecolor\": \"#2a3f5f\", \"gridcolor\": \"#C8D4E3\", \"linecolor\": \"#C8D4E3\", \"minorgridcolor\": \"#C8D4E3\", \"startlinecolor\": \"#2a3f5f\"}, \"type\": \"carpet\"}], \"choropleth\": [{\"colorbar\": {\"outlinewidth\": 0, \"ticks\": \"\"}, \"type\": \"choropleth\"}], \"contour\": [{\"colorbar\": {\"outlinewidth\": 0, \"ticks\": \"\"}, \"colorscale\": [[0.0, \"#0d0887\"], [0.1111111111111111, \"#46039f\"], [0.2222222222222222, \"#7201a8\"], [0.3333333333333333, \"#9c179e\"], [0.4444444444444444, \"#bd3786\"], [0.5555555555555556, \"#d8576b\"], [0.6666666666666666, \"#ed7953\"], [0.7777777777777778, \"#fb9f3a\"], [0.8888888888888888, \"#fdca26\"], [1.0, \"#f0f921\"]], \"type\": \"contour\"}], \"contourcarpet\": [{\"colorbar\": {\"outlinewidth\": 0, \"ticks\": \"\"}, \"type\": \"contourcarpet\"}], \"heatmap\": [{\"colorbar\": {\"outlinewidth\": 0, \"ticks\": \"\"}, \"colorscale\": [[0.0, \"#0d0887\"], [0.1111111111111111, \"#46039f\"], [0.2222222222222222, \"#7201a8\"], [0.3333333333333333, \"#9c179e\"], [0.4444444444444444, \"#bd3786\"], [0.5555555555555556, \"#d8576b\"], [0.6666666666666666, \"#ed7953\"], [0.7777777777777778, \"#fb9f3a\"], [0.8888888888888888, \"#fdca26\"], [1.0, \"#f0f921\"]], \"type\": \"heatmap\"}], \"heatmapgl\": [{\"colorbar\": {\"outlinewidth\": 0, \"ticks\": \"\"}, \"colorscale\": [[0.0, \"#0d0887\"], [0.1111111111111111, \"#46039f\"], [0.2222222222222222, \"#7201a8\"], [0.3333333333333333, \"#9c179e\"], [0.4444444444444444, \"#bd3786\"], [0.5555555555555556, \"#d8576b\"], [0.6666666666666666, \"#ed7953\"], [0.7777777777777778, \"#fb9f3a\"], [0.8888888888888888, \"#fdca26\"], [1.0, \"#f0f921\"]], \"type\": \"heatmapgl\"}], \"histogram\": [{\"marker\": {\"colorbar\": {\"outlinewidth\": 0, \"ticks\": \"\"}}, \"type\": \"histogram\"}], \"histogram2d\": [{\"colorbar\": {\"outlinewidth\": 0, \"ticks\": \"\"}, \"colorscale\": [[0.0, \"#0d0887\"], [0.1111111111111111, \"#46039f\"], [0.2222222222222222, \"#7201a8\"], [0.3333333333333333, \"#9c179e\"], [0.4444444444444444, \"#bd3786\"], [0.5555555555555556, \"#d8576b\"], [0.6666666666666666, \"#ed7953\"], [0.7777777777777778, \"#fb9f3a\"], [0.8888888888888888, \"#fdca26\"], [1.0, \"#f0f921\"]], \"type\": \"histogram2d\"}], \"histogram2dcontour\": [{\"colorbar\": {\"outlinewidth\": 0, \"ticks\": \"\"}, \"colorscale\": [[0.0, \"#0d0887\"], [0.1111111111111111, \"#46039f\"], [0.2222222222222222, \"#7201a8\"], [0.3333333333333333, \"#9c179e\"], [0.4444444444444444, \"#bd3786\"], [0.5555555555555556, \"#d8576b\"], [0.6666666666666666, \"#ed7953\"], [0.7777777777777778, \"#fb9f3a\"], [0.8888888888888888, \"#fdca26\"], [1.0, \"#f0f921\"]], \"type\": \"histogram2dcontour\"}], \"mesh3d\": [{\"colorbar\": {\"outlinewidth\": 0, \"ticks\": \"\"}, \"type\": \"mesh3d\"}], \"parcoords\": [{\"line\": {\"colorbar\": {\"outlinewidth\": 0, \"ticks\": \"\"}}, \"type\": \"parcoords\"}], \"scatter\": [{\"marker\": {\"colorbar\": {\"outlinewidth\": 0, \"ticks\": \"\"}}, \"type\": \"scatter\"}], \"scatter3d\": [{\"line\": {\"colorbar\": {\"outlinewidth\": 0, \"ticks\": \"\"}}, \"marker\": {\"colorbar\": {\"outlinewidth\": 0, \"ticks\": \"\"}}, \"type\": \"scatter3d\"}], \"scattercarpet\": [{\"marker\": {\"colorbar\": {\"outlinewidth\": 0, \"ticks\": \"\"}}, \"type\": \"scattercarpet\"}], \"scattergeo\": [{\"marker\": {\"colorbar\": {\"outlinewidth\": 0, \"ticks\": \"\"}}, \"type\": \"scattergeo\"}], \"scattergl\": [{\"marker\": {\"colorbar\": {\"outlinewidth\": 0, \"ticks\": \"\"}}, \"type\": \"scattergl\"}], \"scattermapbox\": [{\"marker\": {\"colorbar\": {\"outlinewidth\": 0, \"ticks\": \"\"}}, \"type\": \"scattermapbox\"}], \"scatterpolar\": [{\"marker\": {\"colorbar\": {\"outlinewidth\": 0, \"ticks\": \"\"}}, \"type\": \"scatterpolar\"}], \"scatterpolargl\": [{\"marker\": {\"colorbar\": {\"outlinewidth\": 0, \"ticks\": \"\"}}, \"type\": \"scatterpolargl\"}], \"scatterternary\": [{\"marker\": {\"colorbar\": {\"outlinewidth\": 0, \"ticks\": \"\"}}, \"type\": \"scatterternary\"}], \"surface\": [{\"colorbar\": {\"outlinewidth\": 0, \"ticks\": \"\"}, \"colorscale\": [[0.0, \"#0d0887\"], [0.1111111111111111, \"#46039f\"], [0.2222222222222222, \"#7201a8\"], [0.3333333333333333, \"#9c179e\"], [0.4444444444444444, \"#bd3786\"], [0.5555555555555556, \"#d8576b\"], [0.6666666666666666, \"#ed7953\"], [0.7777777777777778, \"#fb9f3a\"], [0.8888888888888888, \"#fdca26\"], [1.0, \"#f0f921\"]], \"type\": \"surface\"}], \"table\": [{\"cells\": {\"fill\": {\"color\": \"#EBF0F8\"}, \"line\": {\"color\": \"white\"}}, \"header\": {\"fill\": {\"color\": \"#C8D4E3\"}, \"line\": {\"color\": \"white\"}}, \"type\": \"table\"}]}, \"layout\": {\"annotationdefaults\": {\"arrowcolor\": \"#2a3f5f\", \"arrowhead\": 0, \"arrowwidth\": 1}, \"colorscale\": {\"diverging\": [[0, \"#8e0152\"], [0.1, \"#c51b7d\"], [0.2, \"#de77ae\"], [0.3, \"#f1b6da\"], [0.4, \"#fde0ef\"], [0.5, \"#f7f7f7\"], [0.6, \"#e6f5d0\"], [0.7, \"#b8e186\"], [0.8, \"#7fbc41\"], [0.9, \"#4d9221\"], [1, \"#276419\"]], \"sequential\": [[0.0, \"#0d0887\"], [0.1111111111111111, \"#46039f\"], [0.2222222222222222, \"#7201a8\"], [0.3333333333333333, \"#9c179e\"], [0.4444444444444444, \"#bd3786\"], [0.5555555555555556, \"#d8576b\"], [0.6666666666666666, \"#ed7953\"], [0.7777777777777778, \"#fb9f3a\"], [0.8888888888888888, \"#fdca26\"], [1.0, \"#f0f921\"]], \"sequentialminus\": [[0.0, \"#0d0887\"], [0.1111111111111111, \"#46039f\"], [0.2222222222222222, \"#7201a8\"], [0.3333333333333333, \"#9c179e\"], [0.4444444444444444, \"#bd3786\"], [0.5555555555555556, \"#d8576b\"], [0.6666666666666666, \"#ed7953\"], [0.7777777777777778, \"#fb9f3a\"], [0.8888888888888888, \"#fdca26\"], [1.0, \"#f0f921\"]]}, \"colorway\": [\"#636efa\", \"#EF553B\", \"#00cc96\", \"#ab63fa\", \"#FFA15A\", \"#19d3f3\", \"#FF6692\", \"#B6E880\", \"#FF97FF\", \"#FECB52\"], \"font\": {\"color\": \"#2a3f5f\"}, \"geo\": {\"bgcolor\": \"white\", \"lakecolor\": \"white\", \"landcolor\": \"white\", \"showlakes\": true, \"showland\": true, \"subunitcolor\": \"#C8D4E3\"}, \"hoverlabel\": {\"align\": \"left\"}, \"hovermode\": \"closest\", \"mapbox\": {\"style\": \"light\"}, \"paper_bgcolor\": \"white\", \"plot_bgcolor\": \"white\", \"polar\": {\"angularaxis\": {\"gridcolor\": \"#EBF0F8\", \"linecolor\": \"#EBF0F8\", \"ticks\": \"\"}, \"bgcolor\": \"white\", \"radialaxis\": {\"gridcolor\": \"#EBF0F8\", \"linecolor\": \"#EBF0F8\", \"ticks\": \"\"}}, \"scene\": {\"xaxis\": {\"backgroundcolor\": \"white\", \"gridcolor\": \"#DFE8F3\", \"gridwidth\": 2, \"linecolor\": \"#EBF0F8\", \"showbackground\": true, \"ticks\": \"\", \"zerolinecolor\": \"#EBF0F8\"}, \"yaxis\": {\"backgroundcolor\": \"white\", \"gridcolor\": \"#DFE8F3\", \"gridwidth\": 2, \"linecolor\": \"#EBF0F8\", \"showbackground\": true, \"ticks\": \"\", \"zerolinecolor\": \"#EBF0F8\"}, \"zaxis\": {\"backgroundcolor\": \"white\", \"gridcolor\": \"#DFE8F3\", \"gridwidth\": 2, \"linecolor\": \"#EBF0F8\", \"showbackground\": true, \"ticks\": \"\", \"zerolinecolor\": \"#EBF0F8\"}}, \"shapedefaults\": {\"line\": {\"color\": \"#2a3f5f\"}}, \"ternary\": {\"aaxis\": {\"gridcolor\": \"#DFE8F3\", \"linecolor\": \"#A2B1C6\", \"ticks\": \"\"}, \"baxis\": {\"gridcolor\": \"#DFE8F3\", \"linecolor\": \"#A2B1C6\", \"ticks\": \"\"}, \"bgcolor\": \"white\", \"caxis\": {\"gridcolor\": \"#DFE8F3\", \"linecolor\": \"#A2B1C6\", \"ticks\": \"\"}}, \"title\": {\"x\": 0.05}, \"xaxis\": {\"automargin\": true, \"gridcolor\": \"#EBF0F8\", \"linecolor\": \"#EBF0F8\", \"ticks\": \"\", \"zerolinecolor\": \"#EBF0F8\", \"zerolinewidth\": 2}, \"yaxis\": {\"automargin\": true, \"gridcolor\": \"#EBF0F8\", \"linecolor\": \"#EBF0F8\", \"ticks\": \"\", \"zerolinecolor\": \"#EBF0F8\", \"zerolinewidth\": 2}}}, \"width\": 600},\n",
       "                        {\"responsive\": true}\n",
       "                    ).then(function(){\n",
       "                            \n",
       "var gd = document.getElementById('ba3ec493-e40e-474f-a996-b04dd1601b8c');\n",
       "var x = new MutationObserver(function (mutations, observer) {{\n",
       "        var display = window.getComputedStyle(gd).display;\n",
       "        if (!display || display === 'none') {{\n",
       "            console.log([gd, 'removed!']);\n",
       "            Plotly.purge(gd);\n",
       "            observer.disconnect();\n",
       "        }}\n",
       "}});\n",
       "\n",
       "// Listen for the removal of the full notebook cells\n",
       "var notebookContainer = gd.closest('#notebook-container');\n",
       "if (notebookContainer) {{\n",
       "    x.observe(notebookContainer, {childList: true});\n",
       "}}\n",
       "\n",
       "// Listen for the clearing of the current output cell\n",
       "var outputEl = gd.closest('.output');\n",
       "if (outputEl) {{\n",
       "    x.observe(outputEl, {childList: true});\n",
       "}}\n",
       "\n",
       "                        })\n",
       "                };\n",
       "                });\n",
       "            </script>\n",
       "        </div>"
      ]
     },
     "metadata": {},
     "output_type": "display_data"
    },
    {
     "name": "stdout",
     "output_type": "stream",
     "text": [
      "before fam color\n",
      "after fam color\n"
     ]
    },
    {
     "data": {
      "application/vnd.plotly.v1+json": {
       "config": {
        "plotlyServerURL": "https://plot.ly"
       },
       "data": [
        {
         "box": {
          "visible": true
         },
         "jitter": 0.1,
         "legendgroup": "user data",
         "line": {
          "color": "green"
         },
         "meanline": {
          "visible": true
         },
         "name": "user data",
         "pointpos": -0.5,
         "points": "all",
         "scalegroup": "user data",
         "side": "negative",
         "type": "violin",
         "x": [
          "gsr_x",
          "gsr_x",
          "gsr_x",
          "gsr_x",
          "gsr_x",
          "gsr_x",
          "gsr_x",
          "gsr_x",
          "gsr_x",
          "gsr_x",
          "gsr_x",
          "gsr_x",
          "gsr_x",
          "gsr_x",
          "gsr_x",
          "gsr_x",
          "gsr_x",
          "gsr_x",
          "gsr_x",
          "gsr_x",
          "gsr_x",
          "gsr_x",
          "gsr_x",
          "gsr_x",
          "gsr_x",
          "gsr_x",
          "gsr_x",
          "gsr_x",
          "gsr_x",
          "gsr_x",
          "gsr_x",
          "gsr_x",
          "gsr_x",
          "gsr_x",
          "gsr_x",
          "gsr_x",
          "gsr_x",
          "gsr_x",
          "gsr_x",
          "gsr_x",
          "gsr_x",
          "gsr_x",
          "gsr_x",
          "gsr_x",
          "gsr_x",
          "gsr_x",
          "gsr_x",
          "gsr_x",
          "gsr_x",
          "gsr_x",
          "gsr_x",
          "gsr_x",
          "gsr_x",
          "gsr_x",
          "gsr_x",
          "gsr_x",
          "gsr_x",
          "gsr_x",
          "gsr_x",
          "gsr_x",
          "gsr_x",
          "gsr_x",
          "gsr_x",
          "gsr_x",
          "gsr_x",
          "gsr_x",
          "gsr_x",
          "gsr_x",
          "gsr_x",
          "gsr_x",
          "gsr_x",
          "gsr_x",
          "gsr_x",
          "gsr_x",
          "gsr_x",
          "gsr_x",
          "gsr_x",
          "gsr_x",
          "gsr_x",
          "gsr_x",
          "gsr_x",
          "gsr_x",
          "gsr_x",
          "gsr_x",
          "gsr_x",
          "gsr_x",
          "gsr_x",
          "gsr_x",
          "gsr_x",
          "gsr_x",
          "gsr_x",
          "gsr_x",
          "gsr_x",
          "gsr_x",
          "gsr_x",
          "gsr_x",
          "gsr_x",
          "gsr_x",
          "gsr_x",
          "gsr_x",
          "gsr_x",
          "gsr_x",
          "gsr_x",
          "gsr_x",
          "gsr_x",
          "gsr_x",
          "gsr_x",
          "gsr_x",
          "gsr_x",
          "gsr_x",
          "gsr_x",
          "gsr_x",
          "gsr_x",
          "gsr_x",
          "gsr_x",
          "gsr_x",
          "gsr_x",
          "gsr_x",
          "gsr_x",
          "gsr_x",
          "gsr_x",
          "gsr_x",
          "gsr_x",
          "gsr_x",
          "gsr_x",
          "gsr_x",
          "gsr_x",
          "gsr_x",
          "gsr_x",
          "gsr_x",
          "gsr_x",
          "gsr_x",
          "gsr_x",
          "gsr_x",
          "gsr_x",
          "gsr_x",
          "gsr_x",
          "gsr_x",
          "gsr_x",
          "gsr_x",
          "gsr_x",
          "gsr_x"
         ],
         "y": [
          -0.007538214791566133,
          -0.001472516916692257,
          -0.01232977770268917,
          -0.0005424129776656628,
          -0.012646332383155823,
          0.0023679924197494984,
          -0.0064981537871062756,
          -0.008638325147330761,
          -0.005289119202643633,
          -0.009563504718244076,
          -0.0017556188395246866,
          -0.00962173193693161,
          -0.0037195836193859577,
          -0.010002223774790764,
          -0.0010223796125501394,
          -0.0012709791772067547,
          -0.007876266725361347,
          -0.005061266478151083,
          -0.00921840965747833,
          -0.0045847841538488865,
          -0.0019027274101972578,
          0.0005789826391264796,
          -0.006825230550020933,
          -8.427180728176609e-05,
          -0.004672817420214415,
          -0.011449270881712437,
          -0.008729318156838417,
          -0.006240564864128828,
          -0.005679631605744362,
          -0.0070322728715837,
          -0.0013728170888498425,
          -0.008689427748322487,
          -0.0040224501863121995,
          -0.010274404659867287,
          -0.011335646733641623,
          -0.005000464152544737,
          -0.0062630707398056975,
          -0.002018240513280034,
          0.004633860196918249,
          -0.002851167926564813,
          -0.011507459916174412,
          -0.010126687586307527,
          -0.007210263051092625,
          0.003682762384414673,
          -0.004443656653165817,
          -0.005799361504614353,
          -0.012078788131475449,
          -0.0057303267531096935,
          -0.007755097467452288,
          -0.005563938058912754,
          -0.0016751112416386606,
          0.0059374067932367325,
          -0.008767045103013515,
          -0.0037366263568401337,
          -0.0059638828970491895,
          0.0015834789955988526,
          -0.006224475335329771,
          0.003074526553973556,
          -0.01009182445704937,
          -0.0097224535420537,
          -0.0021219768095761533,
          -0.006038034800440073,
          -0.0054875323548913,
          -0.0013143694959580898,
          -0.003577492898330092,
          -0.013295055367052557,
          -0.0005615365807898343,
          -0.005621450487524271,
          -0.002485934179276228,
          -0.007001439575105906,
          -0.003296980867162347,
          -0.006681856233626604,
          -0.008455702103674412,
          -0.009934491477906704,
          -0.012630493380129336,
          -0.0013499086489900947,
          -2.20109704969218e-05,
          -0.0017229347722604869,
          -0.010400661267340185,
          -0.007411031518131494,
          -0.009711107239127159,
          -0.00890070665627718,
          -0.01223214715719223,
          0.0010162059916183352,
          -0.00591382198035717,
          0.004266278818249703,
          -0.015414318069815637,
          -0.00969884917140007,
          -0.008956965059041977,
          -0.00407880824059248,
          -0.008179938420653343,
          -0.0010091287549585104,
          -0.0018498095450922847,
          0.00019504534429870543,
          -0.0069770063273608685,
          -0.0004772658285219223,
          -0.009523418731987476,
          -0.00982247106730938,
          0.0076361531391739845,
          -0.006156759336590767,
          -0.004232607316225767,
          -0.007264889311045407,
          0.006134028546512127,
          -0.0019392801914364102,
          -0.010594409890472887,
          -0.001125997630879283,
          -0.0013986967969685793,
          -0.008328407071530819,
          -0.013282529078423977,
          -0.006895745173096657,
          -0.0031397554557770486,
          -0.007913151755928993,
          0.0013203656999394298,
          -0.003722521709278226,
          -0.009770996868610382,
          -0.014640089124441147,
          -0.011371499858796595,
          -0.005615714471787214,
          -0.01941816322505474,
          -0.0074281864799559125,
          -0.008173841051757336,
          -0.020055608823895454,
          -0.011680805124342442,
          -0.010693524032831192,
          -0.01662053540349007,
          -0.004478473216295242,
          0.0007528014830313622,
          -0.005044088698923589,
          0.0008375364122912287,
          -0.0054621389135718346,
          -0.005195640493184328,
          -0.0052082049660384655,
          -0.01785220019519329,
          -0.012093456462025642,
          -0.00502501055598259,
          -0.006960020866245031,
          -0.007374613080173731,
          -0.0042227646335959435,
          0.0005715967854484916,
          -0.005760808475315571,
          0.004121115896850824,
          -0.007422684691846371
         ]
        },
        {
         "box": {
          "visible": true
         },
         "legendgroup": "api",
         "line": {
          "color": "gray"
         },
         "meanline": {
          "visible": true
         },
         "name": "api",
         "scalegroup": "api",
         "side": "positive",
         "type": "violin",
         "x": [
          "gsr_x",
          "gsr_x",
          "gsr_x",
          "gsr_x",
          "gsr_x",
          "gsr_x",
          "gsr_x",
          "gsr_x",
          "gsr_x",
          "gsr_x",
          "gsr_x",
          "gsr_x",
          "gsr_x",
          "gsr_x",
          "gsr_x",
          "gsr_x",
          "gsr_x",
          "gsr_x",
          "gsr_x",
          "gsr_x",
          "gsr_x",
          "gsr_x",
          "gsr_x",
          "gsr_x",
          "gsr_x",
          "gsr_x",
          "gsr_x",
          "gsr_x",
          "gsr_x",
          "gsr_x",
          "gsr_x",
          "gsr_x",
          "gsr_x",
          "gsr_x",
          "gsr_x",
          "gsr_x",
          "gsr_x",
          "gsr_x",
          "gsr_x",
          "gsr_x",
          "gsr_x",
          "gsr_x",
          "gsr_x",
          "gsr_x",
          "gsr_x",
          "gsr_x",
          "gsr_x",
          "gsr_x",
          "gsr_x",
          "gsr_x",
          "gsr_x",
          "gsr_x",
          "gsr_x",
          "gsr_x",
          "gsr_x",
          "gsr_x",
          "gsr_x",
          "gsr_x",
          "gsr_x",
          "gsr_x",
          "gsr_x",
          "gsr_x",
          "gsr_x",
          "gsr_x",
          "gsr_x",
          "gsr_x",
          "gsr_x",
          "gsr_x",
          "gsr_x",
          "gsr_x",
          "gsr_x",
          "gsr_x",
          "gsr_x",
          "gsr_x",
          "gsr_x",
          "gsr_x",
          "gsr_x",
          "gsr_x",
          "gsr_x",
          "gsr_x",
          "gsr_x",
          "gsr_x",
          "gsr_x",
          "gsr_x",
          "gsr_x",
          "gsr_x",
          "gsr_x",
          "gsr_x",
          "gsr_x",
          "gsr_x",
          "gsr_x",
          "gsr_x",
          "gsr_x",
          "gsr_x",
          "gsr_x",
          "gsr_x",
          "gsr_x",
          "gsr_x",
          "gsr_x",
          "gsr_x",
          "gsr_x",
          "gsr_x",
          "gsr_x",
          "gsr_x",
          "gsr_x",
          "gsr_x",
          "gsr_x",
          "gsr_x",
          "gsr_x",
          "gsr_x",
          "gsr_x",
          "gsr_x",
          "gsr_x",
          "gsr_x",
          "gsr_x",
          "gsr_x",
          "gsr_x",
          "gsr_x",
          "gsr_x",
          "gsr_x",
          "gsr_x",
          "gsr_x",
          "gsr_x",
          "gsr_x",
          "gsr_x",
          "gsr_x",
          "gsr_x",
          "gsr_x",
          "gsr_x",
          "gsr_x",
          "gsr_x",
          "gsr_x",
          "gsr_x",
          "gsr_x",
          "gsr_x",
          "gsr_x",
          "gsr_x",
          "gsr_x",
          "gsr_x",
          "gsr_x",
          "gsr_x",
          "gsr_x",
          "gsr_x",
          "gsr_x",
          "gsr_x",
          "gsr_x",
          "gsr_x",
          "gsr_x",
          "gsr_x",
          "gsr_x",
          "gsr_x",
          "gsr_x",
          "gsr_x",
          "gsr_x",
          "gsr_x",
          "gsr_x",
          "gsr_x",
          "gsr_x",
          "gsr_x",
          "gsr_x",
          "gsr_x",
          "gsr_x",
          "gsr_x",
          "gsr_x",
          "gsr_x",
          "gsr_x",
          "gsr_x",
          "gsr_x",
          "gsr_x",
          "gsr_x",
          "gsr_x",
          "gsr_x",
          "gsr_x",
          "gsr_x",
          "gsr_x",
          "gsr_x",
          "gsr_x",
          "gsr_x",
          "gsr_x",
          "gsr_x",
          "gsr_x",
          "gsr_x",
          "gsr_x",
          "gsr_x",
          "gsr_x",
          "gsr_x",
          "gsr_x",
          "gsr_x",
          "gsr_x",
          "gsr_x",
          "gsr_x",
          "gsr_x",
          "gsr_x",
          "gsr_x",
          "gsr_x",
          "gsr_x",
          "gsr_x",
          "gsr_x",
          "gsr_x",
          "gsr_x",
          "gsr_x",
          "gsr_x",
          "gsr_x"
         ],
         "y": [
          -0.004388595,
          -0.014179548,
          -0.00817797,
          -0.004071336,
          -0.006430801999999999,
          -0.0064224930000000005,
          -0.002625437,
          -0.0023236,
          -0.010839082,
          -0.001658039,
          -0.009982381,
          -0.011722035,
          -0.013323725,
          -0.0041057640000000005,
          -0.009406053000000001,
          -0.014948274,
          -0.015178167,
          -0.010694163000000001,
          -0.009576425999999999,
          -0.006208715,
          0.0034209979999999997,
          -0.002489553,
          -0.005416703,
          -0.001193504,
          -0.007594298,
          -0.009954087,
          0.0012021339999999999,
          -0.010638928999999998,
          -0.008560343,
          -0.010774118000000001,
          -0.018794468,
          -0.006433104,
          -0.010662608999999998,
          -0.011277191,
          -0.015838408999999998,
          -0.011075769,
          -0.014883775,
          -0.014914688,
          -0.003258321,
          -0.004107052,
          -0.008788493,
          -0.002745767,
          -0.013904258000000001,
          -0.00886409,
          -0.00577379,
          -0.008597889000000001,
          -0.01461459,
          -0.008305917,
          -0.006783765,
          -0.010447122,
          -0.00403266,
          -0.004080265,
          -0.005683417,
          -0.002415698,
          -0.006020498000000001,
          -0.002659165,
          -0.004417923,
          -0.008349681,
          -0.0051493220000000004,
          -0.015667681,
          -0.007386045999999999,
          -0.008120795,
          -0.009587898000000001,
          -0.009652188,
          -0.005786014,
          -0.010583308,
          -0.003956428,
          -0.006237619,
          -0.001281944,
          -0.012873736,
          -0.014238006000000001,
          -0.004259376,
          -0.011553777,
          -0.01175067,
          -0.008212719,
          0.000668011,
          -0.011191965,
          -0.004027142,
          -9.84e-05,
          -0.010017406999999999,
          -0.0050766959999999995,
          -0.012819305,
          -0.004133752,
          -0.005765415,
          -0.015879916,
          -0.006497017,
          -0.014664876,
          -0.010236577,
          -0.009999248,
          -0.010366835,
          -0.008555724,
          -0.011112535,
          -0.008548478,
          -0.004230287,
          -0.011136158,
          -0.011837398,
          -0.0008218260000000001,
          -0.003755288,
          -0.013416225,
          -0.0019154110000000001,
          -0.0023574729999999997,
          -0.014050196000000001,
          -0.015516759,
          -0.011186286,
          -0.010585347,
          -0.014667129,
          -0.010619021999999999,
          -0.000342046,
          -0.006797809,
          -0.003984368,
          -0.013024213,
          -0.005791863,
          -0.01060882,
          -0.010166478,
          -0.004104229,
          -0.0018331,
          -0.008236405,
          -0.00656041,
          -0.01293795,
          -0.014544656999999999,
          -0.000532669,
          -0.00539629,
          -0.015087333,
          -0.005225858,
          -0.0018333720000000002,
          -0.01072104,
          -0.011761188,
          -0.013549573,
          -0.006752083000000001,
          -0.014510782,
          -0.001799184,
          -0.005943188,
          -0.013977113999999999,
          0.00038098900000000003,
          -0.005459473,
          -0.01002281,
          -0.014502049,
          -0.003889546,
          0.000885138,
          -0.000625015,
          0.0039129759999999994,
          -0.011010245,
          0.003087634,
          -0.010726138999999999,
          -0.006404015,
          -0.000955453,
          -0.015238478,
          0.003565192,
          -0.014511246,
          -0.014145368,
          -0.008547273000000001,
          -0.0019289020000000001,
          -0.006500654,
          -0.006427399,
          -0.0013711560000000001,
          -0.0052840230000000005,
          -0.010130323,
          -0.009031468,
          -0.005866257,
          -0.0016487020000000002,
          -0.006782164,
          -0.010348304000000001,
          -0.008703127,
          -0.004281722,
          0.0006821069999999999,
          -0.008370355999999999,
          -0.0039979659999999995,
          -0.015608259,
          -0.014294178999999999,
          -0.013789333,
          -0.013213996,
          -0.012943946999999999,
          -0.013213996,
          -0.012943946999999999,
          0.00025065,
          -0.001213177,
          -0.0016660689999999998,
          -0.001752371,
          -0.002712842,
          -0.001039877,
          -0.001290692,
          -0.000221677,
          0.000487558,
          -7.070000000000001e-05,
          -8.149999999999999e-05,
          -0.001956891,
          -0.0017368070000000002,
          -0.0014999420000000002,
          -0.0018062929999999998,
          -0.000403231,
          -0.001994735,
          -0.0012452189999999999,
          0.0006649389999999999,
          0.003952865,
          0.002048884,
          0.002804173,
          0.0015349489999999999,
          0.004611609,
          0.004109768,
          0.002470532,
          0.011095935,
          null,
          0.010344701999999999
         ]
        }
       ],
       "layout": {
        "autosize": false,
        "height": 600,
        "template": {
         "data": {
          "bar": [
           {
            "error_x": {
             "color": "#2a3f5f"
            },
            "error_y": {
             "color": "#2a3f5f"
            },
            "marker": {
             "line": {
              "color": "white",
              "width": 0.5
             }
            },
            "type": "bar"
           }
          ],
          "barpolar": [
           {
            "marker": {
             "line": {
              "color": "white",
              "width": 0.5
             }
            },
            "type": "barpolar"
           }
          ],
          "carpet": [
           {
            "aaxis": {
             "endlinecolor": "#2a3f5f",
             "gridcolor": "#C8D4E3",
             "linecolor": "#C8D4E3",
             "minorgridcolor": "#C8D4E3",
             "startlinecolor": "#2a3f5f"
            },
            "baxis": {
             "endlinecolor": "#2a3f5f",
             "gridcolor": "#C8D4E3",
             "linecolor": "#C8D4E3",
             "minorgridcolor": "#C8D4E3",
             "startlinecolor": "#2a3f5f"
            },
            "type": "carpet"
           }
          ],
          "choropleth": [
           {
            "colorbar": {
             "outlinewidth": 0,
             "ticks": ""
            },
            "type": "choropleth"
           }
          ],
          "contour": [
           {
            "colorbar": {
             "outlinewidth": 0,
             "ticks": ""
            },
            "colorscale": [
             [
              0,
              "#0d0887"
             ],
             [
              0.1111111111111111,
              "#46039f"
             ],
             [
              0.2222222222222222,
              "#7201a8"
             ],
             [
              0.3333333333333333,
              "#9c179e"
             ],
             [
              0.4444444444444444,
              "#bd3786"
             ],
             [
              0.5555555555555556,
              "#d8576b"
             ],
             [
              0.6666666666666666,
              "#ed7953"
             ],
             [
              0.7777777777777778,
              "#fb9f3a"
             ],
             [
              0.8888888888888888,
              "#fdca26"
             ],
             [
              1,
              "#f0f921"
             ]
            ],
            "type": "contour"
           }
          ],
          "contourcarpet": [
           {
            "colorbar": {
             "outlinewidth": 0,
             "ticks": ""
            },
            "type": "contourcarpet"
           }
          ],
          "heatmap": [
           {
            "colorbar": {
             "outlinewidth": 0,
             "ticks": ""
            },
            "colorscale": [
             [
              0,
              "#0d0887"
             ],
             [
              0.1111111111111111,
              "#46039f"
             ],
             [
              0.2222222222222222,
              "#7201a8"
             ],
             [
              0.3333333333333333,
              "#9c179e"
             ],
             [
              0.4444444444444444,
              "#bd3786"
             ],
             [
              0.5555555555555556,
              "#d8576b"
             ],
             [
              0.6666666666666666,
              "#ed7953"
             ],
             [
              0.7777777777777778,
              "#fb9f3a"
             ],
             [
              0.8888888888888888,
              "#fdca26"
             ],
             [
              1,
              "#f0f921"
             ]
            ],
            "type": "heatmap"
           }
          ],
          "heatmapgl": [
           {
            "colorbar": {
             "outlinewidth": 0,
             "ticks": ""
            },
            "colorscale": [
             [
              0,
              "#0d0887"
             ],
             [
              0.1111111111111111,
              "#46039f"
             ],
             [
              0.2222222222222222,
              "#7201a8"
             ],
             [
              0.3333333333333333,
              "#9c179e"
             ],
             [
              0.4444444444444444,
              "#bd3786"
             ],
             [
              0.5555555555555556,
              "#d8576b"
             ],
             [
              0.6666666666666666,
              "#ed7953"
             ],
             [
              0.7777777777777778,
              "#fb9f3a"
             ],
             [
              0.8888888888888888,
              "#fdca26"
             ],
             [
              1,
              "#f0f921"
             ]
            ],
            "type": "heatmapgl"
           }
          ],
          "histogram": [
           {
            "marker": {
             "colorbar": {
              "outlinewidth": 0,
              "ticks": ""
             }
            },
            "type": "histogram"
           }
          ],
          "histogram2d": [
           {
            "colorbar": {
             "outlinewidth": 0,
             "ticks": ""
            },
            "colorscale": [
             [
              0,
              "#0d0887"
             ],
             [
              0.1111111111111111,
              "#46039f"
             ],
             [
              0.2222222222222222,
              "#7201a8"
             ],
             [
              0.3333333333333333,
              "#9c179e"
             ],
             [
              0.4444444444444444,
              "#bd3786"
             ],
             [
              0.5555555555555556,
              "#d8576b"
             ],
             [
              0.6666666666666666,
              "#ed7953"
             ],
             [
              0.7777777777777778,
              "#fb9f3a"
             ],
             [
              0.8888888888888888,
              "#fdca26"
             ],
             [
              1,
              "#f0f921"
             ]
            ],
            "type": "histogram2d"
           }
          ],
          "histogram2dcontour": [
           {
            "colorbar": {
             "outlinewidth": 0,
             "ticks": ""
            },
            "colorscale": [
             [
              0,
              "#0d0887"
             ],
             [
              0.1111111111111111,
              "#46039f"
             ],
             [
              0.2222222222222222,
              "#7201a8"
             ],
             [
              0.3333333333333333,
              "#9c179e"
             ],
             [
              0.4444444444444444,
              "#bd3786"
             ],
             [
              0.5555555555555556,
              "#d8576b"
             ],
             [
              0.6666666666666666,
              "#ed7953"
             ],
             [
              0.7777777777777778,
              "#fb9f3a"
             ],
             [
              0.8888888888888888,
              "#fdca26"
             ],
             [
              1,
              "#f0f921"
             ]
            ],
            "type": "histogram2dcontour"
           }
          ],
          "mesh3d": [
           {
            "colorbar": {
             "outlinewidth": 0,
             "ticks": ""
            },
            "type": "mesh3d"
           }
          ],
          "parcoords": [
           {
            "line": {
             "colorbar": {
              "outlinewidth": 0,
              "ticks": ""
             }
            },
            "type": "parcoords"
           }
          ],
          "scatter": [
           {
            "marker": {
             "colorbar": {
              "outlinewidth": 0,
              "ticks": ""
             }
            },
            "type": "scatter"
           }
          ],
          "scatter3d": [
           {
            "line": {
             "colorbar": {
              "outlinewidth": 0,
              "ticks": ""
             }
            },
            "marker": {
             "colorbar": {
              "outlinewidth": 0,
              "ticks": ""
             }
            },
            "type": "scatter3d"
           }
          ],
          "scattercarpet": [
           {
            "marker": {
             "colorbar": {
              "outlinewidth": 0,
              "ticks": ""
             }
            },
            "type": "scattercarpet"
           }
          ],
          "scattergeo": [
           {
            "marker": {
             "colorbar": {
              "outlinewidth": 0,
              "ticks": ""
             }
            },
            "type": "scattergeo"
           }
          ],
          "scattergl": [
           {
            "marker": {
             "colorbar": {
              "outlinewidth": 0,
              "ticks": ""
             }
            },
            "type": "scattergl"
           }
          ],
          "scattermapbox": [
           {
            "marker": {
             "colorbar": {
              "outlinewidth": 0,
              "ticks": ""
             }
            },
            "type": "scattermapbox"
           }
          ],
          "scatterpolar": [
           {
            "marker": {
             "colorbar": {
              "outlinewidth": 0,
              "ticks": ""
             }
            },
            "type": "scatterpolar"
           }
          ],
          "scatterpolargl": [
           {
            "marker": {
             "colorbar": {
              "outlinewidth": 0,
              "ticks": ""
             }
            },
            "type": "scatterpolargl"
           }
          ],
          "scatterternary": [
           {
            "marker": {
             "colorbar": {
              "outlinewidth": 0,
              "ticks": ""
             }
            },
            "type": "scatterternary"
           }
          ],
          "surface": [
           {
            "colorbar": {
             "outlinewidth": 0,
             "ticks": ""
            },
            "colorscale": [
             [
              0,
              "#0d0887"
             ],
             [
              0.1111111111111111,
              "#46039f"
             ],
             [
              0.2222222222222222,
              "#7201a8"
             ],
             [
              0.3333333333333333,
              "#9c179e"
             ],
             [
              0.4444444444444444,
              "#bd3786"
             ],
             [
              0.5555555555555556,
              "#d8576b"
             ],
             [
              0.6666666666666666,
              "#ed7953"
             ],
             [
              0.7777777777777778,
              "#fb9f3a"
             ],
             [
              0.8888888888888888,
              "#fdca26"
             ],
             [
              1,
              "#f0f921"
             ]
            ],
            "type": "surface"
           }
          ],
          "table": [
           {
            "cells": {
             "fill": {
              "color": "#EBF0F8"
             },
             "line": {
              "color": "white"
             }
            },
            "header": {
             "fill": {
              "color": "#C8D4E3"
             },
             "line": {
              "color": "white"
             }
            },
            "type": "table"
           }
          ]
         },
         "layout": {
          "annotationdefaults": {
           "arrowcolor": "#2a3f5f",
           "arrowhead": 0,
           "arrowwidth": 1
          },
          "colorscale": {
           "diverging": [
            [
             0,
             "#8e0152"
            ],
            [
             0.1,
             "#c51b7d"
            ],
            [
             0.2,
             "#de77ae"
            ],
            [
             0.3,
             "#f1b6da"
            ],
            [
             0.4,
             "#fde0ef"
            ],
            [
             0.5,
             "#f7f7f7"
            ],
            [
             0.6,
             "#e6f5d0"
            ],
            [
             0.7,
             "#b8e186"
            ],
            [
             0.8,
             "#7fbc41"
            ],
            [
             0.9,
             "#4d9221"
            ],
            [
             1,
             "#276419"
            ]
           ],
           "sequential": [
            [
             0,
             "#0d0887"
            ],
            [
             0.1111111111111111,
             "#46039f"
            ],
            [
             0.2222222222222222,
             "#7201a8"
            ],
            [
             0.3333333333333333,
             "#9c179e"
            ],
            [
             0.4444444444444444,
             "#bd3786"
            ],
            [
             0.5555555555555556,
             "#d8576b"
            ],
            [
             0.6666666666666666,
             "#ed7953"
            ],
            [
             0.7777777777777778,
             "#fb9f3a"
            ],
            [
             0.8888888888888888,
             "#fdca26"
            ],
            [
             1,
             "#f0f921"
            ]
           ],
           "sequentialminus": [
            [
             0,
             "#0d0887"
            ],
            [
             0.1111111111111111,
             "#46039f"
            ],
            [
             0.2222222222222222,
             "#7201a8"
            ],
            [
             0.3333333333333333,
             "#9c179e"
            ],
            [
             0.4444444444444444,
             "#bd3786"
            ],
            [
             0.5555555555555556,
             "#d8576b"
            ],
            [
             0.6666666666666666,
             "#ed7953"
            ],
            [
             0.7777777777777778,
             "#fb9f3a"
            ],
            [
             0.8888888888888888,
             "#fdca26"
            ],
            [
             1,
             "#f0f921"
            ]
           ]
          },
          "colorway": [
           "#636efa",
           "#EF553B",
           "#00cc96",
           "#ab63fa",
           "#FFA15A",
           "#19d3f3",
           "#FF6692",
           "#B6E880",
           "#FF97FF",
           "#FECB52"
          ],
          "font": {
           "color": "#2a3f5f"
          },
          "geo": {
           "bgcolor": "white",
           "lakecolor": "white",
           "landcolor": "white",
           "showlakes": true,
           "showland": true,
           "subunitcolor": "#C8D4E3"
          },
          "hoverlabel": {
           "align": "left"
          },
          "hovermode": "closest",
          "mapbox": {
           "style": "light"
          },
          "paper_bgcolor": "white",
          "plot_bgcolor": "white",
          "polar": {
           "angularaxis": {
            "gridcolor": "#EBF0F8",
            "linecolor": "#EBF0F8",
            "ticks": ""
           },
           "bgcolor": "white",
           "radialaxis": {
            "gridcolor": "#EBF0F8",
            "linecolor": "#EBF0F8",
            "ticks": ""
           }
          },
          "scene": {
           "xaxis": {
            "backgroundcolor": "white",
            "gridcolor": "#DFE8F3",
            "gridwidth": 2,
            "linecolor": "#EBF0F8",
            "showbackground": true,
            "ticks": "",
            "zerolinecolor": "#EBF0F8"
           },
           "yaxis": {
            "backgroundcolor": "white",
            "gridcolor": "#DFE8F3",
            "gridwidth": 2,
            "linecolor": "#EBF0F8",
            "showbackground": true,
            "ticks": "",
            "zerolinecolor": "#EBF0F8"
           },
           "zaxis": {
            "backgroundcolor": "white",
            "gridcolor": "#DFE8F3",
            "gridwidth": 2,
            "linecolor": "#EBF0F8",
            "showbackground": true,
            "ticks": "",
            "zerolinecolor": "#EBF0F8"
           }
          },
          "shapedefaults": {
           "line": {
            "color": "#2a3f5f"
           }
          },
          "ternary": {
           "aaxis": {
            "gridcolor": "#DFE8F3",
            "linecolor": "#A2B1C6",
            "ticks": ""
           },
           "baxis": {
            "gridcolor": "#DFE8F3",
            "linecolor": "#A2B1C6",
            "ticks": ""
           },
           "bgcolor": "white",
           "caxis": {
            "gridcolor": "#DFE8F3",
            "linecolor": "#A2B1C6",
            "ticks": ""
           }
          },
          "title": {
           "x": 0.05
          },
          "xaxis": {
           "automargin": true,
           "gridcolor": "#EBF0F8",
           "linecolor": "#EBF0F8",
           "ticks": "",
           "zerolinecolor": "#EBF0F8",
           "zerolinewidth": 2
          },
          "yaxis": {
           "automargin": true,
           "gridcolor": "#EBF0F8",
           "linecolor": "#EBF0F8",
           "ticks": "",
           "zerolinecolor": "#EBF0F8",
           "zerolinewidth": 2
          }
         }
        },
        "width": 600
       }
      },
      "text/html": [
       "<div>\n",
       "        \n",
       "        \n",
       "            <div id=\"6cdef68b-cec0-450c-9d25-ea5ad7eba6de\" class=\"plotly-graph-div\" style=\"height:600px; width:600px;\"></div>\n",
       "            <script type=\"text/javascript\">\n",
       "                require([\"plotly\"], function(Plotly) {\n",
       "                    window.PLOTLYENV=window.PLOTLYENV || {};\n",
       "                    \n",
       "                if (document.getElementById(\"6cdef68b-cec0-450c-9d25-ea5ad7eba6de\")) {\n",
       "                    Plotly.newPlot(\n",
       "                        '6cdef68b-cec0-450c-9d25-ea5ad7eba6de',\n",
       "                        [{\"box\": {\"visible\": true}, \"jitter\": 0.1, \"legendgroup\": \"user data\", \"line\": {\"color\": \"green\"}, \"meanline\": {\"visible\": true}, \"name\": \"user data\", \"pointpos\": -0.5, \"points\": \"all\", \"scalegroup\": \"user data\", \"side\": \"negative\", \"type\": \"violin\", \"x\": [\"gsr_x\", \"gsr_x\", \"gsr_x\", \"gsr_x\", \"gsr_x\", \"gsr_x\", \"gsr_x\", \"gsr_x\", \"gsr_x\", \"gsr_x\", \"gsr_x\", \"gsr_x\", \"gsr_x\", \"gsr_x\", \"gsr_x\", \"gsr_x\", \"gsr_x\", \"gsr_x\", \"gsr_x\", \"gsr_x\", \"gsr_x\", \"gsr_x\", \"gsr_x\", \"gsr_x\", \"gsr_x\", \"gsr_x\", \"gsr_x\", \"gsr_x\", \"gsr_x\", \"gsr_x\", \"gsr_x\", \"gsr_x\", \"gsr_x\", \"gsr_x\", \"gsr_x\", \"gsr_x\", \"gsr_x\", \"gsr_x\", \"gsr_x\", \"gsr_x\", \"gsr_x\", \"gsr_x\", \"gsr_x\", \"gsr_x\", \"gsr_x\", \"gsr_x\", \"gsr_x\", \"gsr_x\", \"gsr_x\", \"gsr_x\", \"gsr_x\", \"gsr_x\", \"gsr_x\", \"gsr_x\", \"gsr_x\", \"gsr_x\", \"gsr_x\", \"gsr_x\", \"gsr_x\", \"gsr_x\", \"gsr_x\", \"gsr_x\", \"gsr_x\", \"gsr_x\", \"gsr_x\", \"gsr_x\", \"gsr_x\", \"gsr_x\", \"gsr_x\", \"gsr_x\", \"gsr_x\", \"gsr_x\", \"gsr_x\", \"gsr_x\", \"gsr_x\", \"gsr_x\", \"gsr_x\", \"gsr_x\", \"gsr_x\", \"gsr_x\", \"gsr_x\", \"gsr_x\", \"gsr_x\", \"gsr_x\", \"gsr_x\", \"gsr_x\", \"gsr_x\", \"gsr_x\", \"gsr_x\", \"gsr_x\", \"gsr_x\", \"gsr_x\", \"gsr_x\", \"gsr_x\", \"gsr_x\", \"gsr_x\", \"gsr_x\", \"gsr_x\", \"gsr_x\", \"gsr_x\", \"gsr_x\", \"gsr_x\", \"gsr_x\", \"gsr_x\", \"gsr_x\", \"gsr_x\", \"gsr_x\", \"gsr_x\", \"gsr_x\", \"gsr_x\", \"gsr_x\", \"gsr_x\", \"gsr_x\", \"gsr_x\", \"gsr_x\", \"gsr_x\", \"gsr_x\", \"gsr_x\", \"gsr_x\", \"gsr_x\", \"gsr_x\", \"gsr_x\", \"gsr_x\", \"gsr_x\", \"gsr_x\", \"gsr_x\", \"gsr_x\", \"gsr_x\", \"gsr_x\", \"gsr_x\", \"gsr_x\", \"gsr_x\", \"gsr_x\", \"gsr_x\", \"gsr_x\", \"gsr_x\", \"gsr_x\", \"gsr_x\", \"gsr_x\", \"gsr_x\", \"gsr_x\", \"gsr_x\"], \"y\": [-0.007538214791566133, -0.001472516916692257, -0.01232977770268917, -0.0005424129776656628, -0.012646332383155823, 0.0023679924197494984, -0.0064981537871062756, -0.008638325147330761, -0.005289119202643633, -0.009563504718244076, -0.0017556188395246866, -0.00962173193693161, -0.0037195836193859577, -0.010002223774790764, -0.0010223796125501394, -0.0012709791772067547, -0.007876266725361347, -0.005061266478151083, -0.00921840965747833, -0.0045847841538488865, -0.0019027274101972578, 0.0005789826391264796, -0.006825230550020933, -8.427180728176609e-05, -0.004672817420214415, -0.011449270881712437, -0.008729318156838417, -0.006240564864128828, -0.005679631605744362, -0.0070322728715837, -0.0013728170888498425, -0.008689427748322487, -0.0040224501863121995, -0.010274404659867287, -0.011335646733641623, -0.005000464152544737, -0.0062630707398056975, -0.002018240513280034, 0.004633860196918249, -0.002851167926564813, -0.011507459916174412, -0.010126687586307527, -0.007210263051092625, 0.003682762384414673, -0.004443656653165817, -0.005799361504614353, -0.012078788131475449, -0.0057303267531096935, -0.007755097467452288, -0.005563938058912754, -0.0016751112416386606, 0.0059374067932367325, -0.008767045103013515, -0.0037366263568401337, -0.0059638828970491895, 0.0015834789955988526, -0.006224475335329771, 0.003074526553973556, -0.01009182445704937, -0.0097224535420537, -0.0021219768095761533, -0.006038034800440073, -0.0054875323548913, -0.0013143694959580898, -0.003577492898330092, -0.013295055367052557, -0.0005615365807898343, -0.005621450487524271, -0.002485934179276228, -0.007001439575105906, -0.003296980867162347, -0.006681856233626604, -0.008455702103674412, -0.009934491477906704, -0.012630493380129336, -0.0013499086489900947, -2.20109704969218e-05, -0.0017229347722604869, -0.010400661267340185, -0.007411031518131494, -0.009711107239127159, -0.00890070665627718, -0.01223214715719223, 0.0010162059916183352, -0.00591382198035717, 0.004266278818249703, -0.015414318069815637, -0.00969884917140007, -0.008956965059041977, -0.00407880824059248, -0.008179938420653343, -0.0010091287549585104, -0.0018498095450922847, 0.00019504534429870543, -0.0069770063273608685, -0.0004772658285219223, -0.009523418731987476, -0.00982247106730938, 0.0076361531391739845, -0.006156759336590767, -0.004232607316225767, -0.007264889311045407, 0.006134028546512127, -0.0019392801914364102, -0.010594409890472887, -0.001125997630879283, -0.0013986967969685793, -0.008328407071530819, -0.013282529078423977, -0.006895745173096657, -0.0031397554557770486, -0.007913151755928993, 0.0013203656999394298, -0.003722521709278226, -0.009770996868610382, -0.014640089124441147, -0.011371499858796595, -0.005615714471787214, -0.01941816322505474, -0.0074281864799559125, -0.008173841051757336, -0.020055608823895454, -0.011680805124342442, -0.010693524032831192, -0.01662053540349007, -0.004478473216295242, 0.0007528014830313622, -0.005044088698923589, 0.0008375364122912287, -0.0054621389135718346, -0.005195640493184328, -0.0052082049660384655, -0.01785220019519329, -0.012093456462025642, -0.00502501055598259, -0.006960020866245031, -0.007374613080173731, -0.0042227646335959435, 0.0005715967854484916, -0.005760808475315571, 0.004121115896850824, -0.007422684691846371]}, {\"box\": {\"visible\": true}, \"legendgroup\": \"api\", \"line\": {\"color\": \"gray\"}, \"meanline\": {\"visible\": true}, \"name\": \"api\", \"scalegroup\": \"api\", \"side\": \"positive\", \"type\": \"violin\", \"x\": [\"gsr_x\", \"gsr_x\", \"gsr_x\", \"gsr_x\", \"gsr_x\", \"gsr_x\", \"gsr_x\", \"gsr_x\", \"gsr_x\", \"gsr_x\", \"gsr_x\", \"gsr_x\", \"gsr_x\", \"gsr_x\", \"gsr_x\", \"gsr_x\", \"gsr_x\", \"gsr_x\", \"gsr_x\", \"gsr_x\", \"gsr_x\", \"gsr_x\", \"gsr_x\", \"gsr_x\", \"gsr_x\", \"gsr_x\", \"gsr_x\", \"gsr_x\", \"gsr_x\", \"gsr_x\", \"gsr_x\", \"gsr_x\", \"gsr_x\", \"gsr_x\", \"gsr_x\", \"gsr_x\", \"gsr_x\", \"gsr_x\", \"gsr_x\", \"gsr_x\", \"gsr_x\", \"gsr_x\", \"gsr_x\", \"gsr_x\", \"gsr_x\", \"gsr_x\", \"gsr_x\", \"gsr_x\", \"gsr_x\", \"gsr_x\", \"gsr_x\", \"gsr_x\", \"gsr_x\", \"gsr_x\", \"gsr_x\", \"gsr_x\", \"gsr_x\", \"gsr_x\", \"gsr_x\", \"gsr_x\", \"gsr_x\", \"gsr_x\", \"gsr_x\", \"gsr_x\", \"gsr_x\", \"gsr_x\", \"gsr_x\", \"gsr_x\", \"gsr_x\", \"gsr_x\", \"gsr_x\", \"gsr_x\", \"gsr_x\", \"gsr_x\", \"gsr_x\", \"gsr_x\", \"gsr_x\", \"gsr_x\", \"gsr_x\", \"gsr_x\", \"gsr_x\", \"gsr_x\", \"gsr_x\", \"gsr_x\", \"gsr_x\", \"gsr_x\", \"gsr_x\", \"gsr_x\", \"gsr_x\", \"gsr_x\", \"gsr_x\", \"gsr_x\", \"gsr_x\", \"gsr_x\", \"gsr_x\", \"gsr_x\", \"gsr_x\", \"gsr_x\", \"gsr_x\", \"gsr_x\", \"gsr_x\", \"gsr_x\", \"gsr_x\", \"gsr_x\", \"gsr_x\", \"gsr_x\", \"gsr_x\", \"gsr_x\", \"gsr_x\", \"gsr_x\", \"gsr_x\", \"gsr_x\", \"gsr_x\", \"gsr_x\", \"gsr_x\", \"gsr_x\", \"gsr_x\", \"gsr_x\", \"gsr_x\", \"gsr_x\", \"gsr_x\", \"gsr_x\", \"gsr_x\", \"gsr_x\", \"gsr_x\", \"gsr_x\", \"gsr_x\", \"gsr_x\", \"gsr_x\", \"gsr_x\", \"gsr_x\", \"gsr_x\", \"gsr_x\", \"gsr_x\", \"gsr_x\", \"gsr_x\", \"gsr_x\", \"gsr_x\", \"gsr_x\", \"gsr_x\", \"gsr_x\", \"gsr_x\", \"gsr_x\", \"gsr_x\", \"gsr_x\", \"gsr_x\", \"gsr_x\", \"gsr_x\", \"gsr_x\", \"gsr_x\", \"gsr_x\", \"gsr_x\", \"gsr_x\", \"gsr_x\", \"gsr_x\", \"gsr_x\", \"gsr_x\", \"gsr_x\", \"gsr_x\", \"gsr_x\", \"gsr_x\", \"gsr_x\", \"gsr_x\", \"gsr_x\", \"gsr_x\", \"gsr_x\", \"gsr_x\", \"gsr_x\", \"gsr_x\", \"gsr_x\", \"gsr_x\", \"gsr_x\", \"gsr_x\", \"gsr_x\", \"gsr_x\", \"gsr_x\", \"gsr_x\", \"gsr_x\", \"gsr_x\", \"gsr_x\", \"gsr_x\", \"gsr_x\", \"gsr_x\", \"gsr_x\", \"gsr_x\", \"gsr_x\", \"gsr_x\", \"gsr_x\", \"gsr_x\", \"gsr_x\", \"gsr_x\", \"gsr_x\", \"gsr_x\", \"gsr_x\", \"gsr_x\", \"gsr_x\", \"gsr_x\", \"gsr_x\", \"gsr_x\", \"gsr_x\", \"gsr_x\", \"gsr_x\", \"gsr_x\"], \"y\": [-0.004388595, -0.014179548, -0.00817797, -0.004071336, -0.006430801999999999, -0.0064224930000000005, -0.002625437, -0.0023236, -0.010839082, -0.001658039, -0.009982381, -0.011722035, -0.013323725, -0.0041057640000000005, -0.009406053000000001, -0.014948274, -0.015178167, -0.010694163000000001, -0.009576425999999999, -0.006208715, 0.0034209979999999997, -0.002489553, -0.005416703, -0.001193504, -0.007594298, -0.009954087, 0.0012021339999999999, -0.010638928999999998, -0.008560343, -0.010774118000000001, -0.018794468, -0.006433104, -0.010662608999999998, -0.011277191, -0.015838408999999998, -0.011075769, -0.014883775, -0.014914688, -0.003258321, -0.004107052, -0.008788493, -0.002745767, -0.013904258000000001, -0.00886409, -0.00577379, -0.008597889000000001, -0.01461459, -0.008305917, -0.006783765, -0.010447122, -0.00403266, -0.004080265, -0.005683417, -0.002415698, -0.006020498000000001, -0.002659165, -0.004417923, -0.008349681, -0.0051493220000000004, -0.015667681, -0.007386045999999999, -0.008120795, -0.009587898000000001, -0.009652188, -0.005786014, -0.010583308, -0.003956428, -0.006237619, -0.001281944, -0.012873736, -0.014238006000000001, -0.004259376, -0.011553777, -0.01175067, -0.008212719, 0.000668011, -0.011191965, -0.004027142, -9.84e-05, -0.010017406999999999, -0.0050766959999999995, -0.012819305, -0.004133752, -0.005765415, -0.015879916, -0.006497017, -0.014664876, -0.010236577, -0.009999248, -0.010366835, -0.008555724, -0.011112535, -0.008548478, -0.004230287, -0.011136158, -0.011837398, -0.0008218260000000001, -0.003755288, -0.013416225, -0.0019154110000000001, -0.0023574729999999997, -0.014050196000000001, -0.015516759, -0.011186286, -0.010585347, -0.014667129, -0.010619021999999999, -0.000342046, -0.006797809, -0.003984368, -0.013024213, -0.005791863, -0.01060882, -0.010166478, -0.004104229, -0.0018331, -0.008236405, -0.00656041, -0.01293795, -0.014544656999999999, -0.000532669, -0.00539629, -0.015087333, -0.005225858, -0.0018333720000000002, -0.01072104, -0.011761188, -0.013549573, -0.006752083000000001, -0.014510782, -0.001799184, -0.005943188, -0.013977113999999999, 0.00038098900000000003, -0.005459473, -0.01002281, -0.014502049, -0.003889546, 0.000885138, -0.000625015, 0.0039129759999999994, -0.011010245, 0.003087634, -0.010726138999999999, -0.006404015, -0.000955453, -0.015238478, 0.003565192, -0.014511246, -0.014145368, -0.008547273000000001, -0.0019289020000000001, -0.006500654, -0.006427399, -0.0013711560000000001, -0.0052840230000000005, -0.010130323, -0.009031468, -0.005866257, -0.0016487020000000002, -0.006782164, -0.010348304000000001, -0.008703127, -0.004281722, 0.0006821069999999999, -0.008370355999999999, -0.0039979659999999995, -0.015608259, -0.014294178999999999, -0.013789333, -0.013213996, -0.012943946999999999, -0.013213996, -0.012943946999999999, 0.00025065, -0.001213177, -0.0016660689999999998, -0.001752371, -0.002712842, -0.001039877, -0.001290692, -0.000221677, 0.000487558, -7.070000000000001e-05, -8.149999999999999e-05, -0.001956891, -0.0017368070000000002, -0.0014999420000000002, -0.0018062929999999998, -0.000403231, -0.001994735, -0.0012452189999999999, 0.0006649389999999999, 0.003952865, 0.002048884, 0.002804173, 0.0015349489999999999, 0.004611609, 0.004109768, 0.002470532, 0.011095935, null, 0.010344701999999999]}],\n",
       "                        {\"autosize\": false, \"height\": 600, \"template\": {\"data\": {\"bar\": [{\"error_x\": {\"color\": \"#2a3f5f\"}, \"error_y\": {\"color\": \"#2a3f5f\"}, \"marker\": {\"line\": {\"color\": \"white\", \"width\": 0.5}}, \"type\": \"bar\"}], \"barpolar\": [{\"marker\": {\"line\": {\"color\": \"white\", \"width\": 0.5}}, \"type\": \"barpolar\"}], \"carpet\": [{\"aaxis\": {\"endlinecolor\": \"#2a3f5f\", \"gridcolor\": \"#C8D4E3\", \"linecolor\": \"#C8D4E3\", \"minorgridcolor\": \"#C8D4E3\", \"startlinecolor\": \"#2a3f5f\"}, \"baxis\": {\"endlinecolor\": \"#2a3f5f\", \"gridcolor\": \"#C8D4E3\", \"linecolor\": \"#C8D4E3\", \"minorgridcolor\": \"#C8D4E3\", \"startlinecolor\": \"#2a3f5f\"}, \"type\": \"carpet\"}], \"choropleth\": [{\"colorbar\": {\"outlinewidth\": 0, \"ticks\": \"\"}, \"type\": \"choropleth\"}], \"contour\": [{\"colorbar\": {\"outlinewidth\": 0, \"ticks\": \"\"}, \"colorscale\": [[0.0, \"#0d0887\"], [0.1111111111111111, \"#46039f\"], [0.2222222222222222, \"#7201a8\"], [0.3333333333333333, \"#9c179e\"], [0.4444444444444444, \"#bd3786\"], [0.5555555555555556, \"#d8576b\"], [0.6666666666666666, \"#ed7953\"], [0.7777777777777778, \"#fb9f3a\"], [0.8888888888888888, \"#fdca26\"], [1.0, \"#f0f921\"]], \"type\": \"contour\"}], \"contourcarpet\": [{\"colorbar\": {\"outlinewidth\": 0, \"ticks\": \"\"}, \"type\": \"contourcarpet\"}], \"heatmap\": [{\"colorbar\": {\"outlinewidth\": 0, \"ticks\": \"\"}, \"colorscale\": [[0.0, \"#0d0887\"], [0.1111111111111111, \"#46039f\"], [0.2222222222222222, \"#7201a8\"], [0.3333333333333333, \"#9c179e\"], [0.4444444444444444, \"#bd3786\"], [0.5555555555555556, \"#d8576b\"], [0.6666666666666666, \"#ed7953\"], [0.7777777777777778, \"#fb9f3a\"], [0.8888888888888888, \"#fdca26\"], [1.0, \"#f0f921\"]], \"type\": \"heatmap\"}], \"heatmapgl\": [{\"colorbar\": {\"outlinewidth\": 0, \"ticks\": \"\"}, \"colorscale\": [[0.0, \"#0d0887\"], [0.1111111111111111, \"#46039f\"], [0.2222222222222222, \"#7201a8\"], [0.3333333333333333, \"#9c179e\"], [0.4444444444444444, \"#bd3786\"], [0.5555555555555556, \"#d8576b\"], [0.6666666666666666, \"#ed7953\"], [0.7777777777777778, \"#fb9f3a\"], [0.8888888888888888, \"#fdca26\"], [1.0, \"#f0f921\"]], \"type\": \"heatmapgl\"}], \"histogram\": [{\"marker\": {\"colorbar\": {\"outlinewidth\": 0, \"ticks\": \"\"}}, \"type\": \"histogram\"}], \"histogram2d\": [{\"colorbar\": {\"outlinewidth\": 0, \"ticks\": \"\"}, \"colorscale\": [[0.0, \"#0d0887\"], [0.1111111111111111, \"#46039f\"], [0.2222222222222222, \"#7201a8\"], [0.3333333333333333, \"#9c179e\"], [0.4444444444444444, \"#bd3786\"], [0.5555555555555556, \"#d8576b\"], [0.6666666666666666, \"#ed7953\"], [0.7777777777777778, \"#fb9f3a\"], [0.8888888888888888, \"#fdca26\"], [1.0, \"#f0f921\"]], \"type\": \"histogram2d\"}], \"histogram2dcontour\": [{\"colorbar\": {\"outlinewidth\": 0, \"ticks\": \"\"}, \"colorscale\": [[0.0, \"#0d0887\"], [0.1111111111111111, \"#46039f\"], [0.2222222222222222, \"#7201a8\"], [0.3333333333333333, \"#9c179e\"], [0.4444444444444444, \"#bd3786\"], [0.5555555555555556, \"#d8576b\"], [0.6666666666666666, \"#ed7953\"], [0.7777777777777778, \"#fb9f3a\"], [0.8888888888888888, \"#fdca26\"], [1.0, \"#f0f921\"]], \"type\": \"histogram2dcontour\"}], \"mesh3d\": [{\"colorbar\": {\"outlinewidth\": 0, \"ticks\": \"\"}, \"type\": \"mesh3d\"}], \"parcoords\": [{\"line\": {\"colorbar\": {\"outlinewidth\": 0, \"ticks\": \"\"}}, \"type\": \"parcoords\"}], \"scatter\": [{\"marker\": {\"colorbar\": {\"outlinewidth\": 0, \"ticks\": \"\"}}, \"type\": \"scatter\"}], \"scatter3d\": [{\"line\": {\"colorbar\": {\"outlinewidth\": 0, \"ticks\": \"\"}}, \"marker\": {\"colorbar\": {\"outlinewidth\": 0, \"ticks\": \"\"}}, \"type\": \"scatter3d\"}], \"scattercarpet\": [{\"marker\": {\"colorbar\": {\"outlinewidth\": 0, \"ticks\": \"\"}}, \"type\": \"scattercarpet\"}], \"scattergeo\": [{\"marker\": {\"colorbar\": {\"outlinewidth\": 0, \"ticks\": \"\"}}, \"type\": \"scattergeo\"}], \"scattergl\": [{\"marker\": {\"colorbar\": {\"outlinewidth\": 0, \"ticks\": \"\"}}, \"type\": \"scattergl\"}], \"scattermapbox\": [{\"marker\": {\"colorbar\": {\"outlinewidth\": 0, \"ticks\": \"\"}}, \"type\": \"scattermapbox\"}], \"scatterpolar\": [{\"marker\": {\"colorbar\": {\"outlinewidth\": 0, \"ticks\": \"\"}}, \"type\": \"scatterpolar\"}], \"scatterpolargl\": [{\"marker\": {\"colorbar\": {\"outlinewidth\": 0, \"ticks\": \"\"}}, \"type\": \"scatterpolargl\"}], \"scatterternary\": [{\"marker\": {\"colorbar\": {\"outlinewidth\": 0, \"ticks\": \"\"}}, \"type\": \"scatterternary\"}], \"surface\": [{\"colorbar\": {\"outlinewidth\": 0, \"ticks\": \"\"}, \"colorscale\": [[0.0, \"#0d0887\"], [0.1111111111111111, \"#46039f\"], [0.2222222222222222, \"#7201a8\"], [0.3333333333333333, \"#9c179e\"], [0.4444444444444444, \"#bd3786\"], [0.5555555555555556, \"#d8576b\"], [0.6666666666666666, \"#ed7953\"], [0.7777777777777778, \"#fb9f3a\"], [0.8888888888888888, \"#fdca26\"], [1.0, \"#f0f921\"]], \"type\": \"surface\"}], \"table\": [{\"cells\": {\"fill\": {\"color\": \"#EBF0F8\"}, \"line\": {\"color\": \"white\"}}, \"header\": {\"fill\": {\"color\": \"#C8D4E3\"}, \"line\": {\"color\": \"white\"}}, \"type\": \"table\"}]}, \"layout\": {\"annotationdefaults\": {\"arrowcolor\": \"#2a3f5f\", \"arrowhead\": 0, \"arrowwidth\": 1}, \"colorscale\": {\"diverging\": [[0, \"#8e0152\"], [0.1, \"#c51b7d\"], [0.2, \"#de77ae\"], [0.3, \"#f1b6da\"], [0.4, \"#fde0ef\"], [0.5, \"#f7f7f7\"], [0.6, \"#e6f5d0\"], [0.7, \"#b8e186\"], [0.8, \"#7fbc41\"], [0.9, \"#4d9221\"], [1, \"#276419\"]], \"sequential\": [[0.0, \"#0d0887\"], [0.1111111111111111, \"#46039f\"], [0.2222222222222222, \"#7201a8\"], [0.3333333333333333, \"#9c179e\"], [0.4444444444444444, \"#bd3786\"], [0.5555555555555556, \"#d8576b\"], [0.6666666666666666, \"#ed7953\"], [0.7777777777777778, \"#fb9f3a\"], [0.8888888888888888, \"#fdca26\"], [1.0, \"#f0f921\"]], \"sequentialminus\": [[0.0, \"#0d0887\"], [0.1111111111111111, \"#46039f\"], [0.2222222222222222, \"#7201a8\"], [0.3333333333333333, \"#9c179e\"], [0.4444444444444444, \"#bd3786\"], [0.5555555555555556, \"#d8576b\"], [0.6666666666666666, \"#ed7953\"], [0.7777777777777778, \"#fb9f3a\"], [0.8888888888888888, \"#fdca26\"], [1.0, \"#f0f921\"]]}, \"colorway\": [\"#636efa\", \"#EF553B\", \"#00cc96\", \"#ab63fa\", \"#FFA15A\", \"#19d3f3\", \"#FF6692\", \"#B6E880\", \"#FF97FF\", \"#FECB52\"], \"font\": {\"color\": \"#2a3f5f\"}, \"geo\": {\"bgcolor\": \"white\", \"lakecolor\": \"white\", \"landcolor\": \"white\", \"showlakes\": true, \"showland\": true, \"subunitcolor\": \"#C8D4E3\"}, \"hoverlabel\": {\"align\": \"left\"}, \"hovermode\": \"closest\", \"mapbox\": {\"style\": \"light\"}, \"paper_bgcolor\": \"white\", \"plot_bgcolor\": \"white\", \"polar\": {\"angularaxis\": {\"gridcolor\": \"#EBF0F8\", \"linecolor\": \"#EBF0F8\", \"ticks\": \"\"}, \"bgcolor\": \"white\", \"radialaxis\": {\"gridcolor\": \"#EBF0F8\", \"linecolor\": \"#EBF0F8\", \"ticks\": \"\"}}, \"scene\": {\"xaxis\": {\"backgroundcolor\": \"white\", \"gridcolor\": \"#DFE8F3\", \"gridwidth\": 2, \"linecolor\": \"#EBF0F8\", \"showbackground\": true, \"ticks\": \"\", \"zerolinecolor\": \"#EBF0F8\"}, \"yaxis\": {\"backgroundcolor\": \"white\", \"gridcolor\": \"#DFE8F3\", \"gridwidth\": 2, \"linecolor\": \"#EBF0F8\", \"showbackground\": true, \"ticks\": \"\", \"zerolinecolor\": \"#EBF0F8\"}, \"zaxis\": {\"backgroundcolor\": \"white\", \"gridcolor\": \"#DFE8F3\", \"gridwidth\": 2, \"linecolor\": \"#EBF0F8\", \"showbackground\": true, \"ticks\": \"\", \"zerolinecolor\": \"#EBF0F8\"}}, \"shapedefaults\": {\"line\": {\"color\": \"#2a3f5f\"}}, \"ternary\": {\"aaxis\": {\"gridcolor\": \"#DFE8F3\", \"linecolor\": \"#A2B1C6\", \"ticks\": \"\"}, \"baxis\": {\"gridcolor\": \"#DFE8F3\", \"linecolor\": \"#A2B1C6\", \"ticks\": \"\"}, \"bgcolor\": \"white\", \"caxis\": {\"gridcolor\": \"#DFE8F3\", \"linecolor\": \"#A2B1C6\", \"ticks\": \"\"}}, \"title\": {\"x\": 0.05}, \"xaxis\": {\"automargin\": true, \"gridcolor\": \"#EBF0F8\", \"linecolor\": \"#EBF0F8\", \"ticks\": \"\", \"zerolinecolor\": \"#EBF0F8\", \"zerolinewidth\": 2}, \"yaxis\": {\"automargin\": true, \"gridcolor\": \"#EBF0F8\", \"linecolor\": \"#EBF0F8\", \"ticks\": \"\", \"zerolinecolor\": \"#EBF0F8\", \"zerolinewidth\": 2}}}, \"width\": 600},\n",
       "                        {\"responsive\": true}\n",
       "                    ).then(function(){\n",
       "                            \n",
       "var gd = document.getElementById('6cdef68b-cec0-450c-9d25-ea5ad7eba6de');\n",
       "var x = new MutationObserver(function (mutations, observer) {{\n",
       "        var display = window.getComputedStyle(gd).display;\n",
       "        if (!display || display === 'none') {{\n",
       "            console.log([gd, 'removed!']);\n",
       "            Plotly.purge(gd);\n",
       "            observer.disconnect();\n",
       "        }}\n",
       "}});\n",
       "\n",
       "// Listen for the removal of the full notebook cells\n",
       "var notebookContainer = gd.closest('#notebook-container');\n",
       "if (notebookContainer) {{\n",
       "    x.observe(notebookContainer, {childList: true});\n",
       "}}\n",
       "\n",
       "// Listen for the clearing of the current output cell\n",
       "var outputEl = gd.closest('.output');\n",
       "if (outputEl) {{\n",
       "    x.observe(outputEl, {childList: true});\n",
       "}}\n",
       "\n",
       "                        })\n",
       "                };\n",
       "                });\n",
       "            </script>\n",
       "        </div>"
      ]
     },
     "metadata": {},
     "output_type": "display_data"
    }
   ],
   "source": [
    "# Visualization # \n",
    "\n",
    "# Create a violin plot of each MRIQC metric, comparing user level-data to API data \n",
    "# Also will print out a short description of the measure and what the appropriate range/values should be \n",
    "# Input the merged dataframe including the API and user data\n",
    "# Optional arguments include a list of specific variables that the user wants displayed \n",
    "# If no optional arguments included, will plot all measures \n",
    "\n",
    "v = make_vio_plot(vis_ready_df,IQM_to_plot)\n",
    "\n"
   ]
  },
  {
   "cell_type": "code",
   "execution_count": null,
   "metadata": {},
   "outputs": [],
   "source": []
  }
 ],
 "metadata": {
  "kernelspec": {
   "display_name": "Python 3",
   "language": "python",
   "name": "python3"
  },
  "language_info": {
   "codemirror_mode": {
    "name": "ipython",
    "version": 3
   },
   "file_extension": ".py",
   "mimetype": "text/x-python",
   "name": "python",
   "nbconvert_exporter": "python",
   "pygments_lexer": "ipython3",
   "version": "3.7.3"
  }
 },
 "nbformat": 4,
 "nbformat_minor": 2
}
